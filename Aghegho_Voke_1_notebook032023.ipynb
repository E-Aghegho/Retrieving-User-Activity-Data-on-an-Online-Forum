{
 "cells": [
  {
   "cell_type": "markdown",
   "metadata": {},
   "source": [
    "# ChatData\n",
    "\n",
    "## Sqlite\n",
    "We are using a file system called **sqlite**. It looks and acts like a real single user relational database (RDB). sqlite3 comes packaged with python. You do not need to install the library. You simply import it (as below).\n",
    "\n",
    "- We are using Pandas to write and read to sqlite. Pandas will manage a lot of the complexity of dealing with a RDB. There are other ways of reading and writing to a RDB that are VERY common and often used in production systems.  \n",
    "\n",
    "- The most common other way is to read or write to the RDB row by row. As you can see Pandas puts the entire dataframe into the RDB or extracts a new dataframe from the RDB. These are not row by row operations. These are set operations. Set operations ARE more efficient. However, it is common to use row by row operations to avoid needing large memory computers to hold the dataframes. One row only takes a few bytes. An entire dataframe could be many gigabytes and even petabytes of data. Obviously you will end up with problems with your compute resource if your files are this big. This will not happen to you in this activity and may never happen to you while you are a data analyst. Please just be aware of this. \n",
    "\n",
    "- This activity is primarily about querying a RDB, so, we are using a simple way that Pandas provides. If you want to learn the more complex way, just google 'reading and wrting to a relational database using python'. There are many resources to learn from.\n",
    "\n",
    "- The data types that sqlite supports are quite limited. for example, it does not have a DATE type.  This is not a challenge for this project. However, more sophisticated database systems,such as Postgresql, have a large array of data types, such as \"DATE\", etc. that give those systems additional capability. \n",
    "\n",
    "- All of the SQL queries could also be performed on the Pandas DataFrames directly.  You may want to try this yourself for comparison (but make sure you do the SQL queries first, as this is an exercise in using SQL!).\n",
    "\n",
    "\n",
    "## SQL Magic\n",
    "Within the Jupyter notebook we will be using something called **SQL Magic**.  This provides a convenient way to write SQL queries directly into code cells in the notebook and to read the results back into a Pandas DataFrame.  This makes working with SQL much easier!\n",
    "\n",
    "Note that you may need to update your sqlite version using `conda update -c anaconda sqlite` in order for the SQL Magic to work correctly.\n",
    "\n",
    "## The Data Analysis Lifecycle\n",
    "The sections in this notebook follow the stages of the Data Analysis Lifecycle introduced in an earlier activity.  The stages are:\n",
    "\n",
    "- Acquire\n",
    "- Transform\n",
    "- Organise\n",
    "- Analyse\n",
    "- Communicate\n",
    "- Maintain\n"
   ]
  },
  {
   "cell_type": "markdown",
   "metadata": {},
   "source": [
    "The requirements document for this project is Template SQL queries.xlsx."
   ]
  },
  {
   "cell_type": "markdown",
   "metadata": {},
   "source": [
    "# Preliminary Steps: Create a Database\n",
    "First let's import Sqlite and the other libraries we will need."
   ]
  },
  {
   "cell_type": "code",
   "execution_count": 1,
   "metadata": {},
   "outputs": [],
   "source": [
    "# Import Libraries\n",
    "import numpy as np\n",
    "import pandas as pd\n",
    "import sqlite3"
   ]
  },
  {
   "cell_type": "markdown",
   "metadata": {},
   "source": [
    "### Create the Database\n",
    "Now we will create the Sqlite database.  Here is some code that does this for you.  We use the `%load_ext` magic command to load the SQL Magic extension and then use `%sql` to connect to the database."
   ]
  },
  {
   "cell_type": "code",
   "execution_count": 2,
   "metadata": {
    "scrolled": true
   },
   "outputs": [],
   "source": [
    "# If the db does not exist, sqlite will create it.\n",
    "con = sqlite3.connect('chatdata.db')\n",
    "\n",
    "# loads sql magic\n",
    "%load_ext sql\n",
    "\n",
    "# connects sql magic command to the correct db\n",
    "%sql sqlite:///chatdata.db "
   ]
  },
  {
   "cell_type": "markdown",
   "metadata": {},
   "source": [
    "#### Drop the `queries` table if it already exists\n",
    "The queries table will be our record of the queries created to answer the questions from the requirements spreadsheet.  As we will be running this Jupyter notebook a few times, let's drop (i.e. remove) the queries table so that we start fresh each time.  Here is the code to do this.  We use the `%%sql` magic command to tell Jupyter that we are going to write SQL in the cell.\n"
   ]
  },
  {
   "cell_type": "code",
   "execution_count": 3,
   "metadata": {},
   "outputs": [
    {
     "name": "stdout",
     "output_type": "stream",
     "text": [
      " * sqlite:///chatdata.db\n",
      "Done.\n"
     ]
    },
    {
     "data": {
      "text/plain": [
       "[]"
      ]
     },
     "execution_count": 3,
     "metadata": {},
     "output_type": "execute_result"
    }
   ],
   "source": [
    "%%sql\n",
    "DROP TABLE IF EXISTS 'queries'"
   ]
  },
  {
   "cell_type": "markdown",
   "metadata": {},
   "source": [
    "# Task 1: Load the Data\n",
    "Now we can start loading the data.  The tables will be created as we load the data.  \n",
    "\n",
    "Note that some of these files are quite large, so make sure you have plenty of free memory!"
   ]
  },
  {
   "cell_type": "markdown",
   "metadata": {},
   "source": [
    "## Lifecycle Stages: Transform and Organise\n",
    "The data has already been processed into 3 clean data files ready for this project:\n",
    "\n",
    "- queries.csv\n",
    "- posts.csv\n",
    "- comments.csv\n",
    "\n",
    "We will load these files into our database."
   ]
  },
  {
   "cell_type": "markdown",
   "metadata": {},
   "source": [
    "## Lifecycle Stage: Acquire\n",
    "The data can be found in the OpenClassrooms instructions for this activity."
   ]
  },
  {
   "cell_type": "markdown",
   "metadata": {},
   "source": [
    "### Load Comments Data into a `comments` table\n",
    "Now we will load the data from the csv files into our sqlite database.\n",
    "\n",
    "First we load the csv file into a Pandas dataframe:"
   ]
  },
  {
   "cell_type": "code",
   "execution_count": 4,
   "metadata": {},
   "outputs": [
    {
     "data": {
      "text/html": [
       "<div>\n",
       "<style scoped>\n",
       "    .dataframe tbody tr th:only-of-type {\n",
       "        vertical-align: middle;\n",
       "    }\n",
       "\n",
       "    .dataframe tbody tr th {\n",
       "        vertical-align: top;\n",
       "    }\n",
       "\n",
       "    .dataframe thead th {\n",
       "        text-align: right;\n",
       "    }\n",
       "</style>\n",
       "<table border=\"1\" class=\"dataframe\">\n",
       "  <thead>\n",
       "    <tr style=\"text-align: right;\">\n",
       "      <th></th>\n",
       "      <th>Id</th>\n",
       "      <th>PostId</th>\n",
       "      <th>Score</th>\n",
       "      <th>Text</th>\n",
       "      <th>CreationDate</th>\n",
       "      <th>UserId</th>\n",
       "    </tr>\n",
       "  </thead>\n",
       "  <tbody>\n",
       "    <tr>\n",
       "      <th>0</th>\n",
       "      <td>723182</td>\n",
       "      <td>385124</td>\n",
       "      <td>0</td>\n",
       "      <td>@BenBolker I don't understand. The fit cannot ...</td>\n",
       "      <td>2019-01-01 00:06:39</td>\n",
       "      <td>78575</td>\n",
       "    </tr>\n",
       "    <tr>\n",
       "      <th>1</th>\n",
       "      <td>723183</td>\n",
       "      <td>385124</td>\n",
       "      <td>3</td>\n",
       "      <td>You can't add *less* than (`-min(y)`), but you...</td>\n",
       "      <td>2019-01-01 00:09:22</td>\n",
       "      <td>2126</td>\n",
       "    </tr>\n",
       "    <tr>\n",
       "      <th>2</th>\n",
       "      <td>723186</td>\n",
       "      <td>385137</td>\n",
       "      <td>0</td>\n",
       "      <td>nice. If you felt like doing the work it would...</td>\n",
       "      <td>2019-01-01 00:32:11</td>\n",
       "      <td>2126</td>\n",
       "    </tr>\n",
       "    <tr>\n",
       "      <th>3</th>\n",
       "      <td>723187</td>\n",
       "      <td>385137</td>\n",
       "      <td>0</td>\n",
       "      <td>i.e. `emdbook::curve3d(-sum(dnbinom(y,mu=mu,si...</td>\n",
       "      <td>2019-01-01 00:40:36</td>\n",
       "      <td>2126</td>\n",
       "    </tr>\n",
       "    <tr>\n",
       "      <th>4</th>\n",
       "      <td>723188</td>\n",
       "      <td>385134</td>\n",
       "      <td>0</td>\n",
       "      <td>Don't you mean \"so variance should be $\\sigma^...</td>\n",
       "      <td>2019-01-01 00:41:28</td>\n",
       "      <td>112141</td>\n",
       "    </tr>\n",
       "  </tbody>\n",
       "</table>\n",
       "</div>"
      ],
      "text/plain": [
       "       Id  PostId  Score                                               Text  \\\n",
       "0  723182  385124      0  @BenBolker I don't understand. The fit cannot ...   \n",
       "1  723183  385124      3  You can't add *less* than (`-min(y)`), but you...   \n",
       "2  723186  385137      0  nice. If you felt like doing the work it would...   \n",
       "3  723187  385137      0  i.e. `emdbook::curve3d(-sum(dnbinom(y,mu=mu,si...   \n",
       "4  723188  385134      0  Don't you mean \"so variance should be $\\sigma^...   \n",
       "\n",
       "          CreationDate  UserId  \n",
       "0  2019-01-01 00:06:39   78575  \n",
       "1  2019-01-01 00:09:22    2126  \n",
       "2  2019-01-01 00:32:11    2126  \n",
       "3  2019-01-01 00:40:36    2126  \n",
       "4  2019-01-01 00:41:28  112141  "
      ]
     },
     "execution_count": 4,
     "metadata": {},
     "output_type": "execute_result"
    }
   ],
   "source": [
    "comments = pd.read_csv('comments.csv')\n",
    "comments.head()"
   ]
  },
  {
   "cell_type": "markdown",
   "metadata": {},
   "source": [
    "Now take the comments dataframe and push the data into the Sqlite database table called 'comments':"
   ]
  },
  {
   "cell_type": "code",
   "execution_count": 5,
   "metadata": {},
   "outputs": [
    {
     "data": {
      "text/html": [
       "<div>\n",
       "<style scoped>\n",
       "    .dataframe tbody tr th:only-of-type {\n",
       "        vertical-align: middle;\n",
       "    }\n",
       "\n",
       "    .dataframe tbody tr th {\n",
       "        vertical-align: top;\n",
       "    }\n",
       "\n",
       "    .dataframe thead th {\n",
       "        text-align: right;\n",
       "    }\n",
       "</style>\n",
       "<table border=\"1\" class=\"dataframe\">\n",
       "  <thead>\n",
       "    <tr style=\"text-align: right;\">\n",
       "      <th></th>\n",
       "      <th>Id</th>\n",
       "      <th>PostId</th>\n",
       "      <th>Score</th>\n",
       "      <th>Text</th>\n",
       "      <th>CreationDate</th>\n",
       "      <th>UserId</th>\n",
       "    </tr>\n",
       "  </thead>\n",
       "  <tbody>\n",
       "    <tr>\n",
       "      <th>0</th>\n",
       "      <td>723182</td>\n",
       "      <td>385124</td>\n",
       "      <td>0</td>\n",
       "      <td>@BenBolker I don't understand. The fit cannot ...</td>\n",
       "      <td>2019-01-01 00:06:39</td>\n",
       "      <td>78575</td>\n",
       "    </tr>\n",
       "    <tr>\n",
       "      <th>1</th>\n",
       "      <td>723183</td>\n",
       "      <td>385124</td>\n",
       "      <td>3</td>\n",
       "      <td>You can't add *less* than (`-min(y)`), but you...</td>\n",
       "      <td>2019-01-01 00:09:22</td>\n",
       "      <td>2126</td>\n",
       "    </tr>\n",
       "    <tr>\n",
       "      <th>2</th>\n",
       "      <td>723186</td>\n",
       "      <td>385137</td>\n",
       "      <td>0</td>\n",
       "      <td>nice. If you felt like doing the work it would...</td>\n",
       "      <td>2019-01-01 00:32:11</td>\n",
       "      <td>2126</td>\n",
       "    </tr>\n",
       "    <tr>\n",
       "      <th>3</th>\n",
       "      <td>723187</td>\n",
       "      <td>385137</td>\n",
       "      <td>0</td>\n",
       "      <td>i.e. `emdbook::curve3d(-sum(dnbinom(y,mu=mu,si...</td>\n",
       "      <td>2019-01-01 00:40:36</td>\n",
       "      <td>2126</td>\n",
       "    </tr>\n",
       "    <tr>\n",
       "      <th>4</th>\n",
       "      <td>723188</td>\n",
       "      <td>385134</td>\n",
       "      <td>0</td>\n",
       "      <td>Don't you mean \"so variance should be $\\sigma^...</td>\n",
       "      <td>2019-01-01 00:41:28</td>\n",
       "      <td>112141</td>\n",
       "    </tr>\n",
       "  </tbody>\n",
       "</table>\n",
       "</div>"
      ],
      "text/plain": [
       "       Id  PostId  Score                                               Text  \\\n",
       "0  723182  385124      0  @BenBolker I don't understand. The fit cannot ...   \n",
       "1  723183  385124      3  You can't add *less* than (`-min(y)`), but you...   \n",
       "2  723186  385137      0  nice. If you felt like doing the work it would...   \n",
       "3  723187  385137      0  i.e. `emdbook::curve3d(-sum(dnbinom(y,mu=mu,si...   \n",
       "4  723188  385134      0  Don't you mean \"so variance should be $\\sigma^...   \n",
       "\n",
       "          CreationDate  UserId  \n",
       "0  2019-01-01 00:06:39   78575  \n",
       "1  2019-01-01 00:09:22    2126  \n",
       "2  2019-01-01 00:32:11    2126  \n",
       "3  2019-01-01 00:40:36    2126  \n",
       "4  2019-01-01 00:41:28  112141  "
      ]
     },
     "execution_count": 5,
     "metadata": {},
     "output_type": "execute_result"
    }
   ],
   "source": [
    "# load comments into sqlite\n",
    "#This will make a SQL table called 'comments' based on the comments dataframe, if there is one with the same name replace\n",
    "# and do not keep the dataframe index in the new sql table\n",
    "comments.to_sql('comments', con, if_exists='replace', index=False)\n",
    "\n",
    "# read back in to prove that it worked\n",
    "#This turns a SQL query into a variable 'sql', the con has already been specified and is used to help the pd.read_sql function\n",
    "#find the location and details of the database it will pull data from. the function copies the contents of the SQL table into a pandas DataFrame, \n",
    "#so that you can manipulate and analyze the data more easily.\n",
    "sql = 'SELECT * FROM comments'\n",
    "comments = pd.read_sql(sql, con)\n",
    "comments.head()"
   ]
  },
  {
   "cell_type": "markdown",
   "metadata": {},
   "source": [
    "### Load Other CSVs\n",
    "Now that you have seen the code for loading in the comments.csv now do the same to read and write the posts.csv and users.csv to sqlite. \n",
    "\n",
    "<div style=\"background-color:lemonchiffon; border:1px solid; padding:5px; margin:5px; font-weight:bold\"><font color=\"crimson\">\n",
    "TODO: Enter code in the following cells. Insert as many cells as you want to do this.\n",
    "    </font></div>"
   ]
  },
  {
   "cell_type": "code",
   "execution_count": 6,
   "metadata": {},
   "outputs": [
    {
     "data": {
      "text/html": [
       "<div>\n",
       "<style scoped>\n",
       "    .dataframe tbody tr th:only-of-type {\n",
       "        vertical-align: middle;\n",
       "    }\n",
       "\n",
       "    .dataframe tbody tr th {\n",
       "        vertical-align: top;\n",
       "    }\n",
       "\n",
       "    .dataframe thead th {\n",
       "        text-align: right;\n",
       "    }\n",
       "</style>\n",
       "<table border=\"1\" class=\"dataframe\">\n",
       "  <thead>\n",
       "    <tr style=\"text-align: right;\">\n",
       "      <th></th>\n",
       "      <th>Id</th>\n",
       "      <th>PostTypeId</th>\n",
       "      <th>AcceptedAnswerId</th>\n",
       "      <th>ParentId</th>\n",
       "      <th>CreationDate</th>\n",
       "      <th>Score</th>\n",
       "      <th>ViewCount</th>\n",
       "      <th>Body</th>\n",
       "      <th>OwnerUserId</th>\n",
       "      <th>OwnerDisplayName</th>\n",
       "      <th>...</th>\n",
       "      <th>LastEditorDisplayName</th>\n",
       "      <th>LastEditDate</th>\n",
       "      <th>LastActivityDate</th>\n",
       "      <th>Title</th>\n",
       "      <th>Tags</th>\n",
       "      <th>AnswerCount</th>\n",
       "      <th>CommentCount</th>\n",
       "      <th>FavoriteCount</th>\n",
       "      <th>ClosedDate</th>\n",
       "      <th>CommunityOwnedDate</th>\n",
       "    </tr>\n",
       "  </thead>\n",
       "  <tbody>\n",
       "    <tr>\n",
       "      <th>0</th>\n",
       "      <td>423497</td>\n",
       "      <td>1</td>\n",
       "      <td>423511</td>\n",
       "      <td>0</td>\n",
       "      <td>2019-08-24 09:39:31</td>\n",
       "      <td>2</td>\n",
       "      <td>68</td>\n",
       "      <td>&lt;p&gt;From wikipedia &lt;a href=\"https://en.wikipedi...</td>\n",
       "      <td>64552</td>\n",
       "      <td>None</td>\n",
       "      <td>...</td>\n",
       "      <td>None</td>\n",
       "      <td>None</td>\n",
       "      <td>2019-08-24 11:38:54</td>\n",
       "      <td>When are biased estimators with lower MSE pref...</td>\n",
       "      <td>&lt;bias&gt;&lt;unbiased-estimator&gt;&lt;mse&gt;</td>\n",
       "      <td>1</td>\n",
       "      <td>0</td>\n",
       "      <td>1</td>\n",
       "      <td>2019-08-25 10:25:24</td>\n",
       "      <td>None</td>\n",
       "    </tr>\n",
       "    <tr>\n",
       "      <th>1</th>\n",
       "      <td>423498</td>\n",
       "      <td>1</td>\n",
       "      <td>0</td>\n",
       "      <td>0</td>\n",
       "      <td>2019-08-24 09:47:42</td>\n",
       "      <td>1</td>\n",
       "      <td>24</td>\n",
       "      <td>&lt;p&gt;I am currently doing local sensitivity anal...</td>\n",
       "      <td>87231</td>\n",
       "      <td>None</td>\n",
       "      <td>...</td>\n",
       "      <td>None</td>\n",
       "      <td>2019-09-06 12:52:32</td>\n",
       "      <td>2019-09-06 12:52:32</td>\n",
       "      <td>How to interpret the result from local sensiti...</td>\n",
       "      <td>&lt;sensitivity-analysis&gt;&lt;elasticity&gt;</td>\n",
       "      <td>1</td>\n",
       "      <td>0</td>\n",
       "      <td>0</td>\n",
       "      <td>None</td>\n",
       "      <td>None</td>\n",
       "    </tr>\n",
       "    <tr>\n",
       "      <th>2</th>\n",
       "      <td>423499</td>\n",
       "      <td>1</td>\n",
       "      <td>0</td>\n",
       "      <td>0</td>\n",
       "      <td>2019-08-24 09:48:26</td>\n",
       "      <td>1</td>\n",
       "      <td>56</td>\n",
       "      <td>&lt;p&gt;I'm an honours student in psychology doing ...</td>\n",
       "      <td>257207</td>\n",
       "      <td>None</td>\n",
       "      <td>...</td>\n",
       "      <td>None</td>\n",
       "      <td>None</td>\n",
       "      <td>2019-08-25 08:54:17</td>\n",
       "      <td>Power Analysis in G-Power - Mixed Model Anova</td>\n",
       "      <td>&lt;anova&gt;&lt;gpower&gt;</td>\n",
       "      <td>2</td>\n",
       "      <td>0</td>\n",
       "      <td>0</td>\n",
       "      <td>None</td>\n",
       "      <td>None</td>\n",
       "    </tr>\n",
       "  </tbody>\n",
       "</table>\n",
       "<p>3 rows × 21 columns</p>\n",
       "</div>"
      ],
      "text/plain": [
       "       Id  PostTypeId  AcceptedAnswerId  ParentId         CreationDate  Score  \\\n",
       "0  423497           1            423511         0  2019-08-24 09:39:31      2   \n",
       "1  423498           1                 0         0  2019-08-24 09:47:42      1   \n",
       "2  423499           1                 0         0  2019-08-24 09:48:26      1   \n",
       "\n",
       "   ViewCount                                               Body  OwnerUserId  \\\n",
       "0         68  <p>From wikipedia <a href=\"https://en.wikipedi...        64552   \n",
       "1         24  <p>I am currently doing local sensitivity anal...        87231   \n",
       "2         56  <p>I'm an honours student in psychology doing ...       257207   \n",
       "\n",
       "  OwnerDisplayName  ...  LastEditorDisplayName         LastEditDate  \\\n",
       "0             None  ...                   None                 None   \n",
       "1             None  ...                   None  2019-09-06 12:52:32   \n",
       "2             None  ...                   None                 None   \n",
       "\n",
       "      LastActivityDate                                              Title  \\\n",
       "0  2019-08-24 11:38:54  When are biased estimators with lower MSE pref...   \n",
       "1  2019-09-06 12:52:32  How to interpret the result from local sensiti...   \n",
       "2  2019-08-25 08:54:17      Power Analysis in G-Power - Mixed Model Anova   \n",
       "\n",
       "                                 Tags AnswerCount  CommentCount  \\\n",
       "0     <bias><unbiased-estimator><mse>           1             0   \n",
       "1  <sensitivity-analysis><elasticity>           1             0   \n",
       "2                     <anova><gpower>           2             0   \n",
       "\n",
       "   FavoriteCount           ClosedDate CommunityOwnedDate  \n",
       "0              1  2019-08-25 10:25:24               None  \n",
       "1              0                 None               None  \n",
       "2              0                 None               None  \n",
       "\n",
       "[3 rows x 21 columns]"
      ]
     },
     "execution_count": 6,
     "metadata": {},
     "output_type": "execute_result"
    }
   ],
   "source": [
    "#loading posts.csv and creating pandas dataframe\n",
    "posts = pd.read_csv('posts.csv')\n",
    "#creating SQL table\n",
    "posts.to_sql('posts', con, if_exists='replace', index=False)\n",
    "#checking the new posts table exists\n",
    "sql2 = 'SELECT * FROM posts'\n",
    "posts = pd.read_sql(sql2, con)\n",
    "posts.head(3)"
   ]
  },
  {
   "cell_type": "code",
   "execution_count": 7,
   "metadata": {},
   "outputs": [
    {
     "data": {
      "text/html": [
       "<div>\n",
       "<style scoped>\n",
       "    .dataframe tbody tr th:only-of-type {\n",
       "        vertical-align: middle;\n",
       "    }\n",
       "\n",
       "    .dataframe tbody tr th {\n",
       "        vertical-align: top;\n",
       "    }\n",
       "\n",
       "    .dataframe thead th {\n",
       "        text-align: right;\n",
       "    }\n",
       "</style>\n",
       "<table border=\"1\" class=\"dataframe\">\n",
       "  <thead>\n",
       "    <tr style=\"text-align: right;\">\n",
       "      <th></th>\n",
       "      <th>Id</th>\n",
       "      <th>Reputation</th>\n",
       "      <th>CreationDate</th>\n",
       "      <th>DisplayName</th>\n",
       "      <th>LastAccessDate</th>\n",
       "      <th>WebsiteUrl</th>\n",
       "      <th>Location</th>\n",
       "      <th>AboutMe</th>\n",
       "      <th>Views</th>\n",
       "      <th>UpVotes</th>\n",
       "      <th>DownVotes</th>\n",
       "      <th>ProfileImageUrl</th>\n",
       "      <th>AccountId</th>\n",
       "    </tr>\n",
       "  </thead>\n",
       "  <tbody>\n",
       "    <tr>\n",
       "      <th>0</th>\n",
       "      <td>157607</td>\n",
       "      <td>31</td>\n",
       "      <td>2017-04-17 14:50:42</td>\n",
       "      <td>user157607</td>\n",
       "      <td>2019-07-23 16:44:08</td>\n",
       "      <td>None</td>\n",
       "      <td>None</td>\n",
       "      <td>None</td>\n",
       "      <td>0</td>\n",
       "      <td>0</td>\n",
       "      <td>0</td>\n",
       "      <td>https://www.gravatar.com/avatar/2efb161849efa4...</td>\n",
       "      <td>10705183</td>\n",
       "    </tr>\n",
       "    <tr>\n",
       "      <th>1</th>\n",
       "      <td>157656</td>\n",
       "      <td>101</td>\n",
       "      <td>2017-04-17 20:08:20</td>\n",
       "      <td>user102859</td>\n",
       "      <td>2019-06-26 13:42:13</td>\n",
       "      <td>None</td>\n",
       "      <td>None</td>\n",
       "      <td>None</td>\n",
       "      <td>3</td>\n",
       "      <td>0</td>\n",
       "      <td>0</td>\n",
       "      <td>https://i.stack.imgur.com/eY4ka.jpg?s=128&amp;g=1</td>\n",
       "      <td>10567606</td>\n",
       "    </tr>\n",
       "    <tr>\n",
       "      <th>2</th>\n",
       "      <td>157704</td>\n",
       "      <td>133</td>\n",
       "      <td>2017-04-18 05:10:47</td>\n",
       "      <td>jupiar</td>\n",
       "      <td>2019-11-25 13:32:27</td>\n",
       "      <td>None</td>\n",
       "      <td>Shanghai, China</td>\n",
       "      <td>&lt;p&gt;Originally from the U.K, I have an Undergra...</td>\n",
       "      <td>1</td>\n",
       "      <td>1</td>\n",
       "      <td>0</td>\n",
       "      <td>https://www.gravatar.com/avatar/720e20205122c5...</td>\n",
       "      <td>9501631</td>\n",
       "    </tr>\n",
       "  </tbody>\n",
       "</table>\n",
       "</div>"
      ],
      "text/plain": [
       "       Id  Reputation         CreationDate DisplayName       LastAccessDate  \\\n",
       "0  157607          31  2017-04-17 14:50:42  user157607  2019-07-23 16:44:08   \n",
       "1  157656         101  2017-04-17 20:08:20  user102859  2019-06-26 13:42:13   \n",
       "2  157704         133  2017-04-18 05:10:47      jupiar  2019-11-25 13:32:27   \n",
       "\n",
       "  WebsiteUrl         Location  \\\n",
       "0       None             None   \n",
       "1       None             None   \n",
       "2       None  Shanghai, China   \n",
       "\n",
       "                                             AboutMe  Views  UpVotes  \\\n",
       "0                                               None      0        0   \n",
       "1                                               None      3        0   \n",
       "2  <p>Originally from the U.K, I have an Undergra...      1        1   \n",
       "\n",
       "   DownVotes                                    ProfileImageUrl  AccountId  \n",
       "0          0  https://www.gravatar.com/avatar/2efb161849efa4...   10705183  \n",
       "1          0      https://i.stack.imgur.com/eY4ka.jpg?s=128&g=1   10567606  \n",
       "2          0  https://www.gravatar.com/avatar/720e20205122c5...    9501631  "
      ]
     },
     "execution_count": 7,
     "metadata": {},
     "output_type": "execute_result"
    }
   ],
   "source": [
    "#loading users.csv and creating pandas dataframe\n",
    "users = pd.read_csv('users.csv')\n",
    "#creating SQL table\n",
    "users.to_sql('users', con, if_exists='replace', index=False)\n",
    "#checking the new posts table exists\n",
    "sql3 = 'SELECT * FROM users'\n",
    "users = pd.read_sql(sql3, con)\n",
    "users.head(3)"
   ]
  },
  {
   "cell_type": "markdown",
   "metadata": {},
   "source": [
    "### **TODO**: Drop Duplicates\n",
    "Look for and drop any duplicates in all 3 of the tables (if they exist). Use Pandas to do this. If you find duplicates, you will need to rewrite the table.\n",
    "\n",
    "<div style=\"background-color:lemonchiffon; border:1px solid; padding:5px; margin:5px; font-weight:bold\"><font color=\"crimson\">\n",
    "TODO: Enter code in the following cells. \n",
    "    </font></div>"
   ]
  },
  {
   "cell_type": "code",
   "execution_count": 8,
   "metadata": {},
   "outputs": [
    {
     "data": {
      "text/plain": [
       "0"
      ]
     },
     "execution_count": 8,
     "metadata": {},
     "output_type": "execute_result"
    }
   ],
   "source": [
    "#Looking for duplicates in comments table\n",
    "comments.Id.duplicated(keep = False).sum()"
   ]
  },
  {
   "cell_type": "code",
   "execution_count": 9,
   "metadata": {},
   "outputs": [
    {
     "data": {
      "text/plain": [
       "0"
      ]
     },
     "execution_count": 9,
     "metadata": {},
     "output_type": "execute_result"
    }
   ],
   "source": [
    "#Looking for duplicates in posts table\n",
    "posts.Id.duplicated(keep = False).sum()"
   ]
  },
  {
   "cell_type": "code",
   "execution_count": 10,
   "metadata": {},
   "outputs": [
    {
     "data": {
      "text/plain": [
       "0"
      ]
     },
     "execution_count": 10,
     "metadata": {},
     "output_type": "execute_result"
    }
   ],
   "source": [
    "#Looking for duplicates in users table\n",
    "users.Id.duplicated(keep = False).sum()"
   ]
  },
  {
   "cell_type": "markdown",
   "metadata": {},
   "source": [
    "## Review the Data\n",
    "\n",
    "Spend some time reviewing the data.  Understand what data we have, think about how that data can be used to assist in the initiative of understanding how ChatData is used in the real world.  Is the data organised in a way that would lend itself to being manged in a relational database?  How would the different tables be connected?  What are the primary and foreign keys?  Would this give you a 3NF model?\n",
    "\n",
    "Also think about security and ethics.  Is there personal data in here?  Could individuals be identified through this data?  It it ethical to use the data in this way?  You will be asked to comment on these questions later!\n",
    "\n",
    "Use the code below to help you."
   ]
  },
  {
   "cell_type": "code",
   "execution_count": 11,
   "metadata": {},
   "outputs": [
    {
     "data": {
      "text/plain": [
       "Index(['Id', 'Reputation', 'CreationDate', 'DisplayName', 'LastAccessDate',\n",
       "       'WebsiteUrl', 'Location', 'AboutMe', 'Views', 'UpVotes', 'DownVotes',\n",
       "       'ProfileImageUrl', 'AccountId'],\n",
       "      dtype='object')"
      ]
     },
     "execution_count": 11,
     "metadata": {},
     "output_type": "execute_result"
    }
   ],
   "source": [
    "users.columns"
   ]
  },
  {
   "cell_type": "code",
   "execution_count": 12,
   "metadata": {},
   "outputs": [
    {
     "data": {
      "text/html": [
       "<div>\n",
       "<style scoped>\n",
       "    .dataframe tbody tr th:only-of-type {\n",
       "        vertical-align: middle;\n",
       "    }\n",
       "\n",
       "    .dataframe tbody tr th {\n",
       "        vertical-align: top;\n",
       "    }\n",
       "\n",
       "    .dataframe thead th {\n",
       "        text-align: right;\n",
       "    }\n",
       "</style>\n",
       "<table border=\"1\" class=\"dataframe\">\n",
       "  <thead>\n",
       "    <tr style=\"text-align: right;\">\n",
       "      <th></th>\n",
       "      <th>Id</th>\n",
       "      <th>Reputation</th>\n",
       "      <th>CreationDate</th>\n",
       "      <th>DisplayName</th>\n",
       "      <th>LastAccessDate</th>\n",
       "      <th>WebsiteUrl</th>\n",
       "      <th>Location</th>\n",
       "      <th>AboutMe</th>\n",
       "      <th>Views</th>\n",
       "      <th>UpVotes</th>\n",
       "      <th>DownVotes</th>\n",
       "      <th>ProfileImageUrl</th>\n",
       "      <th>AccountId</th>\n",
       "    </tr>\n",
       "  </thead>\n",
       "  <tbody>\n",
       "    <tr>\n",
       "      <th>0</th>\n",
       "      <td>157607</td>\n",
       "      <td>31</td>\n",
       "      <td>2017-04-17 14:50:42</td>\n",
       "      <td>user157607</td>\n",
       "      <td>2019-07-23 16:44:08</td>\n",
       "      <td>None</td>\n",
       "      <td>None</td>\n",
       "      <td>None</td>\n",
       "      <td>0</td>\n",
       "      <td>0</td>\n",
       "      <td>0</td>\n",
       "      <td>https://www.gravatar.com/avatar/2efb161849efa4...</td>\n",
       "      <td>10705183</td>\n",
       "    </tr>\n",
       "    <tr>\n",
       "      <th>1</th>\n",
       "      <td>157656</td>\n",
       "      <td>101</td>\n",
       "      <td>2017-04-17 20:08:20</td>\n",
       "      <td>user102859</td>\n",
       "      <td>2019-06-26 13:42:13</td>\n",
       "      <td>None</td>\n",
       "      <td>None</td>\n",
       "      <td>None</td>\n",
       "      <td>3</td>\n",
       "      <td>0</td>\n",
       "      <td>0</td>\n",
       "      <td>https://i.stack.imgur.com/eY4ka.jpg?s=128&amp;g=1</td>\n",
       "      <td>10567606</td>\n",
       "    </tr>\n",
       "    <tr>\n",
       "      <th>2</th>\n",
       "      <td>157704</td>\n",
       "      <td>133</td>\n",
       "      <td>2017-04-18 05:10:47</td>\n",
       "      <td>jupiar</td>\n",
       "      <td>2019-11-25 13:32:27</td>\n",
       "      <td>None</td>\n",
       "      <td>Shanghai, China</td>\n",
       "      <td>&lt;p&gt;Originally from the U.K, I have an Undergra...</td>\n",
       "      <td>1</td>\n",
       "      <td>1</td>\n",
       "      <td>0</td>\n",
       "      <td>https://www.gravatar.com/avatar/720e20205122c5...</td>\n",
       "      <td>9501631</td>\n",
       "    </tr>\n",
       "    <tr>\n",
       "      <th>3</th>\n",
       "      <td>157709</td>\n",
       "      <td>155</td>\n",
       "      <td>2017-04-18 06:39:18</td>\n",
       "      <td>farmer</td>\n",
       "      <td>2019-02-17 19:44:24</td>\n",
       "      <td>None</td>\n",
       "      <td>None</td>\n",
       "      <td>None</td>\n",
       "      <td>16</td>\n",
       "      <td>0</td>\n",
       "      <td>0</td>\n",
       "      <td>https://www.gravatar.com/avatar/0f8c4bde3d8f25...</td>\n",
       "      <td>10709837</td>\n",
       "    </tr>\n",
       "    <tr>\n",
       "      <th>4</th>\n",
       "      <td>157755</td>\n",
       "      <td>101</td>\n",
       "      <td>2017-04-18 12:56:17</td>\n",
       "      <td>Miki P</td>\n",
       "      <td>2019-08-12 17:02:21</td>\n",
       "      <td>None</td>\n",
       "      <td>None</td>\n",
       "      <td>None</td>\n",
       "      <td>1</td>\n",
       "      <td>9</td>\n",
       "      <td>0</td>\n",
       "      <td>https://www.gravatar.com/avatar/af088558cd81c5...</td>\n",
       "      <td>7969290</td>\n",
       "    </tr>\n",
       "  </tbody>\n",
       "</table>\n",
       "</div>"
      ],
      "text/plain": [
       "       Id  Reputation         CreationDate DisplayName       LastAccessDate  \\\n",
       "0  157607          31  2017-04-17 14:50:42  user157607  2019-07-23 16:44:08   \n",
       "1  157656         101  2017-04-17 20:08:20  user102859  2019-06-26 13:42:13   \n",
       "2  157704         133  2017-04-18 05:10:47      jupiar  2019-11-25 13:32:27   \n",
       "3  157709         155  2017-04-18 06:39:18      farmer  2019-02-17 19:44:24   \n",
       "4  157755         101  2017-04-18 12:56:17      Miki P  2019-08-12 17:02:21   \n",
       "\n",
       "  WebsiteUrl         Location  \\\n",
       "0       None             None   \n",
       "1       None             None   \n",
       "2       None  Shanghai, China   \n",
       "3       None             None   \n",
       "4       None             None   \n",
       "\n",
       "                                             AboutMe  Views  UpVotes  \\\n",
       "0                                               None      0        0   \n",
       "1                                               None      3        0   \n",
       "2  <p>Originally from the U.K, I have an Undergra...      1        1   \n",
       "3                                               None     16        0   \n",
       "4                                               None      1        9   \n",
       "\n",
       "   DownVotes                                    ProfileImageUrl  AccountId  \n",
       "0          0  https://www.gravatar.com/avatar/2efb161849efa4...   10705183  \n",
       "1          0      https://i.stack.imgur.com/eY4ka.jpg?s=128&g=1   10567606  \n",
       "2          0  https://www.gravatar.com/avatar/720e20205122c5...    9501631  \n",
       "3          0  https://www.gravatar.com/avatar/0f8c4bde3d8f25...   10709837  \n",
       "4          0  https://www.gravatar.com/avatar/af088558cd81c5...    7969290  "
      ]
     },
     "execution_count": 12,
     "metadata": {},
     "output_type": "execute_result"
    }
   ],
   "source": [
    "users.head()"
   ]
  },
  {
   "cell_type": "code",
   "execution_count": 13,
   "metadata": {},
   "outputs": [
    {
     "data": {
      "text/plain": [
       "Index(['Id', 'PostId', 'Score', 'Text', 'CreationDate', 'UserId'], dtype='object')"
      ]
     },
     "execution_count": 13,
     "metadata": {},
     "output_type": "execute_result"
    }
   ],
   "source": [
    "comments.columns"
   ]
  },
  {
   "cell_type": "code",
   "execution_count": 14,
   "metadata": {},
   "outputs": [
    {
     "data": {
      "text/html": [
       "<div>\n",
       "<style scoped>\n",
       "    .dataframe tbody tr th:only-of-type {\n",
       "        vertical-align: middle;\n",
       "    }\n",
       "\n",
       "    .dataframe tbody tr th {\n",
       "        vertical-align: top;\n",
       "    }\n",
       "\n",
       "    .dataframe thead th {\n",
       "        text-align: right;\n",
       "    }\n",
       "</style>\n",
       "<table border=\"1\" class=\"dataframe\">\n",
       "  <thead>\n",
       "    <tr style=\"text-align: right;\">\n",
       "      <th></th>\n",
       "      <th>Id</th>\n",
       "      <th>PostId</th>\n",
       "      <th>Score</th>\n",
       "      <th>Text</th>\n",
       "      <th>CreationDate</th>\n",
       "      <th>UserId</th>\n",
       "    </tr>\n",
       "  </thead>\n",
       "  <tbody>\n",
       "    <tr>\n",
       "      <th>0</th>\n",
       "      <td>723182</td>\n",
       "      <td>385124</td>\n",
       "      <td>0</td>\n",
       "      <td>@BenBolker I don't understand. The fit cannot ...</td>\n",
       "      <td>2019-01-01 00:06:39</td>\n",
       "      <td>78575</td>\n",
       "    </tr>\n",
       "    <tr>\n",
       "      <th>1</th>\n",
       "      <td>723183</td>\n",
       "      <td>385124</td>\n",
       "      <td>3</td>\n",
       "      <td>You can't add *less* than (`-min(y)`), but you...</td>\n",
       "      <td>2019-01-01 00:09:22</td>\n",
       "      <td>2126</td>\n",
       "    </tr>\n",
       "    <tr>\n",
       "      <th>2</th>\n",
       "      <td>723186</td>\n",
       "      <td>385137</td>\n",
       "      <td>0</td>\n",
       "      <td>nice. If you felt like doing the work it would...</td>\n",
       "      <td>2019-01-01 00:32:11</td>\n",
       "      <td>2126</td>\n",
       "    </tr>\n",
       "    <tr>\n",
       "      <th>3</th>\n",
       "      <td>723187</td>\n",
       "      <td>385137</td>\n",
       "      <td>0</td>\n",
       "      <td>i.e. `emdbook::curve3d(-sum(dnbinom(y,mu=mu,si...</td>\n",
       "      <td>2019-01-01 00:40:36</td>\n",
       "      <td>2126</td>\n",
       "    </tr>\n",
       "    <tr>\n",
       "      <th>4</th>\n",
       "      <td>723188</td>\n",
       "      <td>385134</td>\n",
       "      <td>0</td>\n",
       "      <td>Don't you mean \"so variance should be $\\sigma^...</td>\n",
       "      <td>2019-01-01 00:41:28</td>\n",
       "      <td>112141</td>\n",
       "    </tr>\n",
       "  </tbody>\n",
       "</table>\n",
       "</div>"
      ],
      "text/plain": [
       "       Id  PostId  Score                                               Text  \\\n",
       "0  723182  385124      0  @BenBolker I don't understand. The fit cannot ...   \n",
       "1  723183  385124      3  You can't add *less* than (`-min(y)`), but you...   \n",
       "2  723186  385137      0  nice. If you felt like doing the work it would...   \n",
       "3  723187  385137      0  i.e. `emdbook::curve3d(-sum(dnbinom(y,mu=mu,si...   \n",
       "4  723188  385134      0  Don't you mean \"so variance should be $\\sigma^...   \n",
       "\n",
       "          CreationDate  UserId  \n",
       "0  2019-01-01 00:06:39   78575  \n",
       "1  2019-01-01 00:09:22    2126  \n",
       "2  2019-01-01 00:32:11    2126  \n",
       "3  2019-01-01 00:40:36    2126  \n",
       "4  2019-01-01 00:41:28  112141  "
      ]
     },
     "execution_count": 14,
     "metadata": {},
     "output_type": "execute_result"
    }
   ],
   "source": [
    "comments.head()"
   ]
  },
  {
   "cell_type": "code",
   "execution_count": 15,
   "metadata": {},
   "outputs": [
    {
     "data": {
      "text/plain": [
       "Index(['Id', 'PostTypeId', 'AcceptedAnswerId', 'ParentId', 'CreationDate',\n",
       "       'Score', 'ViewCount', 'Body', 'OwnerUserId', 'OwnerDisplayName',\n",
       "       'LastEditorUserId', 'LastEditorDisplayName', 'LastEditDate',\n",
       "       'LastActivityDate', 'Title', 'Tags', 'AnswerCount', 'CommentCount',\n",
       "       'FavoriteCount', 'ClosedDate', 'CommunityOwnedDate'],\n",
       "      dtype='object')"
      ]
     },
     "execution_count": 15,
     "metadata": {},
     "output_type": "execute_result"
    }
   ],
   "source": [
    "posts.columns"
   ]
  },
  {
   "cell_type": "code",
   "execution_count": 16,
   "metadata": {},
   "outputs": [
    {
     "data": {
      "text/html": [
       "<div>\n",
       "<style scoped>\n",
       "    .dataframe tbody tr th:only-of-type {\n",
       "        vertical-align: middle;\n",
       "    }\n",
       "\n",
       "    .dataframe tbody tr th {\n",
       "        vertical-align: top;\n",
       "    }\n",
       "\n",
       "    .dataframe thead th {\n",
       "        text-align: right;\n",
       "    }\n",
       "</style>\n",
       "<table border=\"1\" class=\"dataframe\">\n",
       "  <thead>\n",
       "    <tr style=\"text-align: right;\">\n",
       "      <th></th>\n",
       "      <th>Id</th>\n",
       "      <th>PostTypeId</th>\n",
       "      <th>AcceptedAnswerId</th>\n",
       "      <th>ParentId</th>\n",
       "      <th>CreationDate</th>\n",
       "      <th>Score</th>\n",
       "      <th>ViewCount</th>\n",
       "      <th>Body</th>\n",
       "      <th>OwnerUserId</th>\n",
       "      <th>OwnerDisplayName</th>\n",
       "      <th>...</th>\n",
       "      <th>LastEditorDisplayName</th>\n",
       "      <th>LastEditDate</th>\n",
       "      <th>LastActivityDate</th>\n",
       "      <th>Title</th>\n",
       "      <th>Tags</th>\n",
       "      <th>AnswerCount</th>\n",
       "      <th>CommentCount</th>\n",
       "      <th>FavoriteCount</th>\n",
       "      <th>ClosedDate</th>\n",
       "      <th>CommunityOwnedDate</th>\n",
       "    </tr>\n",
       "  </thead>\n",
       "  <tbody>\n",
       "    <tr>\n",
       "      <th>0</th>\n",
       "      <td>423497</td>\n",
       "      <td>1</td>\n",
       "      <td>423511</td>\n",
       "      <td>0</td>\n",
       "      <td>2019-08-24 09:39:31</td>\n",
       "      <td>2</td>\n",
       "      <td>68</td>\n",
       "      <td>&lt;p&gt;From wikipedia &lt;a href=\"https://en.wikipedi...</td>\n",
       "      <td>64552</td>\n",
       "      <td>None</td>\n",
       "      <td>...</td>\n",
       "      <td>None</td>\n",
       "      <td>None</td>\n",
       "      <td>2019-08-24 11:38:54</td>\n",
       "      <td>When are biased estimators with lower MSE pref...</td>\n",
       "      <td>&lt;bias&gt;&lt;unbiased-estimator&gt;&lt;mse&gt;</td>\n",
       "      <td>1</td>\n",
       "      <td>0</td>\n",
       "      <td>1</td>\n",
       "      <td>2019-08-25 10:25:24</td>\n",
       "      <td>None</td>\n",
       "    </tr>\n",
       "    <tr>\n",
       "      <th>1</th>\n",
       "      <td>423498</td>\n",
       "      <td>1</td>\n",
       "      <td>0</td>\n",
       "      <td>0</td>\n",
       "      <td>2019-08-24 09:47:42</td>\n",
       "      <td>1</td>\n",
       "      <td>24</td>\n",
       "      <td>&lt;p&gt;I am currently doing local sensitivity anal...</td>\n",
       "      <td>87231</td>\n",
       "      <td>None</td>\n",
       "      <td>...</td>\n",
       "      <td>None</td>\n",
       "      <td>2019-09-06 12:52:32</td>\n",
       "      <td>2019-09-06 12:52:32</td>\n",
       "      <td>How to interpret the result from local sensiti...</td>\n",
       "      <td>&lt;sensitivity-analysis&gt;&lt;elasticity&gt;</td>\n",
       "      <td>1</td>\n",
       "      <td>0</td>\n",
       "      <td>0</td>\n",
       "      <td>None</td>\n",
       "      <td>None</td>\n",
       "    </tr>\n",
       "    <tr>\n",
       "      <th>2</th>\n",
       "      <td>423499</td>\n",
       "      <td>1</td>\n",
       "      <td>0</td>\n",
       "      <td>0</td>\n",
       "      <td>2019-08-24 09:48:26</td>\n",
       "      <td>1</td>\n",
       "      <td>56</td>\n",
       "      <td>&lt;p&gt;I'm an honours student in psychology doing ...</td>\n",
       "      <td>257207</td>\n",
       "      <td>None</td>\n",
       "      <td>...</td>\n",
       "      <td>None</td>\n",
       "      <td>None</td>\n",
       "      <td>2019-08-25 08:54:17</td>\n",
       "      <td>Power Analysis in G-Power - Mixed Model Anova</td>\n",
       "      <td>&lt;anova&gt;&lt;gpower&gt;</td>\n",
       "      <td>2</td>\n",
       "      <td>0</td>\n",
       "      <td>0</td>\n",
       "      <td>None</td>\n",
       "      <td>None</td>\n",
       "    </tr>\n",
       "    <tr>\n",
       "      <th>3</th>\n",
       "      <td>423500</td>\n",
       "      <td>2</td>\n",
       "      <td>0</td>\n",
       "      <td>215865</td>\n",
       "      <td>2019-08-24 09:57:01</td>\n",
       "      <td>0</td>\n",
       "      <td>0</td>\n",
       "      <td>&lt;p&gt;Maybe you can look this &lt;a href=\"https://me...</td>\n",
       "      <td>106606</td>\n",
       "      <td>None</td>\n",
       "      <td>...</td>\n",
       "      <td>None</td>\n",
       "      <td>None</td>\n",
       "      <td>2019-08-24 09:57:01</td>\n",
       "      <td>None</td>\n",
       "      <td>None</td>\n",
       "      <td>0</td>\n",
       "      <td>0</td>\n",
       "      <td>0</td>\n",
       "      <td>None</td>\n",
       "      <td>None</td>\n",
       "    </tr>\n",
       "    <tr>\n",
       "      <th>4</th>\n",
       "      <td>423502</td>\n",
       "      <td>2</td>\n",
       "      <td>0</td>\n",
       "      <td>423286</td>\n",
       "      <td>2019-08-24 10:44:52</td>\n",
       "      <td>3</td>\n",
       "      <td>0</td>\n",
       "      <td>&lt;blockquote&gt;\\n  &lt;p&gt;Q1) Is my approach valid?&lt;/...</td>\n",
       "      <td>220643</td>\n",
       "      <td>None</td>\n",
       "      <td>...</td>\n",
       "      <td>None</td>\n",
       "      <td>2019-08-24 12:13:46</td>\n",
       "      <td>2019-08-24 12:13:46</td>\n",
       "      <td>None</td>\n",
       "      <td>None</td>\n",
       "      <td>0</td>\n",
       "      <td>1</td>\n",
       "      <td>0</td>\n",
       "      <td>None</td>\n",
       "      <td>None</td>\n",
       "    </tr>\n",
       "  </tbody>\n",
       "</table>\n",
       "<p>5 rows × 21 columns</p>\n",
       "</div>"
      ],
      "text/plain": [
       "       Id  PostTypeId  AcceptedAnswerId  ParentId         CreationDate  Score  \\\n",
       "0  423497           1            423511         0  2019-08-24 09:39:31      2   \n",
       "1  423498           1                 0         0  2019-08-24 09:47:42      1   \n",
       "2  423499           1                 0         0  2019-08-24 09:48:26      1   \n",
       "3  423500           2                 0    215865  2019-08-24 09:57:01      0   \n",
       "4  423502           2                 0    423286  2019-08-24 10:44:52      3   \n",
       "\n",
       "   ViewCount                                               Body  OwnerUserId  \\\n",
       "0         68  <p>From wikipedia <a href=\"https://en.wikipedi...        64552   \n",
       "1         24  <p>I am currently doing local sensitivity anal...        87231   \n",
       "2         56  <p>I'm an honours student in psychology doing ...       257207   \n",
       "3          0  <p>Maybe you can look this <a href=\"https://me...       106606   \n",
       "4          0  <blockquote>\\n  <p>Q1) Is my approach valid?</...       220643   \n",
       "\n",
       "  OwnerDisplayName  ...  LastEditorDisplayName         LastEditDate  \\\n",
       "0             None  ...                   None                 None   \n",
       "1             None  ...                   None  2019-09-06 12:52:32   \n",
       "2             None  ...                   None                 None   \n",
       "3             None  ...                   None                 None   \n",
       "4             None  ...                   None  2019-08-24 12:13:46   \n",
       "\n",
       "      LastActivityDate                                              Title  \\\n",
       "0  2019-08-24 11:38:54  When are biased estimators with lower MSE pref...   \n",
       "1  2019-09-06 12:52:32  How to interpret the result from local sensiti...   \n",
       "2  2019-08-25 08:54:17      Power Analysis in G-Power - Mixed Model Anova   \n",
       "3  2019-08-24 09:57:01                                               None   \n",
       "4  2019-08-24 12:13:46                                               None   \n",
       "\n",
       "                                 Tags AnswerCount  CommentCount  \\\n",
       "0     <bias><unbiased-estimator><mse>           1             0   \n",
       "1  <sensitivity-analysis><elasticity>           1             0   \n",
       "2                     <anova><gpower>           2             0   \n",
       "3                                None           0             0   \n",
       "4                                None           0             1   \n",
       "\n",
       "   FavoriteCount           ClosedDate CommunityOwnedDate  \n",
       "0              1  2019-08-25 10:25:24               None  \n",
       "1              0                 None               None  \n",
       "2              0                 None               None  \n",
       "3              0                 None               None  \n",
       "4              0                 None               None  \n",
       "\n",
       "[5 rows x 21 columns]"
      ]
     },
     "execution_count": 16,
     "metadata": {},
     "output_type": "execute_result"
    }
   ],
   "source": [
    "posts.head()"
   ]
  },
  {
   "cell_type": "markdown",
   "metadata": {},
   "source": [
    "# Working with Sqlite and SQL Magic\n",
    "In this section let's spend a little time understanding a bit more about how we can work with Sqlite within Jupyter.\n",
    "\n",
    "Let's look at 2 ways to query the sqlite database: using SQL Magic or using Pandas.  Either way is fine for this project."
   ]
  },
  {
   "cell_type": "markdown",
   "metadata": {},
   "source": [
    "## Writing queries with SQL Magic\n",
    "\n",
    "You will now need to write some queries to get answers to the questions in the requirements.  \n",
    "\n",
    "For single-line queries, start the cell with `%sql` and simply enter your query:"
   ]
  },
  {
   "cell_type": "code",
   "execution_count": 17,
   "metadata": {},
   "outputs": [
    {
     "name": "stdout",
     "output_type": "stream",
     "text": [
      " * sqlite:///chatdata.db\n",
      "Done.\n"
     ]
    },
    {
     "data": {
      "text/html": [
       "<table>\n",
       "    <tr>\n",
       "        <th>COUNT(*)</th>\n",
       "    </tr>\n",
       "    <tr>\n",
       "        <td>50000</td>\n",
       "    </tr>\n",
       "</table>"
      ],
      "text/plain": [
       "[(50000,)]"
      ]
     },
     "execution_count": 17,
     "metadata": {},
     "output_type": "execute_result"
    }
   ],
   "source": [
    "# This is an example\n",
    "%sql SELECT COUNT(*) FROM comments"
   ]
  },
  {
   "cell_type": "markdown",
   "metadata": {},
   "source": [
    "For multi line sql statements use `%%sql` as follows. This tells Jupyter that *everything* in this cell should be interpreted as sql. So, NO comments other statements are allowed:"
   ]
  },
  {
   "cell_type": "code",
   "execution_count": 18,
   "metadata": {},
   "outputs": [
    {
     "name": "stdout",
     "output_type": "stream",
     "text": [
      " * sqlite:///chatdata.db\n",
      "Done.\n"
     ]
    },
    {
     "data": {
      "text/html": [
       "<table>\n",
       "    <tr>\n",
       "        <th>Id</th>\n",
       "        <th>PostId</th>\n",
       "        <th>Score</th>\n",
       "        <th>Text</th>\n",
       "    </tr>\n",
       "    <tr>\n",
       "        <td>723182</td>\n",
       "        <td>385124</td>\n",
       "        <td>0</td>\n",
       "        <td>@BenBolker I don&#x27;t understand. The fit cannot be done for the negative $y$. So intuitively I&#x27;d think that in order to retain the relativity of the data, one&#x27;d ideally &quot;mirror&quot; or &quot;flip&quot; it to the positive axis? Would it be possible to adjust every point individually? Basically e.g. take $abs(y_i)$ instead of minimums.</td>\n",
       "    </tr>\n",
       "    <tr>\n",
       "        <td>723183</td>\n",
       "        <td>385124</td>\n",
       "        <td>3</td>\n",
       "        <td>You can&#x27;t add *less* than (`-min(y)`), but you could add *more*. I&#x27;m going to stop answering now sorry, because **judging what the &#x27;best&#x27; approach is depends on much more context that we don&#x27;t have** (the goal of the analysis, why you need to fit an exponential, your level of computational and statistical sophistication and that of your audience, etc. ...)</td>\n",
       "    </tr>\n",
       "    <tr>\n",
       "        <td>723186</td>\n",
       "        <td>385137</td>\n",
       "        <td>0</td>\n",
       "        <td>nice. If you felt like doing the work it would be nice to generate an image/contour plot of log-likelihood as a function of (mu, theta) and show the lines corresponding to the two `size` values .</td>\n",
       "    </tr>\n",
       "    <tr>\n",
       "        <td>723187</td>\n",
       "        <td>385137</td>\n",
       "        <td>0</td>\n",
       "        <td>i.e. `emdbook::curve3d(-sum(dnbinom(y,mu=mu,size=size,log=TRUE)),<br>                 xlim=c(2,5),ylim=c(0.2,0.5),<br>                 varnames=c(&quot;mu&quot;,&quot;size&quot;),<br>                 sys3d=&quot;contour&quot;)<br>abline(h=3.2/7,col=&quot;red&quot;)<br>abline(h=fit.what$theta,col=&quot;blue&quot;)<br>` ... although doesn&#x27;t look this is actually the answer - mu-hat is independent of theta-hat ... ?</td>\n",
       "    </tr>\n",
       "    <tr>\n",
       "        <td>723188</td>\n",
       "        <td>385134</td>\n",
       "        <td>0</td>\n",
       "        <td>Don&#x27;t you mean &quot;so variance should be $\\sigma^2/(n\\mu^2)$&quot;</td>\n",
       "    </tr>\n",
       "</table>"
      ],
      "text/plain": [
       "[(723182, 385124, 0, '@BenBolker I don\\'t understand. The fit cannot be done for the negative $y$. So intuitively I\\'d think that in order to retain the relativity of the  ... (24 characters truncated) ... rror\" or \"flip\" it to the positive axis? Would it be possible to adjust every point individually? Basically e.g. take $abs(y_i)$ instead of minimums.'),\n",
       " (723183, 385124, 3, \"You can't add *less* than (`-min(y)`), but you could add *more*. I'm going to stop answering now sorry, because **judging what the 'best' approach is ... (60 characters truncated) ...  of the analysis, why you need to fit an exponential, your level of computational and statistical sophistication and that of your audience, etc. ...)\"),\n",
       " (723186, 385137, 0, 'nice. If you felt like doing the work it would be nice to generate an image/contour plot of log-likelihood as a function of (mu, theta) and show the lines corresponding to the two `size` values .'),\n",
       " (723187, 385137, 0, 'i.e. `emdbook::curve3d(-sum(dnbinom(y,mu=mu,size=size,log=TRUE)),\\n                 xlim=c(2,5),ylim=c(0.2,0.5),\\n                 varnames=c(\"mu\",\"s ... (57 characters truncated) ... ,col=\"red\")\\nabline(h=fit.what$theta,col=\"blue\")\\n` ... although doesn\\'t look this is actually the answer - mu-hat is independent of theta-hat ... ?'),\n",
       " (723188, 385134, 0, 'Don\\'t you mean \"so variance should be $\\\\sigma^2/(n\\\\mu^2)$\"')]"
      ]
     },
     "execution_count": 18,
     "metadata": {},
     "output_type": "execute_result"
    }
   ],
   "source": [
    "%%sql\n",
    "SELECT Id, PostId, Score, Text\n",
    "    FROM comments\n",
    "        LIMIT 5"
   ]
  },
  {
   "cell_type": "markdown",
   "metadata": {},
   "source": [
    "## Writing queries with Pandas\n",
    "Another way to write queries is to use pandas:"
   ]
  },
  {
   "cell_type": "code",
   "execution_count": 19,
   "metadata": {
    "scrolled": true
   },
   "outputs": [
    {
     "data": {
      "text/html": [
       "<div>\n",
       "<style scoped>\n",
       "    .dataframe tbody tr th:only-of-type {\n",
       "        vertical-align: middle;\n",
       "    }\n",
       "\n",
       "    .dataframe tbody tr th {\n",
       "        vertical-align: top;\n",
       "    }\n",
       "\n",
       "    .dataframe thead th {\n",
       "        text-align: right;\n",
       "    }\n",
       "</style>\n",
       "<table border=\"1\" class=\"dataframe\">\n",
       "  <thead>\n",
       "    <tr style=\"text-align: right;\">\n",
       "      <th></th>\n",
       "      <th>Id</th>\n",
       "      <th>PostId</th>\n",
       "      <th>Score</th>\n",
       "      <th>Text</th>\n",
       "    </tr>\n",
       "  </thead>\n",
       "  <tbody>\n",
       "    <tr>\n",
       "      <th>0</th>\n",
       "      <td>723182</td>\n",
       "      <td>385124</td>\n",
       "      <td>0</td>\n",
       "      <td>@BenBolker I don't understand. The fit cannot ...</td>\n",
       "    </tr>\n",
       "    <tr>\n",
       "      <th>1</th>\n",
       "      <td>723183</td>\n",
       "      <td>385124</td>\n",
       "      <td>3</td>\n",
       "      <td>You can't add *less* than (`-min(y)`), but you...</td>\n",
       "    </tr>\n",
       "    <tr>\n",
       "      <th>2</th>\n",
       "      <td>723186</td>\n",
       "      <td>385137</td>\n",
       "      <td>0</td>\n",
       "      <td>nice. If you felt like doing the work it would...</td>\n",
       "    </tr>\n",
       "    <tr>\n",
       "      <th>3</th>\n",
       "      <td>723187</td>\n",
       "      <td>385137</td>\n",
       "      <td>0</td>\n",
       "      <td>i.e. `emdbook::curve3d(-sum(dnbinom(y,mu=mu,si...</td>\n",
       "    </tr>\n",
       "    <tr>\n",
       "      <th>4</th>\n",
       "      <td>723188</td>\n",
       "      <td>385134</td>\n",
       "      <td>0</td>\n",
       "      <td>Don't you mean \"so variance should be $\\sigma^...</td>\n",
       "    </tr>\n",
       "  </tbody>\n",
       "</table>\n",
       "</div>"
      ],
      "text/plain": [
       "       Id  PostId  Score                                               Text\n",
       "0  723182  385124      0  @BenBolker I don't understand. The fit cannot ...\n",
       "1  723183  385124      3  You can't add *less* than (`-min(y)`), but you...\n",
       "2  723186  385137      0  nice. If you felt like doing the work it would...\n",
       "3  723187  385137      0  i.e. `emdbook::curve3d(-sum(dnbinom(y,mu=mu,si...\n",
       "4  723188  385134      0  Don't you mean \"so variance should be $\\sigma^..."
      ]
     },
     "execution_count": 19,
     "metadata": {},
     "output_type": "execute_result"
    }
   ],
   "source": [
    "sql = \"\"\"\n",
    "SELECT Id, PostId, Score, Text\n",
    "    FROM comments\n",
    "        LIMIT 5\n",
    "        \"\"\"\n",
    "result = pd.read_sql(sql, con)\n",
    "result"
   ]
  },
  {
   "cell_type": "markdown",
   "metadata": {},
   "source": [
    "# Creating Tables with Referential Integrity"
   ]
  },
  {
   "cell_type": "markdown",
   "metadata": {},
   "source": [
    "When we loaded the csv files into Sqlite database tables, Sqlite created the tables for us behind the scenes. Let's inspect this a bit more.\n",
    "\n",
    "We can see how Sqlite created the tables by querying the `sqlite_master` table, which Sqlite uses to keep track of what objects have been created in the database:"
   ]
  },
  {
   "cell_type": "code",
   "execution_count": 20,
   "metadata": {},
   "outputs": [
    {
     "name": "stdout",
     "output_type": "stream",
     "text": [
      " * sqlite:///chatdata.db\n",
      "Done.\n"
     ]
    },
    {
     "data": {
      "text/html": [
       "<table>\n",
       "    <tr>\n",
       "        <th>sql</th>\n",
       "    </tr>\n",
       "    <tr>\n",
       "        <td>CREATE TABLE &quot;comments&quot; (<br>&quot;Id&quot; INTEGER,<br>  &quot;PostId&quot; INTEGER,<br>  &quot;Score&quot; INTEGER,<br>  &quot;Text&quot; TEXT,<br>  &quot;CreationDate&quot; TEXT,<br>  &quot;UserId&quot; INTEGER<br>)</td>\n",
       "    </tr>\n",
       "    <tr>\n",
       "        <td>CREATE TABLE &quot;posts&quot; (<br>&quot;Id&quot; INTEGER,<br>  &quot;PostTypeId&quot; INTEGER,<br>  &quot;AcceptedAnswerId&quot; INTEGER,<br>  &quot;ParentId&quot; INTEGER,<br>  &quot;CreationDate&quot; TEXT,<br>  &quot;Score&quot; INTEGER,<br>  &quot;ViewCount&quot; INTEGER,<br>  &quot;Body&quot; TEXT,<br>  &quot;OwnerUserId&quot; INTEGER,<br>  &quot;OwnerDisplayName&quot; TEXT,<br>  &quot;LastEditorUserId&quot; INTEGER,<br>  &quot;LastEditorDisplayName&quot; TEXT,<br>  &quot;LastEditDate&quot; TEXT,<br>  &quot;LastActivityDate&quot; TEXT,<br>  &quot;Title&quot; TEXT,<br>  &quot;Tags&quot; TEXT,<br>  &quot;AnswerCount&quot; INTEGER,<br>  &quot;CommentCount&quot; INTEGER,<br>  &quot;FavoriteCount&quot; INTEGER,<br>  &quot;ClosedDate&quot; TEXT,<br>  &quot;CommunityOwnedDate&quot; TEXT<br>)</td>\n",
       "    </tr>\n",
       "    <tr>\n",
       "        <td>CREATE TABLE &quot;users&quot; (<br>&quot;Id&quot; INTEGER,<br>  &quot;Reputation&quot; INTEGER,<br>  &quot;CreationDate&quot; TEXT,<br>  &quot;DisplayName&quot; TEXT,<br>  &quot;LastAccessDate&quot; TEXT,<br>  &quot;WebsiteUrl&quot; TEXT,<br>  &quot;Location&quot; TEXT,<br>  &quot;AboutMe&quot; TEXT,<br>  &quot;Views&quot; INTEGER,<br>  &quot;UpVotes&quot; INTEGER,<br>  &quot;DownVotes&quot; INTEGER,<br>  &quot;ProfileImageUrl&quot; TEXT,<br>  &quot;AccountId&quot; INTEGER<br>)</td>\n",
       "    </tr>\n",
       "</table>"
      ],
      "text/plain": [
       "[('CREATE TABLE \"comments\" (\\n\"Id\" INTEGER,\\n  \"PostId\" INTEGER,\\n  \"Score\" INTEGER,\\n  \"Text\" TEXT,\\n  \"CreationDate\" TEXT,\\n  \"UserId\" INTEGER\\n)',),\n",
       " ('CREATE TABLE \"posts\" (\\n\"Id\" INTEGER,\\n  \"PostTypeId\" INTEGER,\\n  \"AcceptedAnswerId\" INTEGER,\\n  \"ParentId\" INTEGER,\\n  \"CreationDate\" TEXT,\\n  \"Scor ... (240 characters truncated) ...   \"Tags\" TEXT,\\n  \"AnswerCount\" INTEGER,\\n  \"CommentCount\" INTEGER,\\n  \"FavoriteCount\" INTEGER,\\n  \"ClosedDate\" TEXT,\\n  \"CommunityOwnedDate\" TEXT\\n)',),\n",
       " ('CREATE TABLE \"users\" (\\n\"Id\" INTEGER,\\n  \"Reputation\" INTEGER,\\n  \"CreationDate\" TEXT,\\n  \"DisplayName\" TEXT,\\n  \"LastAccessDate\" TEXT,\\n  \"WebsiteUr ... (17 characters truncated) ... tion\" TEXT,\\n  \"AboutMe\" TEXT,\\n  \"Views\" INTEGER,\\n  \"UpVotes\" INTEGER,\\n  \"DownVotes\" INTEGER,\\n  \"ProfileImageUrl\" TEXT,\\n  \"AccountId\" INTEGER\\n)',)]"
      ]
     },
     "execution_count": 20,
     "metadata": {},
     "output_type": "execute_result"
    }
   ],
   "source": [
    "%%sql\n",
    "select sql from sqlite_master"
   ]
  },
  {
   "cell_type": "markdown",
   "metadata": {},
   "source": [
    "**When a table or view is created the SQL code used to define it is saved in a system table called sqlite_master. The code above checks what has been saved. The select sql from sqlite_master command queries this system table to retrieve the SQL code that was used to create each table or view in the database. By looking at this SQL code, you can understand how the tables or views are defined and what columns they contain, among other things.** "
   ]
  },
  {
   "cell_type": "markdown",
   "metadata": {},
   "source": [
    "The above results show the `CREATE TABLE` statements that could be used by Sqlite to recreate the tables with the exact same structure.\n",
    "\n",
    "The problem with the CREATE TABLE statements above is that they don't enforce **referential integrity**.  In other words, they don't ensure that every UserId and PostId in the comments table refers to an actual UserId and PostId in the users and posts tables.  At the moment. we can insert any old number here, and even have multiple users with the same Id!  One of the advantages of working with relational databases is that they can enforce the correct uniqueness and relationships in the data, but at the moment we are not using that feature.  So let's fix that...\n",
    "\n",
    "First, let's drop the original tables:\n"
   ]
  },
  {
   "cell_type": "code",
   "execution_count": 21,
   "metadata": {},
   "outputs": [
    {
     "name": "stdout",
     "output_type": "stream",
     "text": [
      " * sqlite:///chatdata.db\n",
      "Done.\n",
      "Done.\n",
      "Done.\n"
     ]
    },
    {
     "data": {
      "text/plain": [
       "[]"
      ]
     },
     "execution_count": 21,
     "metadata": {},
     "output_type": "execute_result"
    }
   ],
   "source": [
    "%%sql\n",
    "DROP TABLE comments;\n",
    "DROP TABLE users;\n",
    "DROP TABLE posts;"
   ]
  },
  {
   "cell_type": "markdown",
   "metadata": {},
   "source": [
    "**The DROP TABLE statement is used to drop tables in SQL, and the code is using this statement to drop three tables: comments, users, and posts. This means that any data and metadata associated with these tables will be deleted from the database.**"
   ]
  },
  {
   "cell_type": "markdown",
   "metadata": {},
   "source": [
    "Prove that this worked by selecting the names of the tables back.  We should have no tables:"
   ]
  },
  {
   "cell_type": "code",
   "execution_count": 22,
   "metadata": {},
   "outputs": [
    {
     "name": "stdout",
     "output_type": "stream",
     "text": [
      " * sqlite:///chatdata.db\n",
      "Done.\n"
     ]
    },
    {
     "data": {
      "text/html": [
       "<table>\n",
       "    <tr>\n",
       "        <th>name</th>\n",
       "    </tr>\n",
       "</table>"
      ],
      "text/plain": [
       "[]"
      ]
     },
     "execution_count": 22,
     "metadata": {},
     "output_type": "execute_result"
    }
   ],
   "source": [
    "%%sql\n",
    "SELECT name FROM sqlite_master WHERE type='table'\n",
    "    ORDER BY name"
   ]
  },
  {
   "cell_type": "markdown",
   "metadata": {},
   "source": [
    "**The SELECT statement is used to retrieve data from the database. In this case, to retrieve the names of the tables in the database.**\n",
    "\n",
    "**The FROM clause specifies the table or tables to retrieve data from. In this case, the sqlite_master table, a system table in SQLite that contains metadata about all the objects in the database.**\n",
    "\n",
    "**The WHERE clause is used to filter the results of the query. In this case, using the type column of the sqlite_master table to filter for objects of type 'table'.**\n",
    "\n",
    "**The ORDER BY clause is used to sort the results of the query in ascending order by the name column.**"
   ]
  },
  {
   "cell_type": "markdown",
   "metadata": {},
   "source": [
    "In Sqlite we need to enable the enforcement of foreign key constraints foreign key constraints are not enabled by default. Therefore, you need to explicitly enable them by running the PRAGMA foreign_keys=ON; statement before you can create tables with foreign key constraints or insert data into tables that have foreign keys:"
   ]
  },
  {
   "cell_type": "code",
   "execution_count": 23,
   "metadata": {},
   "outputs": [
    {
     "name": "stdout",
     "output_type": "stream",
     "text": [
      " * sqlite:///chatdata.db\n",
      "Done.\n"
     ]
    },
    {
     "data": {
      "text/plain": [
       "[]"
      ]
     },
     "execution_count": 23,
     "metadata": {},
     "output_type": "execute_result"
    }
   ],
   "source": [
    "%%sql\n",
    "PRAGMA foreign_keys=ON;"
   ]
  },
  {
   "cell_type": "markdown",
   "metadata": {},
   "source": [
    "Now recreate the users table with a **primary key constraint** by copying the CREATE TABLE statement from above and adding the NOT NULL PRIMARY KEY clause to the Id:"
   ]
  },
  {
   "cell_type": "code",
   "execution_count": 24,
   "metadata": {},
   "outputs": [
    {
     "name": "stdout",
     "output_type": "stream",
     "text": [
      " * sqlite:///chatdata.db\n",
      "Done.\n"
     ]
    },
    {
     "data": {
      "text/plain": [
       "[]"
      ]
     },
     "execution_count": 24,
     "metadata": {},
     "output_type": "execute_result"
    }
   ],
   "source": [
    "%%sql\n",
    "CREATE TABLE \"users\" (\n",
    "    \"Id\" INTEGER NOT NULL PRIMARY KEY,\n",
    "    \"Reputation\" INTEGER,\n",
    "    \"CreationDate\" TEXT,\n",
    "    \"DisplayName\" TEXT,\n",
    "    \"LastAccessDate\" TEXT,\n",
    "    \"WebsiteUrl\" TEXT,\n",
    "    \"Location\" TEXT,\n",
    "    \"AboutMe\" TEXT,\n",
    "    \"Views\" INTEGER,\n",
    "    \"UpVotes\" INTEGER,\n",
    "    \"DownVotes\" INTEGER,\n",
    "    \"ProfileImageUrl\" TEXT,\n",
    "    \"AccountId\" INTEGER\n",
    ");\n"
   ]
  },
  {
   "cell_type": "markdown",
   "metadata": {},
   "source": [
    "Now do the same for the posts table:\n",
    "\n",
    "<div style=\"background-color:lemonchiffon; border:1px solid; padding:5px; margin:5px; font-weight:bold\"><font color=\"crimson\">\n",
    "TODO: Complete the following code cell\n",
    "    </font></div>"
   ]
  },
  {
   "cell_type": "markdown",
   "metadata": {},
   "source": [
    "Run the CREATE TABLE statement for the posts table, including the primary key constraint"
   ]
  },
  {
   "cell_type": "code",
   "execution_count": 25,
   "metadata": {},
   "outputs": [
    {
     "name": "stdout",
     "output_type": "stream",
     "text": [
      " * sqlite:///chatdata.db\n",
      "Done.\n"
     ]
    },
    {
     "data": {
      "text/plain": [
       "[]"
      ]
     },
     "execution_count": 25,
     "metadata": {},
     "output_type": "execute_result"
    }
   ],
   "source": [
    "%%sql\n",
    "CREATE TABLE \"posts\" (\n",
    "    \"Id\" INTEGER NOT NULL PRIMARY KEY,\n",
    "    \"PostTypeId\" INTEGER,\n",
    "    \"AcceptedAnswerId\" INTEGER,\n",
    "    \"ParentId\" INTEGER,\n",
    "    \"CreationDate\" TEXT,\n",
    "    \"Score\" INTEGER,\n",
    "    \"ViewCount\" INTEGER,\n",
    "    \"Body\" TEXT,\n",
    "    \"OwnerUserId\" INTEGER,\n",
    "    \"OwnerDisplayName\" TEXT,\n",
    "    \"LastEditorUserId\" INTEGER,\n",
    "    \"LastEditorDisplayName\" TEXT,\n",
    "    \"LastEditDate\" TEXT,\n",
    "    \"LastActivityDate\" TEXT,\n",
    "    \"Title\" TEXT,\n",
    "    \"Tags\" TEXT,\n",
    "    \"AnswerCount\" INTEGER,\n",
    "    \"CommentCount\" INTEGER,\n",
    "    \"FavoriteCount\" INTEGER,\n",
    "    \"ClosedDate\" TEXT,\n",
    "    \"CommunityOwnedDate\" TEXT,\n",
    "     FOREIGN KEY(\"OwnerUserId\") REFERENCES \"users\"(\"Id\")\n",
    ");\n"
   ]
  },
  {
   "cell_type": "markdown",
   "metadata": {},
   "source": [
    "Now for the comments table.  We need to add the primary key constraint on the id here as we did for users and posts, but we also need to add FOREIGN KEY constraints on the UserId and PostId. Read the documentation here and find our how to do that: https://www.sqlite.org/foreignkeys.html.  Then create the comments table with the correct constraints:\n",
    "\n",
    "<div style=\"background-color:lemonchiffon; border:1px solid; padding:5px; margin:5px; font-weight:bold\"><font color=\"crimson\">\n",
    "TODO: Complete the following code cell\n",
    "    </font></div>"
   ]
  },
  {
   "cell_type": "code",
   "execution_count": 26,
   "metadata": {},
   "outputs": [],
   "source": [
    "# Run the CREATE TABLE statement for the comments table, including the primary key constraint and the 2 foreign key constraints\n",
    "# TODO"
   ]
  },
  {
   "cell_type": "code",
   "execution_count": 27,
   "metadata": {},
   "outputs": [
    {
     "name": "stdout",
     "output_type": "stream",
     "text": [
      " * sqlite:///chatdata.db\n",
      "Done.\n"
     ]
    },
    {
     "data": {
      "text/plain": [
       "[]"
      ]
     },
     "execution_count": 27,
     "metadata": {},
     "output_type": "execute_result"
    }
   ],
   "source": [
    "%%sql\n",
    "CREATE TABLE \"comments\" (\n",
    "    \"Id\" INTEGER NOT NULL PRIMARY KEY,\n",
    "    \"PostId\" INTEGER,\n",
    "    \"Score\" INTEGER,\n",
    "    \"Text\" TEXT,\n",
    "    \"CreationDate\" TEXT,\n",
    "    \"UserId\" INTEGER,\n",
    "    FOREIGN KEY(\"PostId\") REFERENCES \"posts\"(\"Id\"),\n",
    "    FOREIGN KEY(\"UserId\") REFERENCES \"users\"(\"Id\")\n",
    ");"
   ]
  },
  {
   "cell_type": "markdown",
   "metadata": {},
   "source": [
    "Now we can re-insert the data into these constrained tables.  First users:"
   ]
  },
  {
   "cell_type": "code",
   "execution_count": 28,
   "metadata": {},
   "outputs": [],
   "source": [
    "# Insert data into the new users table\n",
    "users.to_sql('users', con, if_exists='append', index=False)"
   ]
  },
  {
   "cell_type": "markdown",
   "metadata": {},
   "source": [
    "Now posts:\n",
    "\n",
    "<div style=\"background-color:lemonchiffon; border:1px solid; padding:5px; margin:5px; font-weight:bold\"><font color=\"crimson\">\n",
    "TODO: Complete the following code cell\n",
    "    </font></div>"
   ]
  },
  {
   "cell_type": "code",
   "execution_count": 29,
   "metadata": {},
   "outputs": [],
   "source": [
    "# Insert data into the new posts table\n",
    "posts.to_sql('posts', con, if_exists='append', index=False)"
   ]
  },
  {
   "cell_type": "markdown",
   "metadata": {},
   "source": [
    "Finally comments, which references the users and posts tables:\n",
    "\n",
    "<div style=\"background-color:lemonchiffon; border:1px solid; padding:5px; margin:5px; font-weight:bold\"><font color=\"crimson\">\n",
    "TODO: Complete the following code cell\n",
    "    </font></div>"
   ]
  },
  {
   "cell_type": "code",
   "execution_count": 30,
   "metadata": {},
   "outputs": [],
   "source": [
    "# Insert data into the new comments table\n",
    "comments.to_sql('comments', con, if_exists='append', index=False)"
   ]
  },
  {
   "cell_type": "markdown",
   "metadata": {},
   "source": [
    "Now check that we have the 3 new table definitions in Sqlite:"
   ]
  },
  {
   "cell_type": "code",
   "execution_count": 31,
   "metadata": {},
   "outputs": [
    {
     "name": "stdout",
     "output_type": "stream",
     "text": [
      " * sqlite:///chatdata.db\n",
      "Done.\n"
     ]
    },
    {
     "data": {
      "text/html": [
       "<table>\n",
       "    <tr>\n",
       "        <th>name</th>\n",
       "    </tr>\n",
       "    <tr>\n",
       "        <td>comments</td>\n",
       "    </tr>\n",
       "    <tr>\n",
       "        <td>posts</td>\n",
       "    </tr>\n",
       "    <tr>\n",
       "        <td>users</td>\n",
       "    </tr>\n",
       "</table>"
      ],
      "text/plain": [
       "[('comments',), ('posts',), ('users',)]"
      ]
     },
     "execution_count": 31,
     "metadata": {},
     "output_type": "execute_result"
    }
   ],
   "source": [
    "%%sql\n",
    "SELECT name FROM sqlite_master WHERE type='table'\n",
    "    ORDER BY name"
   ]
  },
  {
   "cell_type": "markdown",
   "metadata": {},
   "source": [
    "We now have all the data in tables in Sqlite and the tables will enforce the referential integrity."
   ]
  },
  {
   "cell_type": "markdown",
   "metadata": {},
   "source": [
    "# Example Query and Pattern for Tasks 2 and 3\n",
    "\n",
    "As you work through the next tasks, you will need to:\n",
    "\n",
    "1. Prepare the Sqlite query to answer the question\n",
    "2. Test it\n",
    "3. Insert it into the `queries` table, so we have a record of it for others.\n",
    "\n",
    "This is the process that we want you to follow for this project while completing it. "
   ]
  },
  {
   "cell_type": "markdown",
   "metadata": {},
   "source": [
    "Let's see an example of this by answering the following question:\n",
    "\n",
    "**Which 5 users have viewed the most times and what is the sum of those views per user?**\n",
    "\n",
    "## Prepare the Sqlite query\n",
    "\n",
    "First, let's write the query:"
   ]
  },
  {
   "cell_type": "code",
   "execution_count": 32,
   "metadata": {},
   "outputs": [
    {
     "data": {
      "text/html": [
       "<div>\n",
       "<style scoped>\n",
       "    .dataframe tbody tr th:only-of-type {\n",
       "        vertical-align: middle;\n",
       "    }\n",
       "\n",
       "    .dataframe tbody tr th {\n",
       "        vertical-align: top;\n",
       "    }\n",
       "\n",
       "    .dataframe thead th {\n",
       "        text-align: right;\n",
       "    }\n",
       "</style>\n",
       "<table border=\"1\" class=\"dataframe\">\n",
       "  <thead>\n",
       "    <tr style=\"text-align: right;\">\n",
       "      <th></th>\n",
       "      <th>Id</th>\n",
       "      <th>TotalViews</th>\n",
       "    </tr>\n",
       "  </thead>\n",
       "  <tbody>\n",
       "    <tr>\n",
       "      <th>0</th>\n",
       "      <td>919</td>\n",
       "      <td>85180</td>\n",
       "    </tr>\n",
       "    <tr>\n",
       "      <th>1</th>\n",
       "      <td>4253</td>\n",
       "      <td>35119</td>\n",
       "    </tr>\n",
       "    <tr>\n",
       "      <th>2</th>\n",
       "      <td>805</td>\n",
       "      <td>34637</td>\n",
       "    </tr>\n",
       "    <tr>\n",
       "      <th>3</th>\n",
       "      <td>7290</td>\n",
       "      <td>32639</td>\n",
       "    </tr>\n",
       "    <tr>\n",
       "      <th>4</th>\n",
       "      <td>3277</td>\n",
       "      <td>29255</td>\n",
       "    </tr>\n",
       "  </tbody>\n",
       "</table>\n",
       "</div>"
      ],
      "text/plain": [
       "     Id  TotalViews\n",
       "0   919       85180\n",
       "1  4253       35119\n",
       "2   805       34637\n",
       "3  7290       32639\n",
       "4  3277       29255"
      ]
     },
     "execution_count": 32,
     "metadata": {},
     "output_type": "execute_result"
    }
   ],
   "source": [
    "sql = \"\"\"\n",
    "SELECT Id, SUM(Views) AS TotalViews\n",
    "    FROM Users\n",
    "        GROUP BY Id\n",
    "            ORDER BY TotalViews DESC\n",
    "                LIMIT 5\n",
    "                \"\"\"\n",
    "result = pd.read_sql(sql, con) # con is the connection to the database\n",
    "result"
   ]
  },
  {
   "cell_type": "markdown",
   "metadata": {},
   "source": [
    "## Test the query\n",
    "You can optionally prove the query worked by performing the same query in Pandas:"
   ]
  },
  {
   "cell_type": "code",
   "execution_count": 33,
   "metadata": {},
   "outputs": [
    {
     "data": {
      "text/plain": [
       "Id\n",
       "919     85180\n",
       "4253    35119\n",
       "805     34637\n",
       "7290    32639\n",
       "3277    29255\n",
       "Name: Views, dtype: int64"
      ]
     },
     "execution_count": 33,
     "metadata": {},
     "output_type": "execute_result"
    }
   ],
   "source": [
    "results = users.groupby(['Id']).sum().sort_values('Views', ascending = False)[:5]\n",
    "results['Views']"
   ]
  },
  {
   "cell_type": "markdown",
   "metadata": {},
   "source": [
    "## Insert the query into the `queries` table\n",
    "Now we need to put this query into the `queries` table in sqlite. Remember we want these queries to be accessible to everybody that should have access to them. We do not want people writing and rewriting the same queires over and over again. The easiest thing to do is create a dictionary with the values and insert these into the queries table.  Note that the values are provided as lists as we are inserting a list of values (i.e. a number of rows) into the table.  In this case the number of rows is 1, so we have lists of 1 item.\n",
    "\n",
    "So here, we have a column called 'task' with a list of values, a column called 'action' with a list of values, etc."
   ]
  },
  {
   "cell_type": "code",
   "execution_count": 34,
   "metadata": {},
   "outputs": [
    {
     "data": {
      "text/plain": [
       "{'task': ['Single Table Queries'],\n",
       " 'action': ['Which 5 users have viewed the most times and what is the sum of those views per user?'],\n",
       " 'query': ['\\nSELECT Id, SUM(Views) AS TotalViews\\n    FROM Users\\n        GROUP BY Id\\n            ORDER BY TotalViews DESC\\n                LIMIT 5\\n                ']}"
      ]
     },
     "execution_count": 34,
     "metadata": {},
     "output_type": "execute_result"
    }
   ],
   "source": [
    "query_dict = {\n",
    "              'task': ['Single Table Queries'],\n",
    "              'action': ['Which 5 users have viewed the most times and what is the sum of those views per user?'],\n",
    "              'query': [sql]\n",
    "             }\n",
    "query_dict"
   ]
  },
  {
   "cell_type": "markdown",
   "metadata": {},
   "source": [
    "Now that you have the data structure (query_dict) containing the data, create a pandas dataframe that holds those values:"
   ]
  },
  {
   "cell_type": "code",
   "execution_count": 35,
   "metadata": {},
   "outputs": [
    {
     "data": {
      "text/html": [
       "<div>\n",
       "<style scoped>\n",
       "    .dataframe tbody tr th:only-of-type {\n",
       "        vertical-align: middle;\n",
       "    }\n",
       "\n",
       "    .dataframe tbody tr th {\n",
       "        vertical-align: top;\n",
       "    }\n",
       "\n",
       "    .dataframe thead th {\n",
       "        text-align: right;\n",
       "    }\n",
       "</style>\n",
       "<table border=\"1\" class=\"dataframe\">\n",
       "  <thead>\n",
       "    <tr style=\"text-align: right;\">\n",
       "      <th></th>\n",
       "      <th>task</th>\n",
       "      <th>action</th>\n",
       "      <th>query</th>\n",
       "    </tr>\n",
       "  </thead>\n",
       "  <tbody>\n",
       "    <tr>\n",
       "      <th>0</th>\n",
       "      <td>Single Table Queries</td>\n",
       "      <td>Which 5 users have viewed the most times and w...</td>\n",
       "      <td>\\nSELECT Id, SUM(Views) AS TotalViews\\n    FRO...</td>\n",
       "    </tr>\n",
       "  </tbody>\n",
       "</table>\n",
       "</div>"
      ],
      "text/plain": [
       "                   task                                             action  \\\n",
       "0  Single Table Queries  Which 5 users have viewed the most times and w...   \n",
       "\n",
       "                                               query  \n",
       "0  \\nSELECT Id, SUM(Views) AS TotalViews\\n    FRO...  "
      ]
     },
     "execution_count": 35,
     "metadata": {},
     "output_type": "execute_result"
    }
   ],
   "source": [
    "queries = pd.DataFrame(query_dict)\n",
    "queries"
   ]
  },
  {
   "cell_type": "markdown",
   "metadata": {},
   "source": [
    "Now load that pandas dataframe (queries) into the sqlite table called queries. In this case, you use append NOT replace. You will be adding to this tables as you go thru this project."
   ]
  },
  {
   "cell_type": "code",
   "execution_count": 36,
   "metadata": {},
   "outputs": [
    {
     "data": {
      "text/html": [
       "<div>\n",
       "<style scoped>\n",
       "    .dataframe tbody tr th:only-of-type {\n",
       "        vertical-align: middle;\n",
       "    }\n",
       "\n",
       "    .dataframe tbody tr th {\n",
       "        vertical-align: top;\n",
       "    }\n",
       "\n",
       "    .dataframe thead th {\n",
       "        text-align: right;\n",
       "    }\n",
       "</style>\n",
       "<table border=\"1\" class=\"dataframe\">\n",
       "  <thead>\n",
       "    <tr style=\"text-align: right;\">\n",
       "      <th></th>\n",
       "      <th>task</th>\n",
       "      <th>action</th>\n",
       "      <th>query</th>\n",
       "    </tr>\n",
       "  </thead>\n",
       "  <tbody>\n",
       "    <tr>\n",
       "      <th>0</th>\n",
       "      <td>Single Table Queries</td>\n",
       "      <td>Which 5 users have viewed the most times and w...</td>\n",
       "      <td>\\nSELECT Id, SUM(Views) AS TotalViews\\n    FRO...</td>\n",
       "    </tr>\n",
       "  </tbody>\n",
       "</table>\n",
       "</div>"
      ],
      "text/plain": [
       "                   task                                             action  \\\n",
       "0  Single Table Queries  Which 5 users have viewed the most times and w...   \n",
       "\n",
       "                                               query  \n",
       "0  \\nSELECT Id, SUM(Views) AS TotalViews\\n    FRO...  "
      ]
     },
     "execution_count": 36,
     "metadata": {},
     "output_type": "execute_result"
    }
   ],
   "source": [
    "# load query into sqlite\n",
    "queries.to_sql('queries', con, if_exists='append', index=False)\n",
    "\n",
    "# read back in to prove that it worked\n",
    "sql = 'SELECT * FROM queries'\n",
    "queries = pd.read_sql(sql, con)\n",
    "queries.head()"
   ]
  },
  {
   "cell_type": "markdown",
   "metadata": {},
   "source": [
    "It is likely that as you iterate thru this notebook you will create some duplicate entries in the query table. Not a big deal. Just tell sql or pandas (much easier in pandas) to drop the duplicates! If you drop the duplicates in Pandas you will have to write the entire dataframe back to sqlite. Otherwise it is changed in memory in Pandas but NOT in sqlite on the disk drive (or SDD). Just do this drop at the end of this notebook so that you are not constantly dealing with this. "
   ]
  },
  {
   "cell_type": "markdown",
   "metadata": {},
   "source": [
    "So, to summarise, as you go through the following tasks you need to:\n",
    "\n",
    "- answer the question in sql\n",
    "- prove it in pandas (if you want to)\n",
    "- put the query into the queries table"
   ]
  },
  {
   "cell_type": "markdown",
   "metadata": {},
   "source": [
    "# Task 1 (continued): Insert the CREATE TABLE Statements into the `queries` Table\n",
    "\n",
    "Now that we understand how to populate the `queries` table, let's insert the CREATE TABLE statements into it.  First let's define a function to help us insert into the queries table:\n"
   ]
  },
  {
   "cell_type": "code",
   "execution_count": 37,
   "metadata": {},
   "outputs": [],
   "source": [
    "# Define a function that will insert into the queries table\n",
    "def store_query(task, action, query):\n",
    "    query_dict = {\n",
    "                  'task': [task],\n",
    "                  'action': [action],\n",
    "                  'query': [query]\n",
    "                 }\n",
    "\n",
    "    # put query into the query_dict\n",
    "    queries = pd.DataFrame(query_dict)\n",
    "\n",
    "    # load query into sqlite\n",
    "    queries.to_sql('queries', con, if_exists='append', index=False)    "
   ]
  },
  {
   "cell_type": "markdown",
   "metadata": {},
   "source": [
    "Now we can specify the queries and call the above function to store them.  The first one is done for you."
   ]
  },
  {
   "cell_type": "code",
   "execution_count": 38,
   "metadata": {},
   "outputs": [],
   "source": [
    "sql = \"\"\"\n",
    "    CREATE TABLE \"comments\" (\n",
    "    \"Id\" INTEGER,\n",
    "    \"PostId\" INTEGER,\n",
    "    \"Score\" INTEGER,\n",
    "    \"Text\" TEXT,\n",
    "    \"CreationDate\" TEXT,\n",
    "    \"UserId\" INTEGER\n",
    "    )\n",
    "    \"\"\"\n",
    "store_query(\"Creating Tables\", \"Create table comments\", sql)"
   ]
  },
  {
   "cell_type": "markdown",
   "metadata": {},
   "source": [
    "Let's prove it works by selecting back from the queries table:"
   ]
  },
  {
   "cell_type": "code",
   "execution_count": 39,
   "metadata": {},
   "outputs": [
    {
     "name": "stdout",
     "output_type": "stream",
     "text": [
      " * sqlite:///chatdata.db\n",
      "Done.\n"
     ]
    },
    {
     "data": {
      "text/html": [
       "<table>\n",
       "    <tr>\n",
       "        <th>task</th>\n",
       "        <th>action</th>\n",
       "        <th>query</th>\n",
       "    </tr>\n",
       "    <tr>\n",
       "        <td>Single Table Queries</td>\n",
       "        <td>Which 5 users have viewed the most times and what is the sum of those views per user?</td>\n",
       "        <td><br>SELECT Id, SUM(Views) AS TotalViews<br>    FROM Users<br>        GROUP BY Id<br>            ORDER BY TotalViews DESC<br>                LIMIT 5<br>                </td>\n",
       "    </tr>\n",
       "    <tr>\n",
       "        <td>Creating Tables</td>\n",
       "        <td>Create table comments</td>\n",
       "        <td><br>    CREATE TABLE &quot;comments&quot; (<br>    &quot;Id&quot; INTEGER,<br>    &quot;PostId&quot; INTEGER,<br>    &quot;Score&quot; INTEGER,<br>    &quot;Text&quot; TEXT,<br>    &quot;CreationDate&quot; TEXT,<br>    &quot;UserId&quot; INTEGER<br>    )<br>    </td>\n",
       "    </tr>\n",
       "</table>"
      ],
      "text/plain": [
       "[('Single Table Queries', 'Which 5 users have viewed the most times and what is the sum of those views per user?', '\\nSELECT Id, SUM(Views) AS TotalViews\\n    FROM Users\\n        GROUP BY Id\\n            ORDER BY TotalViews DESC\\n                LIMIT 5\\n                '),\n",
       " ('Creating Tables', 'Create table comments', '\\n    CREATE TABLE \"comments\" (\\n    \"Id\" INTEGER,\\n    \"PostId\" INTEGER,\\n    \"Score\" INTEGER,\\n    \"Text\" TEXT,\\n    \"CreationDate\" TEXT,\\n    \"UserId\" INTEGER\\n    )\\n    ')]"
      ]
     },
     "execution_count": 39,
     "metadata": {},
     "output_type": "execute_result"
    }
   ],
   "source": [
    "# Prove it works\n",
    "%sql SELECT * FROM queries"
   ]
  },
  {
   "cell_type": "markdown",
   "metadata": {},
   "source": [
    "## Insert the other CREATE TABLE statements into the `queries` table.\n",
    "Follow the above pattern to complete these code cells:\n",
    "\n",
    "<div style=\"background-color:lemonchiffon; border:1px solid; padding:5px; margin:5px; font-weight:bold\"><font color=\"crimson\">\n",
    "TODO: Complete the following code cells\n",
    "    </font></div>"
   ]
  },
  {
   "cell_type": "code",
   "execution_count": 40,
   "metadata": {},
   "outputs": [],
   "source": [
    "# Insert the CREATE TABLE for posts into the queries table\n",
    "sql2 = \"\"\"\n",
    "    CREATE TABLE \"posts\" (\n",
    "    \"Id\" INTEGER NOT NULL PRIMARY KEY,\n",
    "    \"PostTypeId\" INTEGER,\n",
    "    \"AcceptedAnswerId\" INTEGER,\n",
    "    \"ParentId\" INTEGER,\n",
    "    \"CreationDate\" TEXT,\n",
    "    \"Score\" INTEGER,\n",
    "    \"ViewCount\" INTEGER,\n",
    "    \"Body\" TEXT,\n",
    "    \"OwnerUserId\" INTEGER,\n",
    "    \"OwnerDisplayName\" TEXT,\n",
    "    \"LastEditorUserId\" INTEGER,\n",
    "    \"LastEditorDisplayName\" TEXT,\n",
    "    \"LastEditDate\" TEXT,\n",
    "    \"LastActivityDate\" TEXT,\n",
    "    \"Title\" TEXT,\n",
    "    \"Tags\" TEXT,\n",
    "    \"AnswerCount\" INTEGER,\n",
    "    \"CommentCount\" INTEGER,\n",
    "    \"FavoriteCount\" INTEGER,\n",
    "    \"ClosedDate\" TEXT,\n",
    "    \"CommunityOwnedDate\" TEXT\n",
    "    )\n",
    "    \"\"\"\n",
    "store_query(\"Creating Tables\", \"Create table posts\", sql2)"
   ]
  },
  {
   "cell_type": "code",
   "execution_count": 41,
   "metadata": {},
   "outputs": [],
   "source": [
    "# Insert the CREATE TABLE for users into the queries table\n",
    "sql3 = \"\"\"\n",
    "    CREATE TABLE \"users\" (\n",
    "    \"Id\" INTEGER NOT NULL PRIMARY KEY,\n",
    "    \"Reputation\" INTEGER,\n",
    "    \"CreationDate\" TEXT,\n",
    "    \"DisplayName\" TEXT,\n",
    "    \"LastAccessDate\" TEXT,\n",
    "    \"WebsiteUrl\" TEXT,\n",
    "    \"Location\" TEXT,\n",
    "    \"AboutMe\" TEXT,\n",
    "    \"Views\" INTEGER,\n",
    "    \"UpVotes\" INTEGER,\n",
    "    \"DownVotes\" INTEGER,\n",
    "    \"ProfileImageUrl\" TEXT,\n",
    "    \"AccountId\" INTEGER\n",
    "    );\n",
    "    \"\"\"\n",
    "store_query(\"Creating Tables\", \"Create table users\", sql3)"
   ]
  },
  {
   "cell_type": "markdown",
   "metadata": {},
   "source": [
    "## Count the Number of Rows in Each Table\n",
    "Run some queries to count the number of rows in each of the tables.  Don't forget to insert the query into the queries table.\n",
    "\n",
    "<div style=\"background-color:lemonchiffon; border:1px solid; padding:5px; margin:5px; font-weight:bold\"><font color=\"crimson\">\n",
    "TODO: Complete the following code cells\n",
    "    </font></div>"
   ]
  },
  {
   "cell_type": "code",
   "execution_count": 42,
   "metadata": {},
   "outputs": [
    {
     "data": {
      "text/plain": [
       "50000"
      ]
     },
     "execution_count": 42,
     "metadata": {},
     "output_type": "execute_result"
    }
   ],
   "source": [
    "# Count the number of rows in the comments table\n",
    "len(comments)"
   ]
  },
  {
   "cell_type": "code",
   "execution_count": 43,
   "metadata": {},
   "outputs": [
    {
     "data": {
      "text/html": [
       "<div>\n",
       "<style scoped>\n",
       "    .dataframe tbody tr th:only-of-type {\n",
       "        vertical-align: middle;\n",
       "    }\n",
       "\n",
       "    .dataframe tbody tr th {\n",
       "        vertical-align: top;\n",
       "    }\n",
       "\n",
       "    .dataframe thead th {\n",
       "        text-align: right;\n",
       "    }\n",
       "</style>\n",
       "<table border=\"1\" class=\"dataframe\">\n",
       "  <thead>\n",
       "    <tr style=\"text-align: right;\">\n",
       "      <th></th>\n",
       "      <th>Id</th>\n",
       "      <th>PostId</th>\n",
       "      <th>Score</th>\n",
       "      <th>Text</th>\n",
       "      <th>CreationDate</th>\n",
       "      <th>UserId</th>\n",
       "    </tr>\n",
       "  </thead>\n",
       "  <tbody>\n",
       "    <tr>\n",
       "      <th>0</th>\n",
       "      <td>723182</td>\n",
       "      <td>385124</td>\n",
       "      <td>0</td>\n",
       "      <td>@BenBolker I don't understand. The fit cannot ...</td>\n",
       "      <td>2019-01-01 00:06:39</td>\n",
       "      <td>78575</td>\n",
       "    </tr>\n",
       "    <tr>\n",
       "      <th>1</th>\n",
       "      <td>723183</td>\n",
       "      <td>385124</td>\n",
       "      <td>3</td>\n",
       "      <td>You can't add *less* than (`-min(y)`), but you...</td>\n",
       "      <td>2019-01-01 00:09:22</td>\n",
       "      <td>2126</td>\n",
       "    </tr>\n",
       "    <tr>\n",
       "      <th>2</th>\n",
       "      <td>723186</td>\n",
       "      <td>385137</td>\n",
       "      <td>0</td>\n",
       "      <td>nice. If you felt like doing the work it would...</td>\n",
       "      <td>2019-01-01 00:32:11</td>\n",
       "      <td>2126</td>\n",
       "    </tr>\n",
       "    <tr>\n",
       "      <th>3</th>\n",
       "      <td>723187</td>\n",
       "      <td>385137</td>\n",
       "      <td>0</td>\n",
       "      <td>i.e. `emdbook::curve3d(-sum(dnbinom(y,mu=mu,si...</td>\n",
       "      <td>2019-01-01 00:40:36</td>\n",
       "      <td>2126</td>\n",
       "    </tr>\n",
       "    <tr>\n",
       "      <th>4</th>\n",
       "      <td>723188</td>\n",
       "      <td>385134</td>\n",
       "      <td>0</td>\n",
       "      <td>Don't you mean \"so variance should be $\\sigma^...</td>\n",
       "      <td>2019-01-01 00:41:28</td>\n",
       "      <td>112141</td>\n",
       "    </tr>\n",
       "  </tbody>\n",
       "</table>\n",
       "</div>"
      ],
      "text/plain": [
       "       Id  PostId  Score                                               Text  \\\n",
       "0  723182  385124      0  @BenBolker I don't understand. The fit cannot ...   \n",
       "1  723183  385124      3  You can't add *less* than (`-min(y)`), but you...   \n",
       "2  723186  385137      0  nice. If you felt like doing the work it would...   \n",
       "3  723187  385137      0  i.e. `emdbook::curve3d(-sum(dnbinom(y,mu=mu,si...   \n",
       "4  723188  385134      0  Don't you mean \"so variance should be $\\sigma^...   \n",
       "\n",
       "          CreationDate  UserId  \n",
       "0  2019-01-01 00:06:39   78575  \n",
       "1  2019-01-01 00:09:22    2126  \n",
       "2  2019-01-01 00:32:11    2126  \n",
       "3  2019-01-01 00:40:36    2126  \n",
       "4  2019-01-01 00:41:28  112141  "
      ]
     },
     "execution_count": 43,
     "metadata": {},
     "output_type": "execute_result"
    }
   ],
   "source": [
    "# convert the tuple to a DataFrame\n",
    "comments_df = pd.DataFrame(comments, columns=['Id', 'PostId', 'Score','Text','CreationDate','UserId'])\n",
    "\n",
    "# display the DataFrame\n",
    "comments_df.head()"
   ]
  },
  {
   "cell_type": "code",
   "execution_count": 44,
   "metadata": {},
   "outputs": [
    {
     "name": "stdout",
     "output_type": "stream",
     "text": [
      "The number of rows in the comments table are: 50000\n"
     ]
    }
   ],
   "source": [
    "# Count the number of rows in the comments table\n",
    "#the [0] next to shape specifies the number of rows\n",
    "print('The number of rows in the comments table are:',comments.shape[0])"
   ]
  },
  {
   "cell_type": "code",
   "execution_count": 45,
   "metadata": {},
   "outputs": [
    {
     "name": "stdout",
     "output_type": "stream",
     "text": [
      " * sqlite:///chatdata.db\n",
      "Done.\n"
     ]
    },
    {
     "data": {
      "text/html": [
       "<table>\n",
       "    <tr>\n",
       "        <th>COUNT (*)</th>\n",
       "    </tr>\n",
       "    <tr>\n",
       "        <td>42234</td>\n",
       "    </tr>\n",
       "</table>"
      ],
      "text/plain": [
       "[(42234,)]"
      ]
     },
     "execution_count": 45,
     "metadata": {},
     "output_type": "execute_result"
    }
   ],
   "source": [
    "%%sql\n",
    "SELECT COUNT (*)\n",
    "FROM posts;"
   ]
  },
  {
   "cell_type": "code",
   "execution_count": 46,
   "metadata": {},
   "outputs": [
    {
     "name": "stdout",
     "output_type": "stream",
     "text": [
      " * sqlite:///chatdata.db\n",
      "Done.\n"
     ]
    },
    {
     "data": {
      "text/html": [
       "<table>\n",
       "    <tr>\n",
       "        <th>COUNT (*)</th>\n",
       "    </tr>\n",
       "    <tr>\n",
       "        <td>18412</td>\n",
       "    </tr>\n",
       "</table>"
      ],
      "text/plain": [
       "[(18412,)]"
      ]
     },
     "execution_count": 46,
     "metadata": {},
     "output_type": "execute_result"
    }
   ],
   "source": [
    "%%sql\n",
    "SELECT COUNT (*)\n",
    "FROM users;"
   ]
  },
  {
   "cell_type": "markdown",
   "metadata": {},
   "source": [
    "## Do some Random Checks on the Data\n",
    "Let's write some queries that select 5 random rows from each table.  The queries are provided here:\n",
    "\n",
    "    select * from Comments order by random() limit 5;\n",
    "    select * from Users order by random() limit 5;\n",
    "    select * from Posts order by random() limit 5;\n",
    "\n",
    "Enter the queries into the code cells below and insert the queries into the `queries` table in the same was as you did for the CREATE TABLE statements.\n",
    "\n",
    "<div style=\"background-color:lemonchiffon; border:1px solid; padding:5px; margin:5px; font-weight:bold\"><font color=\"crimson\">\n",
    "TODO: Complete the following code cells\n",
    "    </font></div>"
   ]
  },
  {
   "cell_type": "code",
   "execution_count": 47,
   "metadata": {},
   "outputs": [],
   "source": [
    "# Run the query to select 5 random rows from the posts table\n",
    "# TODO"
   ]
  },
  {
   "cell_type": "code",
   "execution_count": 48,
   "metadata": {},
   "outputs": [
    {
     "name": "stdout",
     "output_type": "stream",
     "text": [
      " * sqlite:///chatdata.db\n",
      "Done.\n"
     ]
    },
    {
     "data": {
      "text/html": [
       "<table>\n",
       "    <tr>\n",
       "        <th>Id</th>\n",
       "        <th>PostId</th>\n",
       "        <th>Score</th>\n",
       "        <th>Text</th>\n",
       "        <th>CreationDate</th>\n",
       "        <th>UserId</th>\n",
       "    </tr>\n",
       "    <tr>\n",
       "        <td>746416</td>\n",
       "        <td>398426</td>\n",
       "        <td>0</td>\n",
       "        <td>In SPSS, there is a classification table. Yes, I reduced the cut-off from 0.5 down to 0.10 and eventually zeroed out the typeII error.<br>I am trying to figure out if the multivariate (binary) logistic regression with 13 risk factors can make a significantly better prediction. Also, I am trying to figure out from a list of many risk factors, which are more related to this diagnosis.</td>\n",
       "        <td>2019-03-20 00:16:53</td>\n",
       "        <td>241742</td>\n",
       "    </tr>\n",
       "    <tr>\n",
       "        <td>768804</td>\n",
       "        <td>411719</td>\n",
       "        <td>0</td>\n",
       "        <td>@djlid Yes, I agree. Of course, the 100% is used by propagandists, even though it is completely meaningless.</td>\n",
       "        <td>2019-06-05 23:17:30</td>\n",
       "        <td>55548</td>\n",
       "    </tr>\n",
       "    <tr>\n",
       "        <td>752897</td>\n",
       "        <td>402319</td>\n",
       "        <td>1</td>\n",
       "        <td>Generally speaking, using the lowest sum of (absolute value of error) is more robust to outliers that lowest sum of (error squared). Ann outlier with an error value of 5 becomes 25 when squared.</td>\n",
       "        <td>2019-04-10 22:13:43</td>\n",
       "        <td>35584</td>\n",
       "    </tr>\n",
       "    <tr>\n",
       "        <td>791660</td>\n",
       "        <td>423408</td>\n",
       "        <td>0</td>\n",
       "        <td>why don&#x27;t u invite me to chat session so we can continue this , if you can&#x27;t do this we can communicate via email</td>\n",
       "        <td>2019-08-29 14:19:39</td>\n",
       "        <td>3382</td>\n",
       "    </tr>\n",
       "    <tr>\n",
       "        <td>785137</td>\n",
       "        <td>420681</td>\n",
       "        <td>0</td>\n",
       "        <td>Thanks, it took me some time to process, but it is a very detailed explanation of how to tackle the problem. Mathematics is such a beautiful language. However, I am not quite sure how to read the infinity sign in equation (1). I should brush up on my math, but maybe you like to explain?</td>\n",
       "        <td>2019-08-06 11:44:06</td>\n",
       "        <td>200983</td>\n",
       "    </tr>\n",
       "</table>"
      ],
      "text/plain": [
       "[(746416, 398426, 0, 'In SPSS, there is a classification table. Yes, I reduced the cut-off from 0.5 down to 0.10 and eventually zeroed out the typeII error.\\nI am trying t ... (85 characters truncated) ... n make a significantly better prediction. Also, I am trying to figure out from a list of many risk factors, which are more related to this diagnosis.', '2019-03-20 00:16:53', 241742),\n",
       " (768804, 411719, 0, '@djlid Yes, I agree. Of course, the 100% is used by propagandists, even though it is completely meaningless.', '2019-06-05 23:17:30', 55548),\n",
       " (752897, 402319, 1, 'Generally speaking, using the lowest sum of (absolute value of error) is more robust to outliers that lowest sum of (error squared). Ann outlier with an error value of 5 becomes 25 when squared.', '2019-04-10 22:13:43', 35584),\n",
       " (791660, 423408, 0, \"why don't u invite me to chat session so we can continue this , if you can't do this we can communicate via email\", '2019-08-29 14:19:39', 3382),\n",
       " (785137, 420681, 0, 'Thanks, it took me some time to process, but it is a very detailed explanation of how to tackle the problem. Mathematics is such a beautiful language. However, I am not quite sure how to read the infinity sign in equation (1). I should brush up on my math, but maybe you like to explain?', '2019-08-06 11:44:06', 200983)]"
      ]
     },
     "execution_count": 48,
     "metadata": {},
     "output_type": "execute_result"
    }
   ],
   "source": [
    "%%sql\n",
    "select * from Comments order by random() limit 5;"
   ]
  },
  {
   "cell_type": "code",
   "execution_count": 49,
   "metadata": {},
   "outputs": [],
   "source": [
    "# Run the query to select 5 random rows from the posts comments\n",
    "# TODO"
   ]
  },
  {
   "cell_type": "code",
   "execution_count": 50,
   "metadata": {},
   "outputs": [
    {
     "name": "stdout",
     "output_type": "stream",
     "text": [
      " * sqlite:///chatdata.db\n",
      "Done.\n"
     ]
    },
    {
     "data": {
      "text/html": [
       "<table>\n",
       "    <tr>\n",
       "        <th>Id</th>\n",
       "        <th>Reputation</th>\n",
       "        <th>CreationDate</th>\n",
       "        <th>DisplayName</th>\n",
       "        <th>LastAccessDate</th>\n",
       "        <th>WebsiteUrl</th>\n",
       "        <th>Location</th>\n",
       "        <th>AboutMe</th>\n",
       "        <th>Views</th>\n",
       "        <th>UpVotes</th>\n",
       "        <th>DownVotes</th>\n",
       "        <th>ProfileImageUrl</th>\n",
       "        <th>AccountId</th>\n",
       "    </tr>\n",
       "    <tr>\n",
       "        <td>142801</td>\n",
       "        <td>141</td>\n",
       "        <td>2016-12-18 20:03:39</td>\n",
       "        <td>Anthony</td>\n",
       "        <td>2019-10-23 17:59:29</td>\n",
       "        <td>None</td>\n",
       "        <td>None</td>\n",
       "        <td>None</td>\n",
       "        <td>0</td>\n",
       "        <td>0</td>\n",
       "        <td>0</td>\n",
       "        <td>https://www.gravatar.com/avatar/2f3ba4237a6edc799533c393afafa09e?s=128&amp;d=identicon&amp;r=PG&amp;f=1</td>\n",
       "        <td>5642665</td>\n",
       "    </tr>\n",
       "    <tr>\n",
       "        <td>48973</td>\n",
       "        <td>185</td>\n",
       "        <td>2014-06-25 10:53:13</td>\n",
       "        <td>r.bot</td>\n",
       "        <td>2019-11-27 16:37:17</td>\n",
       "        <td>None</td>\n",
       "        <td>None</td>\n",
       "        <td>&lt;p&gt;&lt;/p&gt;<br></td>\n",
       "        <td>5</td>\n",
       "        <td>41</td>\n",
       "        <td>0</td>\n",
       "        <td>https://i.stack.imgur.com/TSH6j.jpg?s=128&amp;g=1</td>\n",
       "        <td>3112082</td>\n",
       "    </tr>\n",
       "    <tr>\n",
       "        <td>244039</td>\n",
       "        <td>11</td>\n",
       "        <td>2019-04-08 19:19:42</td>\n",
       "        <td>Nils Rudqvist</td>\n",
       "        <td>2019-10-18 14:27:58</td>\n",
       "        <td>None</td>\n",
       "        <td>None</td>\n",
       "        <td>None</td>\n",
       "        <td>0</td>\n",
       "        <td>0</td>\n",
       "        <td>0</td>\n",
       "        <td>https://lh5.googleusercontent.com/-EKMfMx07Omc/AAAAAAAAAAI/AAAAAAAAeHE/Asb7-jftY70/photo.jpg?sz=128</td>\n",
       "        <td>11126770</td>\n",
       "    </tr>\n",
       "    <tr>\n",
       "        <td>260535</td>\n",
       "        <td>15</td>\n",
       "        <td>2019-09-22 12:37:35</td>\n",
       "        <td>Timmy</td>\n",
       "        <td>2019-11-15 15:24:46</td>\n",
       "        <td>None</td>\n",
       "        <td>None</td>\n",
       "        <td>None</td>\n",
       "        <td>4</td>\n",
       "        <td>0</td>\n",
       "        <td>0</td>\n",
       "        <td>https://www.gravatar.com/avatar/842de385be190714df40f6c7fa638463?s=128&amp;d=identicon&amp;r=PG</td>\n",
       "        <td>12634996</td>\n",
       "    </tr>\n",
       "    <tr>\n",
       "        <td>142896</td>\n",
       "        <td>179</td>\n",
       "        <td>2016-12-19 18:35:06</td>\n",
       "        <td>Mustard Tiger</td>\n",
       "        <td>2019-10-28 02:58:31</td>\n",
       "        <td>None</td>\n",
       "        <td>Canada</td>\n",
       "        <td>None</td>\n",
       "        <td>9</td>\n",
       "        <td>39</td>\n",
       "        <td>0</td>\n",
       "        <td>https://i.stack.imgur.com/dCKEb.jpg</td>\n",
       "        <td>5496408</td>\n",
       "    </tr>\n",
       "</table>"
      ],
      "text/plain": [
       "[(142801, 141, '2016-12-18 20:03:39', 'Anthony', '2019-10-23 17:59:29', None, None, None, 0, 0, 0, 'https://www.gravatar.com/avatar/2f3ba4237a6edc799533c393afafa09e?s=128&d=identicon&r=PG&f=1', 5642665),\n",
       " (48973, 185, '2014-06-25 10:53:13', 'r.bot', '2019-11-27 16:37:17', None, None, '<p></p>\\n', 5, 41, 0, 'https://i.stack.imgur.com/TSH6j.jpg?s=128&g=1', 3112082),\n",
       " (244039, 11, '2019-04-08 19:19:42', 'Nils Rudqvist', '2019-10-18 14:27:58', None, None, None, 0, 0, 0, 'https://lh5.googleusercontent.com/-EKMfMx07Omc/AAAAAAAAAAI/AAAAAAAAeHE/Asb7-jftY70/photo.jpg?sz=128', 11126770),\n",
       " (260535, 15, '2019-09-22 12:37:35', 'Timmy', '2019-11-15 15:24:46', None, None, None, 4, 0, 0, 'https://www.gravatar.com/avatar/842de385be190714df40f6c7fa638463?s=128&d=identicon&r=PG', 12634996),\n",
       " (142896, 179, '2016-12-19 18:35:06', 'Mustard Tiger', '2019-10-28 02:58:31', None, 'Canada', None, 9, 39, 0, 'https://i.stack.imgur.com/dCKEb.jpg', 5496408)]"
      ]
     },
     "execution_count": 50,
     "metadata": {},
     "output_type": "execute_result"
    }
   ],
   "source": [
    "%%sql\n",
    "select * from Users order by random() limit 5"
   ]
  },
  {
   "cell_type": "code",
   "execution_count": 51,
   "metadata": {},
   "outputs": [],
   "source": [
    "# Run the query to select 5 random rows from the users table\n",
    "# TODO"
   ]
  },
  {
   "cell_type": "code",
   "execution_count": 52,
   "metadata": {},
   "outputs": [
    {
     "name": "stdout",
     "output_type": "stream",
     "text": [
      " * sqlite:///chatdata.db\n",
      "Done.\n"
     ]
    },
    {
     "data": {
      "text/html": [
       "<table>\n",
       "    <tr>\n",
       "        <th>Id</th>\n",
       "        <th>PostTypeId</th>\n",
       "        <th>AcceptedAnswerId</th>\n",
       "        <th>ParentId</th>\n",
       "        <th>CreationDate</th>\n",
       "        <th>Score</th>\n",
       "        <th>ViewCount</th>\n",
       "        <th>Body</th>\n",
       "        <th>OwnerUserId</th>\n",
       "        <th>OwnerDisplayName</th>\n",
       "        <th>LastEditorUserId</th>\n",
       "        <th>LastEditorDisplayName</th>\n",
       "        <th>LastEditDate</th>\n",
       "        <th>LastActivityDate</th>\n",
       "        <th>Title</th>\n",
       "        <th>Tags</th>\n",
       "        <th>AnswerCount</th>\n",
       "        <th>CommentCount</th>\n",
       "        <th>FavoriteCount</th>\n",
       "        <th>ClosedDate</th>\n",
       "        <th>CommunityOwnedDate</th>\n",
       "    </tr>\n",
       "    <tr>\n",
       "        <td>390247</td>\n",
       "        <td>1</td>\n",
       "        <td>0</td>\n",
       "        <td>0</td>\n",
       "        <td>2019-02-01 00:16:50</td>\n",
       "        <td>1</td>\n",
       "        <td>65</td>\n",
       "        <td>&lt;p&gt;Let&#x27;s say I&#x27;ve got panel data where a count outcome &lt;span class=&quot;math-container&quot;&gt;$y$&lt;/span&gt; and continuous independent variable &lt;span class=&quot;math-container&quot;&gt;$x$&lt;/span&gt; observed each time period &lt;span class=&quot;math-container&quot;&gt;$t=(1,2,...T)$&lt;/span&gt; for each individual &lt;span class=&quot;math-container&quot;&gt;$i$&lt;/span&gt;. I am interested in how &lt;span class=&quot;math-container&quot;&gt;$x_{it}$&lt;/span&gt; affects all future values of &lt;span class=&quot;math-container&quot;&gt;$y$&lt;/span&gt;.&lt;/p&gt;<br><br>&lt;p&gt;So let &lt;span class=&quot;math-container&quot;&gt;$\\overline{y}_{it} = \\sum^T_{\\tau=t} y_{i\\tau} $&lt;/span&gt;, then I estimate a standard looking Poisson model as:&lt;/p&gt;<br><br>&lt;p&gt;&lt;span class=&quot;math-container&quot;&gt;$\\mathbb{E}[\\overline{y}_{it} | \\alpha , \\beta] = exp(\\alpha + x_{it}\\beta)$&lt;/span&gt; &lt;/p&gt;<br><br>&lt;p&gt;Clearly there will be serial correlation in the error terms within individuals (&quot;errors&quot; given by: &lt;span class=&quot;math-container&quot;&gt;$\\overline{y}_{it} - exp(\\alpha + x_{it}\\beta)$&lt;/span&gt;) because each outcome includes future outcomes.&lt;/p&gt;<br><br>&lt;p&gt;Is an unbiased estimated of &lt;span class=&quot;math-container&quot;&gt;$\\beta$&lt;/span&gt; obtainable by estimating a Poisson model with cluster robust standard errors? i.e. by something like this in STATA:&lt;/p&gt;<br><br>&lt;p&gt;&quot;poisson ybar x, vce(cluster i)&quot;&lt;/p&gt;<br><br>&lt;p&gt;if ybar=&lt;span class=&quot;math-container&quot;&gt;$\\overline{y}$&lt;/span&gt;&lt;/p&gt;<br></td>\n",
       "        <td>181146</td>\n",
       "        <td>None</td>\n",
       "        <td>0</td>\n",
       "        <td>None</td>\n",
       "        <td>None</td>\n",
       "        <td>2019-02-01 00:16:50</td>\n",
       "        <td>Are Poisson Regressions with Serial Correlation Biased or Inconsistent? (No Fixed Effects)</td>\n",
       "        <td>&lt;autocorrelation&gt;&lt;bias&gt;&lt;poisson-regression&gt;&lt;consistency&gt;&lt;clustered-standard-errors&gt;</td>\n",
       "        <td>0</td>\n",
       "        <td>4</td>\n",
       "        <td>0</td>\n",
       "        <td>None</td>\n",
       "        <td>None</td>\n",
       "    </tr>\n",
       "    <tr>\n",
       "        <td>408964</td>\n",
       "        <td>2</td>\n",
       "        <td>0</td>\n",
       "        <td>408955</td>\n",
       "        <td>2019-05-18 17:16:41</td>\n",
       "        <td>0</td>\n",
       "        <td>0</td>\n",
       "        <td>&lt;p&gt;It is difficult to judge normality with only &lt;span class=&quot;math-container&quot;&gt;$n = 6$&lt;/span&gt; observations. Many small samples, regardless of origin, will &quot;pass&quot; popular normality tests unless there happens to be marked skewness or far outliers.&lt;/p&gt;<br><br>&lt;p&gt;A Shapiro-Wilk test does not reject normality for your data. In R:&lt;/p&gt;<br><br>&lt;pre&gt;&lt;code&gt;x = c(1.40,1.55,1.35,1.50,1.29,1.64)<br>shapiro.test(x)<br><br>        Shapiro-Wilk normality test<br>data:  x<br>W = 0.97174, p-value = 0.9039<br><br> boxplot(x, horizontal=T, col=&quot;skyblue2&quot;)<br>&lt;/code&gt;&lt;/pre&gt;<br><br>&lt;p&gt;&lt;a href=&quot;https://i.stack.imgur.com/nz8ya.png&quot; rel=&quot;nofollow noreferrer&quot;&gt;&lt;img src=&quot;https://i.stack.imgur.com/nz8ya.png&quot; alt=&quot;enter image description here&quot;&gt;&lt;/a&gt;&lt;/p&gt;<br><br>&lt;p&gt;This failure to reject normality is hardly a proof of<br>normality. Below we see that samples of size six from uniform and exponential populations often &quot;pass&quot; tests of normality (with P-values above 5%).&lt;/p&gt;<br><br>&lt;pre&gt;&lt;code&gt;set.seed(2019)<br>pv.u = replicate(10^5,shapiro.test(runif(6))&lt;span class=&quot;math-container&quot;&gt;$p.value)<br>mean(pv.u &amp;gt; .05)<br>## 0.93769<br>pv.e = replicate(10^5,shapiro.test(rexp(6))$&lt;/span&gt;p.value)<br>mean(pv.e &amp;gt; .05)<br>[1] 0.78049<br>&lt;/code&gt;&lt;/pre&gt;<br></td>\n",
       "        <td>85665</td>\n",
       "        <td>None</td>\n",
       "        <td>85665</td>\n",
       "        <td>None</td>\n",
       "        <td>2019-05-18 17:57:40</td>\n",
       "        <td>2019-05-18 17:57:40</td>\n",
       "        <td>None</td>\n",
       "        <td>None</td>\n",
       "        <td>0</td>\n",
       "        <td>0</td>\n",
       "        <td>0</td>\n",
       "        <td>None</td>\n",
       "        <td>None</td>\n",
       "    </tr>\n",
       "    <tr>\n",
       "        <td>427920</td>\n",
       "        <td>1</td>\n",
       "        <td>0</td>\n",
       "        <td>0</td>\n",
       "        <td>2019-09-19 16:47:30</td>\n",
       "        <td>0</td>\n",
       "        <td>11</td>\n",
       "        <td>&lt;p&gt;Based on &lt;a href=&quot;http://www-bcf.usc.edu/~gareth/ISL/&quot; rel=&quot;nofollow noreferrer&quot;&gt;An Introduction to Statistical Learning&lt;/a&gt;, Variance can be estimated through RSE, yet I can imagine a situation if you have few data points and RSS is basically zero. It seems wrong to if we use this RSE to estimate the population variance. Is there another metrics to examine the effectiveness of RSE to estimate variance?&lt;/p&gt;<br><br>&lt;p&gt;&lt;a href=&quot;https://i.stack.imgur.com/89jBk.png&quot; rel=&quot;nofollow noreferrer&quot;&gt;&lt;img src=&quot;https://i.stack.imgur.com/89jBk.png&quot; alt=&quot;enter image description here&quot;&gt;&lt;/a&gt;&lt;/p&gt;<br><br>&lt;hr&gt;<br><br>&lt;p&gt;&lt;a href=&quot;https://i.stack.imgur.com/t4v34.png&quot; rel=&quot;nofollow noreferrer&quot;&gt;&lt;img src=&quot;https://i.stack.imgur.com/t4v34.png&quot; alt=&quot;enter image description here&quot;&gt;&lt;/a&gt;&lt;/p&gt;<br><br>&lt;hr&gt;<br><br>&lt;p&gt;&lt;a href=&quot;https://i.stack.imgur.com/yxDG1.png&quot; rel=&quot;nofollow noreferrer&quot;&gt;&lt;img src=&quot;https://i.stack.imgur.com/yxDG1.png&quot; alt=&quot;enter image description here&quot;&gt;&lt;/a&gt;&lt;/p&gt;<br></td>\n",
       "        <td>260312</td>\n",
       "        <td>None</td>\n",
       "        <td>0</td>\n",
       "        <td>None</td>\n",
       "        <td>None</td>\n",
       "        <td>2019-09-19 16:47:30</td>\n",
       "        <td>RSE&#x27;s effectiveness of estimating variance in single linear regression</td>\n",
       "        <td>&lt;regression&gt;&lt;linear&gt;</td>\n",
       "        <td>0</td>\n",
       "        <td>0</td>\n",
       "        <td>0</td>\n",
       "        <td>None</td>\n",
       "        <td>None</td>\n",
       "    </tr>\n",
       "    <tr>\n",
       "        <td>396449</td>\n",
       "        <td>2</td>\n",
       "        <td>0</td>\n",
       "        <td>396440</td>\n",
       "        <td>2019-03-08 20:40:25</td>\n",
       "        <td>0</td>\n",
       "        <td>0</td>\n",
       "        <td>&lt;p&gt;Why do you want to do Variable selection after/before/together with Regularization? Lasso also find with lambda the best number of features to use in order to simplify your model and avoiding the overfitting.&lt;/p&gt;<br></td>\n",
       "        <td>238550</td>\n",
       "        <td>None</td>\n",
       "        <td>0</td>\n",
       "        <td>None</td>\n",
       "        <td>None</td>\n",
       "        <td>2019-03-08 20:40:25</td>\n",
       "        <td>None</td>\n",
       "        <td>None</td>\n",
       "        <td>0</td>\n",
       "        <td>0</td>\n",
       "        <td>0</td>\n",
       "        <td>None</td>\n",
       "        <td>None</td>\n",
       "    </tr>\n",
       "    <tr>\n",
       "        <td>385201</td>\n",
       "        <td>2</td>\n",
       "        <td>0</td>\n",
       "        <td>304742</td>\n",
       "        <td>2019-01-01 20:42:20</td>\n",
       "        <td>1</td>\n",
       "        <td>0</td>\n",
       "        <td>&lt;p&gt;From exchangeability of &lt;span class=&quot;math-container&quot;&gt;$X=(X_1, \\dotsc,X_n)$&lt;/span&gt; it follows that all the &lt;span class=&quot;math-container&quot;&gt;$X_i$&lt;/span&gt; has the same marginal distributions, so in particular, the same variance (assuming existence). So the diagonal of the covariance matrix must be constant. &lt;/p&gt;<br><br>&lt;p&gt;Likewise, from exchangeability all pairwise joint distributios &lt;span class=&quot;math-container&quot;&gt;$(X_i,X_j), i\\not=j$&lt;/span&gt; must be equal, so the off-diagonal elements must all be equal.   &lt;/p&gt;<br></td>\n",
       "        <td>11887</td>\n",
       "        <td>None</td>\n",
       "        <td>0</td>\n",
       "        <td>None</td>\n",
       "        <td>None</td>\n",
       "        <td>2019-01-01 20:42:20</td>\n",
       "        <td>None</td>\n",
       "        <td>None</td>\n",
       "        <td>0</td>\n",
       "        <td>0</td>\n",
       "        <td>0</td>\n",
       "        <td>None</td>\n",
       "        <td>None</td>\n",
       "    </tr>\n",
       "</table>"
      ],
      "text/plain": [
       "[(390247, 1, 0, 0, '2019-02-01 00:16:50', 1, 65, '<p>Let\\'s say I\\'ve got panel data where a count outcome <span class=\"math-container\">$y$</span> and continuous independent variable <span class=\"mat ... (1002 characters truncated) ...  something like this in STATA:</p>\\n\\n<p>\"poisson ybar x, vce(cluster i)\"</p>\\n\\n<p>if ybar=<span class=\"math-container\">$\\\\overline{y}$</span></p>\\n', 181146, None, 0, None, None, '2019-02-01 00:16:50', 'Are Poisson Regressions with Serial Correlation Biased or Inconsistent? (No Fixed Effects)', '<autocorrelation><bias><poisson-regression><consistency><clustered-standard-errors>', 0, 4, 0, None, None),\n",
       " (408964, 2, 0, 408955, '2019-05-18 17:16:41', 0, 0, '<p>It is difficult to judge normality with only <span class=\"math-container\">$n = 6$</span> observations. Many small samples, regardless of origin, w ... (874 characters truncated) ... lue)\\nmean(pv.u &gt; .05)\\n## 0.93769\\npv.e = replicate(10^5,shapiro.test(rexp(6))$</span>p.value)\\nmean(pv.e &gt; .05)\\n[1] 0.78049\\n</code></pre>\\n', 85665, None, 85665, None, '2019-05-18 17:57:40', '2019-05-18 17:57:40', None, None, 0, 0, 0, None, None),\n",
       " (427920, 1, 0, 0, '2019-09-19 16:47:30', 0, 11, '<p>Based on <a href=\"http://www-bcf.usc.edu/~gareth/ISL/\" rel=\"nofollow noreferrer\">An Introduction to Statistical Learning</a>, Variance can be esti ... (640 characters truncated) ... //i.stack.imgur.com/yxDG1.png\" rel=\"nofollow noreferrer\"><img src=\"https://i.stack.imgur.com/yxDG1.png\" alt=\"enter image description here\"></a></p>\\n', 260312, None, 0, None, None, '2019-09-19 16:47:30', \"RSE's effectiveness of estimating variance in single linear regression\", '<regression><linear>', 0, 0, 0, None, None),\n",
       " (396449, 2, 0, 396440, '2019-03-08 20:40:25', 0, 0, '<p>Why do you want to do Variable selection after/before/together with Regularization? Lasso also find with lambda the best number of features to use in order to simplify your model and avoiding the overfitting.</p>\\n', 238550, None, 0, None, None, '2019-03-08 20:40:25', None, None, 0, 0, 0, None, None),\n",
       " (385201, 2, 0, 304742, '2019-01-01 20:42:20', 1, 0, '<p>From exchangeability of <span class=\"math-container\">$X=(X_1, \\\\dotsc,X_n)$</span> it follows that all the <span class=\"math-container\">$X_i$</spa ... (211 characters truncated) ...  joint distributios <span class=\"math-container\">$(X_i,X_j), i\\\\not=j$</span> must be equal, so the off-diagonal elements must all be equal.   </p>\\n', 11887, None, 0, None, None, '2019-01-01 20:42:20', None, None, 0, 0, 0, None, None)]"
      ]
     },
     "execution_count": 52,
     "metadata": {},
     "output_type": "execute_result"
    }
   ],
   "source": [
    "%%sql\n",
    "select * from Posts order by random() limit 5"
   ]
  },
  {
   "cell_type": "markdown",
   "metadata": {},
   "source": [
    "# Task 2: Create Single Table Queries\n"
   ]
  },
  {
   "cell_type": "markdown",
   "metadata": {},
   "source": [
    "## Lifecycle Stage: Analyze\n",
    "We can now start the analysis with our single-table queries.  First we need to create a new computed column to help with one of the queries.  The code below creates a column called LEN_BODY which is the length of the BODY text:\n"
   ]
  },
  {
   "cell_type": "code",
   "execution_count": 53,
   "metadata": {},
   "outputs": [
    {
     "name": "stdout",
     "output_type": "stream",
     "text": [
      " * sqlite:///chatdata.db\n",
      "Done.\n"
     ]
    },
    {
     "data": {
      "text/plain": [
       "[]"
      ]
     },
     "execution_count": 53,
     "metadata": {},
     "output_type": "execute_result"
    }
   ],
   "source": [
    "%%sql\n",
    "ALTER TABLE POSTS ADD COLUMN LEN_BODY INT"
   ]
  },
  {
   "cell_type": "code",
   "execution_count": 54,
   "metadata": {},
   "outputs": [
    {
     "name": "stdout",
     "output_type": "stream",
     "text": [
      " * sqlite:///chatdata.db\n",
      "42234 rows affected.\n"
     ]
    },
    {
     "data": {
      "text/plain": [
       "[]"
      ]
     },
     "execution_count": 54,
     "metadata": {},
     "output_type": "execute_result"
    }
   ],
   "source": [
    "%%sql\n",
    "UPDATE POSTS SET LEN_BODY = LENGTH(BODY)"
   ]
  },
  {
   "cell_type": "markdown",
   "metadata": {},
   "source": [
    "### Single Table Queries\n",
    "From the Template SQL Queries there are a series of queries requested. You are responsible for coding the result. Use the pattern above to accomplish the coding objective.  Copy and paste the question (column B Action) into a markdown cell and answer the query. Use the pattern that you have been using above. \n",
    "\n",
    "<div style=\"background-color:lemonchiffon; border:1px solid; padding:5px; margin:5px; font-weight:bold\"><font color=\"crimson\">\n",
    "TODO: Enter your code below.  Just keep on inserting cells as you need them.\n",
    "    </font></div>"
   ]
  },
  {
   "cell_type": "markdown",
   "metadata": {},
   "source": [
    "Q1:How many posts have 0 comments?"
   ]
  },
  {
   "cell_type": "code",
   "execution_count": 55,
   "metadata": {},
   "outputs": [
    {
     "name": "stdout",
     "output_type": "stream",
     "text": [
      " * sqlite:///chatdata.db\n",
      "Done.\n"
     ]
    },
    {
     "data": {
      "text/html": [
       "<table>\n",
       "    <tr>\n",
       "        <th>COUNT(*)</th>\n",
       "    </tr>\n",
       "    <tr>\n",
       "        <td>21713</td>\n",
       "    </tr>\n",
       "</table>"
      ],
      "text/plain": [
       "[(21713,)]"
      ]
     },
     "execution_count": 55,
     "metadata": {},
     "output_type": "execute_result"
    }
   ],
   "source": [
    "%%sql\n",
    "SELECT COUNT(*) FROM posts WHERE CommentCount= 0;"
   ]
  },
  {
   "cell_type": "code",
   "execution_count": 56,
   "metadata": {},
   "outputs": [],
   "source": [
    "sql4 = \"\"\"\n",
    "  SELECT COUNT(*) FROM posts WHERE CommentCount= 0;\n",
    "    \"\"\"\n",
    "store_query(\"Single Table Queries\", \"How many posts have 0 comments?\", sql4)"
   ]
  },
  {
   "cell_type": "markdown",
   "metadata": {},
   "source": [
    "Q2: How many posts have 1 comments?"
   ]
  },
  {
   "cell_type": "code",
   "execution_count": 57,
   "metadata": {},
   "outputs": [
    {
     "name": "stdout",
     "output_type": "stream",
     "text": [
      " * sqlite:///chatdata.db\n",
      "Done.\n"
     ]
    },
    {
     "data": {
      "text/html": [
       "<table>\n",
       "    <tr>\n",
       "        <th>COUNT(*)</th>\n",
       "    </tr>\n",
       "    <tr>\n",
       "        <td>6460</td>\n",
       "    </tr>\n",
       "</table>"
      ],
      "text/plain": [
       "[(6460,)]"
      ]
     },
     "execution_count": 57,
     "metadata": {},
     "output_type": "execute_result"
    }
   ],
   "source": [
    "%%sql\n",
    "SELECT COUNT(*) FROM posts WHERE CommentCount= 1;"
   ]
  },
  {
   "cell_type": "code",
   "execution_count": 58,
   "metadata": {},
   "outputs": [],
   "source": [
    "sql5 = \"\"\"\n",
    "SELECT COUNT(*) FROM posts WHERE CommentCount= 1;\n",
    "\"\"\"\n",
    "store_query(\"Single Table Queries\", \"How many posts have 1 comments?\", sql5)"
   ]
  },
  {
   "cell_type": "markdown",
   "metadata": {},
   "source": [
    "Q3: How many posts have 2 or more comments?"
   ]
  },
  {
   "cell_type": "code",
   "execution_count": 59,
   "metadata": {},
   "outputs": [
    {
     "name": "stdout",
     "output_type": "stream",
     "text": [
      " * sqlite:///chatdata.db\n",
      "Done.\n"
     ]
    },
    {
     "data": {
      "text/html": [
       "<table>\n",
       "    <tr>\n",
       "        <th>COUNT(*)</th>\n",
       "    </tr>\n",
       "    <tr>\n",
       "        <td>14061</td>\n",
       "    </tr>\n",
       "</table>"
      ],
      "text/plain": [
       "[(14061,)]"
      ]
     },
     "execution_count": 59,
     "metadata": {},
     "output_type": "execute_result"
    }
   ],
   "source": [
    "%%sql\n",
    "SELECT COUNT(*) FROM posts WHERE CommentCount >= 2;"
   ]
  },
  {
   "cell_type": "code",
   "execution_count": 60,
   "metadata": {},
   "outputs": [],
   "source": [
    "sql6 = \"\"\"\n",
    "SELECT COUNT(*) FROM posts WHERE CommentCount >= 2;\n",
    "    \"\"\"\n",
    "store_query(\"Single Table Queries\", \"How many posts have 2 or more comments?\", sql6)"
   ]
  },
  {
   "cell_type": "markdown",
   "metadata": {},
   "source": [
    "Q4:Find the 5 posts with the highest viewcount"
   ]
  },
  {
   "cell_type": "code",
   "execution_count": 61,
   "metadata": {},
   "outputs": [
    {
     "data": {
      "text/html": [
       "<div>\n",
       "<style scoped>\n",
       "    .dataframe tbody tr th:only-of-type {\n",
       "        vertical-align: middle;\n",
       "    }\n",
       "\n",
       "    .dataframe tbody tr th {\n",
       "        vertical-align: top;\n",
       "    }\n",
       "\n",
       "    .dataframe thead th {\n",
       "        text-align: right;\n",
       "    }\n",
       "</style>\n",
       "<table border=\"1\" class=\"dataframe\">\n",
       "  <thead>\n",
       "    <tr style=\"text-align: right;\">\n",
       "      <th></th>\n",
       "      <th>Id</th>\n",
       "      <th>Highestviews</th>\n",
       "    </tr>\n",
       "  </thead>\n",
       "  <tbody>\n",
       "    <tr>\n",
       "      <th>0</th>\n",
       "      <td>388566</td>\n",
       "      <td>19542</td>\n",
       "    </tr>\n",
       "    <tr>\n",
       "      <th>1</th>\n",
       "      <td>394118</td>\n",
       "      <td>16317</td>\n",
       "    </tr>\n",
       "    <tr>\n",
       "      <th>2</th>\n",
       "      <td>431370</td>\n",
       "      <td>11723</td>\n",
       "    </tr>\n",
       "    <tr>\n",
       "      <th>3</th>\n",
       "      <td>398646</td>\n",
       "      <td>9850</td>\n",
       "    </tr>\n",
       "    <tr>\n",
       "      <th>4</th>\n",
       "      <td>434128</td>\n",
       "      <td>6718</td>\n",
       "    </tr>\n",
       "  </tbody>\n",
       "</table>\n",
       "</div>"
      ],
      "text/plain": [
       "       Id  Highestviews\n",
       "0  388566         19542\n",
       "1  394118         16317\n",
       "2  431370         11723\n",
       "3  398646          9850\n",
       "4  434128          6718"
      ]
     },
     "execution_count": 61,
     "metadata": {},
     "output_type": "execute_result"
    }
   ],
   "source": [
    "sql = \"\"\"\n",
    "SELECT Id, SUM(viewcount) AS Highestviews\n",
    "    FROM posts\n",
    "        GROUP BY Id\n",
    "            ORDER BY Highestviews DESC\n",
    "                LIMIT 5\n",
    "                \"\"\"\n",
    "result4 = pd.read_sql(sql, con) # con is the connection to the database\n",
    "result4"
   ]
  },
  {
   "cell_type": "code",
   "execution_count": 62,
   "metadata": {},
   "outputs": [],
   "source": [
    "sql7 = \"\"\"\n",
    "SELECT Id, SUM(viewcount) AS Highestviews\n",
    "    FROM posts\n",
    "        GROUP BY Id\n",
    "            ORDER BY Highestviews DESC\n",
    "                LIMIT 5\n",
    "                \"\"\"\n",
    "store_query(\"Single Table Queries\", \"Find the 5 posts with the highest viewcount\", sql7)"
   ]
  },
  {
   "cell_type": "markdown",
   "metadata": {},
   "source": [
    "Q5:Find the top 5 posts with the highest scores"
   ]
  },
  {
   "cell_type": "code",
   "execution_count": 63,
   "metadata": {},
   "outputs": [
    {
     "data": {
      "text/html": [
       "<div>\n",
       "<style scoped>\n",
       "    .dataframe tbody tr th:only-of-type {\n",
       "        vertical-align: middle;\n",
       "    }\n",
       "\n",
       "    .dataframe tbody tr th {\n",
       "        vertical-align: top;\n",
       "    }\n",
       "\n",
       "    .dataframe thead th {\n",
       "        text-align: right;\n",
       "    }\n",
       "</style>\n",
       "<table border=\"1\" class=\"dataframe\">\n",
       "  <thead>\n",
       "    <tr style=\"text-align: right;\">\n",
       "      <th></th>\n",
       "      <th>Id</th>\n",
       "      <th>Highestscore</th>\n",
       "    </tr>\n",
       "  </thead>\n",
       "  <tbody>\n",
       "    <tr>\n",
       "      <th>0</th>\n",
       "      <td>431397</td>\n",
       "      <td>101</td>\n",
       "    </tr>\n",
       "    <tr>\n",
       "      <th>1</th>\n",
       "      <td>394128</td>\n",
       "      <td>100</td>\n",
       "    </tr>\n",
       "    <tr>\n",
       "      <th>2</th>\n",
       "      <td>426878</td>\n",
       "      <td>93</td>\n",
       "    </tr>\n",
       "    <tr>\n",
       "      <th>3</th>\n",
       "      <td>388578</td>\n",
       "      <td>80</td>\n",
       "    </tr>\n",
       "    <tr>\n",
       "      <th>4</th>\n",
       "      <td>431370</td>\n",
       "      <td>77</td>\n",
       "    </tr>\n",
       "  </tbody>\n",
       "</table>\n",
       "</div>"
      ],
      "text/plain": [
       "       Id  Highestscore\n",
       "0  431397           101\n",
       "1  394128           100\n",
       "2  426878            93\n",
       "3  388578            80\n",
       "4  431370            77"
      ]
     },
     "execution_count": 63,
     "metadata": {},
     "output_type": "execute_result"
    }
   ],
   "source": [
    "sql = \"\"\"\n",
    "SELECT Id, SUM(Score) AS Highestscore\n",
    "    FROM posts\n",
    "        GROUP BY Id\n",
    "            ORDER BY Highestscore DESC\n",
    "                LIMIT 5\n",
    "                \"\"\"\n",
    "result5 = pd.read_sql(sql, con) # con is the connection to the database\n",
    "result5"
   ]
  },
  {
   "cell_type": "code",
   "execution_count": 64,
   "metadata": {},
   "outputs": [],
   "source": [
    "sql23 = \"\"\"\n",
    "SELECT Id, SUM(Score) AS Highestscore\n",
    "    FROM posts\n",
    "        GROUP BY Id\n",
    "            ORDER BY Highestscore DESC\n",
    "                LIMIT 5\"\"\"\n",
    "store_query(\"Single Table Queries\", \"Find the top 5 posts with the highest scores\", sql23)"
   ]
  },
  {
   "cell_type": "markdown",
   "metadata": {},
   "source": [
    "Q6:What are the 5 most frequent scores on posts?"
   ]
  },
  {
   "cell_type": "code",
   "execution_count": 65,
   "metadata": {},
   "outputs": [
    {
     "name": "stdout",
     "output_type": "stream",
     "text": [
      " * sqlite:///chatdata.db\n",
      "Done.\n"
     ]
    },
    {
     "data": {
      "text/html": [
       "<table>\n",
       "    <tr>\n",
       "        <th>Score</th>\n",
       "        <th>frequent_scores</th>\n",
       "    </tr>\n",
       "    <tr>\n",
       "        <td>0</td>\n",
       "        <td>19888</td>\n",
       "    </tr>\n",
       "    <tr>\n",
       "        <td>1</td>\n",
       "        <td>11867</td>\n",
       "    </tr>\n",
       "    <tr>\n",
       "        <td>2</td>\n",
       "        <td>5094</td>\n",
       "    </tr>\n",
       "    <tr>\n",
       "        <td>3</td>\n",
       "        <td>2228</td>\n",
       "    </tr>\n",
       "    <tr>\n",
       "        <td>4</td>\n",
       "        <td>1059</td>\n",
       "    </tr>\n",
       "</table>"
      ],
      "text/plain": [
       "[(0, 19888), (1, 11867), (2, 5094), (3, 2228), (4, 1059)]"
      ]
     },
     "execution_count": 65,
     "metadata": {},
     "output_type": "execute_result"
    }
   ],
   "source": [
    "%%sql\n",
    "SELECT Score, COUNT(Score) AS frequent_scores\n",
    "FROM posts\n",
    "GROUP BY Score\n",
    "ORDER BY frequent_scores DESC\n",
    "LIMIT 5;"
   ]
  },
  {
   "cell_type": "code",
   "execution_count": 66,
   "metadata": {},
   "outputs": [],
   "source": [
    "sql8 = \"\"\"\n",
    "SELECT Score, COUNT(Score) AS frequent_scores\n",
    "FROM posts\n",
    "GROUP BY Score\n",
    "ORDER BY frequent_scores DESC\n",
    "LIMIT 5;\"\"\"\n",
    "store_query(\"Single Table Queries\", \"What are the 5 most frequent scores on posts?\", sql8)"
   ]
  },
  {
   "cell_type": "markdown",
   "metadata": {},
   "source": [
    "Q7: How many posts have the keyword \"data\" in their tags?"
   ]
  },
  {
   "cell_type": "code",
   "execution_count": 67,
   "metadata": {},
   "outputs": [
    {
     "name": "stdout",
     "output_type": "stream",
     "text": [
      " * sqlite:///chatdata.db\n",
      "Done.\n"
     ]
    },
    {
     "data": {
      "text/html": [
       "<table>\n",
       "    <tr>\n",
       "        <th>posts_with_data</th>\n",
       "    </tr>\n",
       "    <tr>\n",
       "        <td>2242</td>\n",
       "    </tr>\n",
       "</table>"
      ],
      "text/plain": [
       "[(2242,)]"
      ]
     },
     "execution_count": 67,
     "metadata": {},
     "output_type": "execute_result"
    }
   ],
   "source": [
    "%%sql\n",
    "SELECT COUNT(*) AS posts_with_data\n",
    "FROM posts\n",
    "WHERE Tags LIKE '%data%';"
   ]
  },
  {
   "cell_type": "code",
   "execution_count": 68,
   "metadata": {},
   "outputs": [],
   "source": [
    "sql9 = \"\"\"\n",
    "SELECT COUNT(*) AS posts_with_data\n",
    "FROM posts\n",
    "WHERE Tags LIKE '%data%';\n",
    "\"\"\"\n",
    "store_query(\"Single Table Queries\", \"How many posts have the keyword \"'data'\" in their tags?\", sql9)"
   ]
  },
  {
   "cell_type": "markdown",
   "metadata": {},
   "source": [
    "Q8:What are the 5 most frequent commentcount for posts?"
   ]
  },
  {
   "cell_type": "code",
   "execution_count": 69,
   "metadata": {},
   "outputs": [
    {
     "name": "stdout",
     "output_type": "stream",
     "text": [
      " * sqlite:///chatdata.db\n",
      "Done.\n"
     ]
    },
    {
     "data": {
      "text/html": [
       "<table>\n",
       "    <tr>\n",
       "        <th>CommentCount</th>\n",
       "        <th>five_most_frequent</th>\n",
       "    </tr>\n",
       "    <tr>\n",
       "        <td>0</td>\n",
       "        <td>21713</td>\n",
       "    </tr>\n",
       "    <tr>\n",
       "        <td>1</td>\n",
       "        <td>6460</td>\n",
       "    </tr>\n",
       "    <tr>\n",
       "        <td>2</td>\n",
       "        <td>4966</td>\n",
       "    </tr>\n",
       "    <tr>\n",
       "        <td>3</td>\n",
       "        <td>3063</td>\n",
       "    </tr>\n",
       "    <tr>\n",
       "        <td>4</td>\n",
       "        <td>2026</td>\n",
       "    </tr>\n",
       "</table>"
      ],
      "text/plain": [
       "[(0, 21713), (1, 6460), (2, 4966), (3, 3063), (4, 2026)]"
      ]
     },
     "execution_count": 69,
     "metadata": {},
     "output_type": "execute_result"
    }
   ],
   "source": [
    "%%sql\n",
    "SELECT CommentCount, COUNT(*) AS five_most_frequent\n",
    "FROM posts\n",
    "GROUP BY CommentCount\n",
    "ORDER BY five_most_frequent DESC\n",
    "LIMIT 5;"
   ]
  },
  {
   "cell_type": "code",
   "execution_count": 70,
   "metadata": {},
   "outputs": [],
   "source": [
    "sql10 = \"\"\"\n",
    "SELECT CommentCount, COUNT(*) AS five_most_frequent\n",
    "FROM posts\n",
    "GROUP BY CommentCount\n",
    "ORDER BY five_most_frequent DESC\n",
    "LIMIT 5;\n",
    "\"\"\"\n",
    "store_query(\"Single Table Queries\", \"What are the 5 most frequent commentcount for posts?\", sql10)"
   ]
  },
  {
   "cell_type": "markdown",
   "metadata": {},
   "source": [
    "Q9:How many posts have an accepted answer?\n",
    "a post with no accepted answer has a value of 0 for acceptedanswerid"
   ]
  },
  {
   "cell_type": "code",
   "execution_count": 71,
   "metadata": {},
   "outputs": [
    {
     "name": "stdout",
     "output_type": "stream",
     "text": [
      " * sqlite:///chatdata.db\n",
      "Done.\n"
     ]
    },
    {
     "data": {
      "text/html": [
       "<table>\n",
       "    <tr>\n",
       "        <th>accepted_answers</th>\n",
       "    </tr>\n",
       "    <tr>\n",
       "        <td>5341</td>\n",
       "    </tr>\n",
       "</table>"
      ],
      "text/plain": [
       "[(5341,)]"
      ]
     },
     "execution_count": 71,
     "metadata": {},
     "output_type": "execute_result"
    }
   ],
   "source": [
    "%%sql\n",
    "SELECT COUNT(*) AS accepted_answers\n",
    "FROM posts\n",
    "WHERE AcceptedAnswerId <> 0;"
   ]
  },
  {
   "cell_type": "code",
   "execution_count": 72,
   "metadata": {},
   "outputs": [],
   "source": [
    "sql11 = \"\"\"\n",
    "SELECT COUNT(*) AS accepted_answers\n",
    "FROM posts\n",
    "WHERE AcceptedAnswerId <> 0;\n",
    "\"\"\"\n",
    "store_query(\"Single Table Queries\", \"How many posts have an accepted answer? (A post with no accepted answer has a value of 0 for acceptedanswerid)\", sql11)"
   ]
  },
  {
   "cell_type": "markdown",
   "metadata": {},
   "source": [
    "Q10:What is the average reputation of table users?"
   ]
  },
  {
   "cell_type": "code",
   "execution_count": 73,
   "metadata": {},
   "outputs": [
    {
     "name": "stdout",
     "output_type": "stream",
     "text": [
      " * sqlite:///chatdata.db\n",
      "Done.\n"
     ]
    },
    {
     "data": {
      "text/html": [
       "<table>\n",
       "    <tr>\n",
       "        <th>AVG(Reputation)</th>\n",
       "    </tr>\n",
       "    <tr>\n",
       "        <td>312.3509124484032</td>\n",
       "    </tr>\n",
       "</table>"
      ],
      "text/plain": [
       "[(312.3509124484032,)]"
      ]
     },
     "execution_count": 73,
     "metadata": {},
     "output_type": "execute_result"
    }
   ],
   "source": [
    "%%sql\n",
    "SELECT AVG(Reputation) FROM users"
   ]
  },
  {
   "cell_type": "code",
   "execution_count": 74,
   "metadata": {},
   "outputs": [],
   "source": [
    "sql12 = \"\"\"\n",
    "SELECT AVG(Reputation) FROM users\n",
    "\"\"\"\n",
    "store_query(\"Single Table Queries\", \"What is the average reputation of table users?\", sql12)"
   ]
  },
  {
   "cell_type": "markdown",
   "metadata": {},
   "source": [
    "Q11:What are the min and max reputation of users?"
   ]
  },
  {
   "cell_type": "code",
   "execution_count": 75,
   "metadata": {},
   "outputs": [
    {
     "name": "stdout",
     "output_type": "stream",
     "text": [
      " * sqlite:///chatdata.db\n",
      "Done.\n"
     ]
    },
    {
     "data": {
      "text/html": [
       "<table>\n",
       "    <tr>\n",
       "        <th>MAX(Reputation)</th>\n",
       "    </tr>\n",
       "    <tr>\n",
       "        <td>228662</td>\n",
       "    </tr>\n",
       "</table>"
      ],
      "text/plain": [
       "[(228662,)]"
      ]
     },
     "execution_count": 75,
     "metadata": {},
     "output_type": "execute_result"
    }
   ],
   "source": [
    "%%sql\n",
    "SELECT MAX(Reputation) FROM users;"
   ]
  },
  {
   "cell_type": "code",
   "execution_count": 76,
   "metadata": {},
   "outputs": [
    {
     "name": "stdout",
     "output_type": "stream",
     "text": [
      " * sqlite:///chatdata.db\n",
      "Done.\n"
     ]
    },
    {
     "data": {
      "text/html": [
       "<table>\n",
       "    <tr>\n",
       "        <th>MIN(Reputation)</th>\n",
       "    </tr>\n",
       "    <tr>\n",
       "        <td>1</td>\n",
       "    </tr>\n",
       "</table>"
      ],
      "text/plain": [
       "[(1,)]"
      ]
     },
     "execution_count": 76,
     "metadata": {},
     "output_type": "execute_result"
    }
   ],
   "source": [
    "%%sql\n",
    "SELECT MIN(Reputation) FROM users;"
   ]
  },
  {
   "cell_type": "code",
   "execution_count": 77,
   "metadata": {},
   "outputs": [],
   "source": [
    "sql13 = \"\"\"\n",
    "SELECT MIN(Reputation) FROM users\n",
    "SELECT MAX(Reputation) FROM users;\n",
    "\"\"\"\n",
    "store_query(\"Single Table Queries\", \"What are the min and max reputation of users? (split into two cells)\", sql13)"
   ]
  },
  {
   "cell_type": "markdown",
   "metadata": {},
   "source": [
    "Q12:What is the length of the body of 5 most viewed posts?"
   ]
  },
  {
   "cell_type": "code",
   "execution_count": 78,
   "metadata": {},
   "outputs": [
    {
     "name": "stdout",
     "output_type": "stream",
     "text": [
      " * sqlite:///chatdata.db\n",
      "Done.\n"
     ]
    },
    {
     "data": {
      "text/html": [
       "<table>\n",
       "    <tr>\n",
       "        <th>Title</th>\n",
       "        <th>View_Count</th>\n",
       "        <th>Number_of_Characters</th>\n",
       "    </tr>\n",
       "    <tr>\n",
       "        <td>Is it wrong to rephrase &quot;1 in 80 deaths is caused by a car accident&quot; as &quot;1 in 80 people die as a result of a car accident?&quot;</td>\n",
       "        <td>19542</td>\n",
       "        <td>2270</td>\n",
       "    </tr>\n",
       "    <tr>\n",
       "        <td>Why do neural networks need so many training examples to perform?</td>\n",
       "        <td>16317</td>\n",
       "        <td>512</td>\n",
       "    </tr>\n",
       "    <tr>\n",
       "        <td>Is there a name for the phenomenon of false positives counterintuitively outstripping true positives</td>\n",
       "        <td>11723</td>\n",
       "        <td>811</td>\n",
       "    </tr>\n",
       "    <tr>\n",
       "        <td>What does &quot;Scientists rise up against statistical significance&quot; mean? (Comment in Nature)</td>\n",
       "        <td>9850</td>\n",
       "        <td>2148</td>\n",
       "    </tr>\n",
       "    <tr>\n",
       "        <td>Famous statistical wins and horror stories for teaching purposes</td>\n",
       "        <td>6718</td>\n",
       "        <td>1172</td>\n",
       "    </tr>\n",
       "</table>"
      ],
      "text/plain": [
       "[('Is it wrong to rephrase \"1 in 80 deaths is caused by a car accident\" as \"1 in 80 people die as a result of a car accident?\"', 19542, 2270),\n",
       " ('Why do neural networks need so many training examples to perform?', 16317, 512),\n",
       " ('Is there a name for the phenomenon of false positives counterintuitively outstripping true positives', 11723, 811),\n",
       " ('What does \"Scientists rise up against statistical significance\" mean? (Comment in Nature)', 9850, 2148),\n",
       " ('Famous statistical wins and horror stories for teaching purposes', 6718, 1172)]"
      ]
     },
     "execution_count": 78,
     "metadata": {},
     "output_type": "execute_result"
    }
   ],
   "source": [
    "%%sql\n",
    "SELECT Title, ViewCount as View_Count, LENGTH(Body) as Number_of_Characters\n",
    "FROM posts\n",
    "GROUP BY Title\n",
    "ORDER BY View_Count DESC\n",
    "LIMIT 5;"
   ]
  },
  {
   "cell_type": "code",
   "execution_count": 79,
   "metadata": {},
   "outputs": [],
   "source": [
    "sql22 = \"\"\"\n",
    "SELECT Title, ViewCount as View_Count, LENGTH(Body) as Number_of_Characters\n",
    "FROM posts\n",
    "GROUP BY Title\n",
    "ORDER BY View_Count DESC\n",
    "LIMIT 5;\n",
    "\"\"\"\n",
    "store_query(\"Single Table Queries\", \"What is the length of the body of 5 most viewed posts?\", sql22)"
   ]
  },
  {
   "cell_type": "markdown",
   "metadata": {},
   "source": [
    "Q13:How many different locations are there in the users table?"
   ]
  },
  {
   "cell_type": "code",
   "execution_count": 80,
   "metadata": {},
   "outputs": [
    {
     "name": "stdout",
     "output_type": "stream",
     "text": [
      " * sqlite:///chatdata.db\n",
      "Done.\n"
     ]
    },
    {
     "data": {
      "text/html": [
       "<table>\n",
       "    <tr>\n",
       "        <th>COUNT(DISTINCT Location)</th>\n",
       "    </tr>\n",
       "    <tr>\n",
       "        <td>1900</td>\n",
       "    </tr>\n",
       "</table>"
      ],
      "text/plain": [
       "[(1900,)]"
      ]
     },
     "execution_count": 80,
     "metadata": {},
     "output_type": "execute_result"
    }
   ],
   "source": [
    "%%sql\n",
    "SELECT COUNT(DISTINCT Location) FROM users;"
   ]
  },
  {
   "cell_type": "code",
   "execution_count": 81,
   "metadata": {},
   "outputs": [],
   "source": [
    "sql14 = \"\"\"\n",
    "SELECT COUNT(DISTINCT Location) FROM users;\n",
    "\"\"\"\n",
    "store_query(\"Single Table Queries\", \"How many different locations are there in the users table?\", sql14)"
   ]
  },
  {
   "cell_type": "markdown",
   "metadata": {},
   "source": [
    "Q14:What are the top 5 locations of users?"
   ]
  },
  {
   "cell_type": "code",
   "execution_count": 82,
   "metadata": {},
   "outputs": [
    {
     "name": "stdout",
     "output_type": "stream",
     "text": [
      " * sqlite:///chatdata.db\n",
      "Done.\n"
     ]
    },
    {
     "data": {
      "text/html": [
       "<table>\n",
       "    <tr>\n",
       "        <th>Location</th>\n",
       "        <th>Top_Locations</th>\n",
       "    </tr>\n",
       "    <tr>\n",
       "        <td>Germany</td>\n",
       "        <td>117</td>\n",
       "    </tr>\n",
       "    <tr>\n",
       "        <td>India</td>\n",
       "        <td>100</td>\n",
       "    </tr>\n",
       "    <tr>\n",
       "        <td>United States</td>\n",
       "        <td>69</td>\n",
       "    </tr>\n",
       "    <tr>\n",
       "        <td>Paris, France</td>\n",
       "        <td>66</td>\n",
       "    </tr>\n",
       "    <tr>\n",
       "        <td>London, United Kingdom</td>\n",
       "        <td>63</td>\n",
       "    </tr>\n",
       "</table>"
      ],
      "text/plain": [
       "[('Germany', 117),\n",
       " ('India', 100),\n",
       " ('United States', 69),\n",
       " ('Paris, France', 66),\n",
       " ('London, United Kingdom', 63)]"
      ]
     },
     "execution_count": 82,
     "metadata": {},
     "output_type": "execute_result"
    }
   ],
   "source": [
    "%%sql\n",
    "SELECT Location, COUNT(Location) Top_Locations\n",
    "FROM users\n",
    "GROUP BY Location\n",
    "ORDER BY Top_Locations DESC\n",
    "LIMIT 5;"
   ]
  },
  {
   "cell_type": "code",
   "execution_count": 83,
   "metadata": {},
   "outputs": [],
   "source": [
    "sql15 = \"\"\"\n",
    "SELECT Location, COUNT(Location) Top_Locations\n",
    "FROM users\n",
    "GROUP BY Location\n",
    "ORDER BY Top_Locations DESC\n",
    "LIMIT 5;\n",
    "\"\"\"\n",
    "store_query(\"Single Table Queries\", \"What are the top 5 locations of users?\", sql15)"
   ]
  },
  {
   "cell_type": "markdown",
   "metadata": {},
   "source": [
    "Q15:Rank the days of the week from highest to lowest in terms of the volume of ViewCount as a percentage."
   ]
  },
  {
   "cell_type": "code",
   "execution_count": 84,
   "metadata": {},
   "outputs": [
    {
     "name": "stdout",
     "output_type": "stream",
     "text": [
      " * sqlite:///chatdata.db\n",
      "Done.\n"
     ]
    },
    {
     "data": {
      "text/html": [
       "<table>\n",
       "    <tr>\n",
       "        <th>View_Count_Percent</th>\n",
       "        <th>Day_of_Week</th>\n",
       "    </tr>\n",
       "    <tr>\n",
       "        <td>16.82</td>\n",
       "        <td>Thursday</td>\n",
       "    </tr>\n",
       "    <tr>\n",
       "        <td>16.77</td>\n",
       "        <td>Wednesday</td>\n",
       "    </tr>\n",
       "    <tr>\n",
       "        <td>16.26</td>\n",
       "        <td>Tuesday</td>\n",
       "    </tr>\n",
       "    <tr>\n",
       "        <td>15.81</td>\n",
       "        <td>Monday</td>\n",
       "    </tr>\n",
       "    <tr>\n",
       "        <td>13.56</td>\n",
       "        <td>Friday</td>\n",
       "    </tr>\n",
       "    <tr>\n",
       "        <td>11.9</td>\n",
       "        <td>Sunday</td>\n",
       "    </tr>\n",
       "    <tr>\n",
       "        <td>8.89</td>\n",
       "        <td>Saturday</td>\n",
       "    </tr>\n",
       "</table>"
      ],
      "text/plain": [
       "[(16.82, 'Thursday'),\n",
       " (16.77, 'Wednesday'),\n",
       " (16.26, 'Tuesday'),\n",
       " (15.81, 'Monday'),\n",
       " (13.56, 'Friday'),\n",
       " (11.9, 'Sunday'),\n",
       " (8.89, 'Saturday')]"
      ]
     },
     "execution_count": 84,
     "metadata": {},
     "output_type": "execute_result"
    }
   ],
   "source": [
    "%%sql\n",
    "SELECT ROUND(SUM(ViewCount * 100.0)  /\n",
    "     (SELECT SUM(ViewCount) FROM Posts), 2) AS View_Count_Percent,\n",
    "    CASE strftime('%w', CreationDate)\n",
    "        WHEN '0' THEN 'Sunday'\n",
    "        WHEN '1' THEN 'Monday'\n",
    "        WHEN '2' THEN 'Tuesday'\n",
    "        WHEN '3' THEN 'Wednesday'\n",
    "        WHEN '4' THEN 'Thursday'\n",
    "        WHEN '5' THEN 'Friday'\n",
    "        WHEN '6' THEN 'Saturday'\n",
    "        ELSE 'Unknown'\n",
    "    END AS Day_of_Week\n",
    "FROM posts\n",
    "GROUP BY Day_of_Week\n",
    "ORDER BY View_Count_Percent DESC;"
   ]
  },
  {
   "cell_type": "code",
   "execution_count": 85,
   "metadata": {},
   "outputs": [],
   "source": [
    "sql16 = \"\"\"\n",
    "SELECT ROUND(SUM(ViewCount * 100.0)  /\n",
    "     (SELECT SUM(ViewCount) FROM Posts), 2) AS View_Count_Percent,\n",
    "    CASE strftime('%w', CreationDate)\n",
    "        WHEN '0' THEN 'Sunday'\n",
    "        WHEN '1' THEN 'Monday'\n",
    "        WHEN '2' THEN 'Tuesday'\n",
    "        WHEN '3' THEN 'Wednesday'\n",
    "        WHEN '4' THEN 'Thursday'\n",
    "        WHEN '5' THEN 'Friday'\n",
    "        WHEN '6' THEN 'Saturday'\n",
    "        ELSE 'Unknown'\n",
    "    END AS Day_of_Week\n",
    "FROM posts\n",
    "GROUP BY Day_of_Week\n",
    "ORDER BY View_Count_Percent DESC;\n",
    "\"\"\"\n",
    "store_query(\"Single Table Queries\", \"Rank the days of the week from highest to lowest in terms of the volume of ViewCount as a percentage.\", sql16)"
   ]
  },
  {
   "cell_type": "markdown",
   "metadata": {},
   "source": [
    "# Task 3: Cross Table Queries"
   ]
  },
  {
   "cell_type": "markdown",
   "metadata": {},
   "source": [
    "## Lifecycle Stage: Analyze\n",
    "Let's continue the analysis with our multi-table queries.  "
   ]
  },
  {
   "cell_type": "markdown",
   "metadata": {},
   "source": [
    "### Cross Table Queries\n",
    "\n",
    "From the Template SQL Queries there are a series of queries requested. You are responsible for coding the result. Use the pattern above to accomplish the coding objective.  Copy and paste the question (column B Action) into a markdown cell and answer the query. Use the pattern that you have been using above. \n",
    "\n",
    "<div style=\"background-color:lemonchiffon; border:1px solid; padding:5px; margin:5px; font-weight:bold\"><font color=\"crimson\">\n",
    "TODO: Enter your code below.  Just keep on inserting cells as you need them.\n",
    "    </font></div>\n",
    "\n"
   ]
  },
  {
   "cell_type": "markdown",
   "metadata": {},
   "source": [
    "Q:16 How many posts have been created by a user that has a filled out the \"AboutMe\" section?"
   ]
  },
  {
   "cell_type": "code",
   "execution_count": 86,
   "metadata": {},
   "outputs": [
    {
     "name": "stdout",
     "output_type": "stream",
     "text": [
      " * sqlite:///chatdata.db\n",
      "Done.\n"
     ]
    },
    {
     "data": {
      "text/html": [
       "<table>\n",
       "    <tr>\n",
       "        <th>number_of_posts_with_about_me</th>\n",
       "    </tr>\n",
       "    <tr>\n",
       "        <td>17189</td>\n",
       "    </tr>\n",
       "</table>"
      ],
      "text/plain": [
       "[(17189,)]"
      ]
     },
     "execution_count": 86,
     "metadata": {},
     "output_type": "execute_result"
    }
   ],
   "source": [
    "%%sql\n",
    "SELECT Count(*) AS number_of_posts_with_about_me\n",
    "FROM posts\n",
    "JOIN users ON users.Id = posts.OwnerUserId\n",
    "WHERE users.AboutMe <> '';"
   ]
  },
  {
   "cell_type": "code",
   "execution_count": 87,
   "metadata": {},
   "outputs": [],
   "source": [
    "sql17 = \"\"\"\n",
    "SELECT Count(*) AS number_of_posts_with_about_me\n",
    "FROM posts\n",
    "JOIN users ON users.Id = posts.OwnerUserId\n",
    "WHERE users.AboutMe <> '';\n",
    "\"\"\"\n",
    "store_query(\"Cross Table Queries\", \"How many posts have been created by a user that has a filled out the \"\"AboutMe\"\" section?\", sql17)"
   ]
  },
  {
   "cell_type": "markdown",
   "metadata": {},
   "source": [
    "Q17: Considering only the users with an \"AboutMe,\" how many posts are there per user?*"
   ]
  },
  {
   "cell_type": "code",
   "execution_count": 88,
   "metadata": {},
   "outputs": [
    {
     "name": "stdout",
     "output_type": "stream",
     "text": [
      " * sqlite:///chatdata.db\n",
      "Done.\n"
     ]
    },
    {
     "data": {
      "text/html": [
       "<table>\n",
       "    <tr>\n",
       "        <th>posts_per_user</th>\n",
       "    </tr>\n",
       "    <tr>\n",
       "        <td>4.274807261875155</td>\n",
       "    </tr>\n",
       "</table>"
      ],
      "text/plain": [
       "[(4.274807261875155,)]"
      ]
     },
     "execution_count": 88,
     "metadata": {},
     "output_type": "execute_result"
    }
   ],
   "source": [
    "%%sql\n",
    "SELECT COUNT(*) / (SELECT CAST(COUNT(*) AS FLOAT) FROM USERS WHERE ABOUTME !='') AS posts_per_user\n",
    "    FROM POSTS P\n",
    "    JOIN USERS U ON P.OWNERUSERID = U.ID\n",
    "    WHERE U.ABOUTME !=''"
   ]
  },
  {
   "cell_type": "code",
   "execution_count": 89,
   "metadata": {},
   "outputs": [],
   "source": [
    "sql18 = \"\"\"\n",
    "SELECT COUNT(*) / (SELECT CAST(COUNT(*) AS FLOAT) FROM USERS WHERE ABOUTME !='') AS posts_per_user\n",
    "    FROM POSTS P\n",
    "    JOIN USERS U ON P.OWNERUSERID = U.ID\n",
    "    WHERE U.ABOUTME !=''\n",
    "\"\"\"\n",
    "store_query(\"Cross Table Queries\", \"Considering only the users with an \"\"AboutMe,\"\" how many posts are there per user?\", sql18)"
   ]
  },
  {
   "cell_type": "markdown",
   "metadata": {},
   "source": [
    "4.27"
   ]
  },
  {
   "cell_type": "markdown",
   "metadata": {},
   "source": [
    "Q18: Not taking into account the commentcount field in the table posts, what are the Top 10 posts in terms of number of comments?"
   ]
  },
  {
   "cell_type": "code",
   "execution_count": 90,
   "metadata": {},
   "outputs": [
    {
     "name": "stdout",
     "output_type": "stream",
     "text": [
      " * sqlite:///chatdata.db\n",
      "Done.\n"
     ]
    },
    {
     "data": {
      "text/html": [
       "<table>\n",
       "    <tr>\n",
       "        <th>Post_Number</th>\n",
       "        <th>Number_of_Comments</th>\n",
       "    </tr>\n",
       "    <tr>\n",
       "        <td>386853</td>\n",
       "        <td>66</td>\n",
       "    </tr>\n",
       "    <tr>\n",
       "        <td>386556</td>\n",
       "        <td>34</td>\n",
       "    </tr>\n",
       "    <tr>\n",
       "        <td>395232</td>\n",
       "        <td>31</td>\n",
       "    </tr>\n",
       "    <tr>\n",
       "        <td>418910</td>\n",
       "        <td>31</td>\n",
       "    </tr>\n",
       "    <tr>\n",
       "        <td>402987</td>\n",
       "        <td>27</td>\n",
       "    </tr>\n",
       "    <tr>\n",
       "        <td>386075</td>\n",
       "        <td>26</td>\n",
       "    </tr>\n",
       "    <tr>\n",
       "        <td>394118</td>\n",
       "        <td>24</td>\n",
       "    </tr>\n",
       "    <tr>\n",
       "        <td>398828</td>\n",
       "        <td>23</td>\n",
       "    </tr>\n",
       "    <tr>\n",
       "        <td>402950</td>\n",
       "        <td>23</td>\n",
       "    </tr>\n",
       "    <tr>\n",
       "        <td>396111</td>\n",
       "        <td>22</td>\n",
       "    </tr>\n",
       "</table>"
      ],
      "text/plain": [
       "[(386853, 66),\n",
       " (386556, 34),\n",
       " (395232, 31),\n",
       " (418910, 31),\n",
       " (402987, 27),\n",
       " (386075, 26),\n",
       " (394118, 24),\n",
       " (398828, 23),\n",
       " (402950, 23),\n",
       " (396111, 22)]"
      ]
     },
     "execution_count": 90,
     "metadata": {},
     "output_type": "execute_result"
    }
   ],
   "source": [
    "%%sql\n",
    "SELECT posts.Id as Post_Number, Count(DISTINCT comments.Id) as Number_of_Comments\n",
    "FROM posts\n",
    "INNER JOIN comments ON posts.Id = comments.postId\n",
    "Group by posts.Id\n",
    "Order by Number_of_comments DESC\n",
    "Limit 10;"
   ]
  },
  {
   "cell_type": "code",
   "execution_count": 91,
   "metadata": {},
   "outputs": [],
   "source": [
    "sql19 = \"\"\"\n",
    "SELECT posts.Id as Post_Number, Count(DISTINCT comments.Id) as Number_of_Comments\n",
    "FROM posts\n",
    "INNER JOIN comments ON posts.Id = comments.postId\n",
    "Group by posts.Id\n",
    "Order by Number_of_comments DESC\n",
    "Limit 10;\n",
    "\"\"\"\n",
    "store_query(\"Cross Table Queries\", \"Not taking into account the commentcount field in the table posts, what are the Top 10 posts in terms of number of comments?\", sql19)"
   ]
  },
  {
   "cell_type": "markdown",
   "metadata": {},
   "source": [
    "Q19: What are the Top 10 posts which have the highest cummulative (post score + comment score) score? "
   ]
  },
  {
   "cell_type": "code",
   "execution_count": 92,
   "metadata": {},
   "outputs": [
    {
     "name": "stdout",
     "output_type": "stream",
     "text": [
      " * sqlite:///chatdata.db\n",
      "Done.\n"
     ]
    },
    {
     "data": {
      "text/html": [
       "<table>\n",
       "    <tr>\n",
       "        <th>Post_Id</th>\n",
       "        <th>Cummulative_score</th>\n",
       "    </tr>\n",
       "    <tr>\n",
       "        <td>394118</td>\n",
       "        <td>306</td>\n",
       "    </tr>\n",
       "    <tr>\n",
       "        <td>394128</td>\n",
       "        <td>169</td>\n",
       "    </tr>\n",
       "    <tr>\n",
       "        <td>388578</td>\n",
       "        <td>141</td>\n",
       "    </tr>\n",
       "    <tr>\n",
       "        <td>398653</td>\n",
       "        <td>111</td>\n",
       "    </tr>\n",
       "    <tr>\n",
       "        <td>388566</td>\n",
       "        <td>101</td>\n",
       "    </tr>\n",
       "    <tr>\n",
       "        <td>398646</td>\n",
       "        <td>99</td>\n",
       "    </tr>\n",
       "    <tr>\n",
       "        <td>421677</td>\n",
       "        <td>96</td>\n",
       "    </tr>\n",
       "    <tr>\n",
       "        <td>420526</td>\n",
       "        <td>92</td>\n",
       "    </tr>\n",
       "    <tr>\n",
       "        <td>400317</td>\n",
       "        <td>72</td>\n",
       "    </tr>\n",
       "    <tr>\n",
       "        <td>388582</td>\n",
       "        <td>69</td>\n",
       "    </tr>\n",
       "</table>"
      ],
      "text/plain": [
       "[(394118, 306),\n",
       " (394128, 169),\n",
       " (388578, 141),\n",
       " (398653, 111),\n",
       " (388566, 101),\n",
       " (398646, 99),\n",
       " (421677, 96),\n",
       " (420526, 92),\n",
       " (400317, 72),\n",
       " (388582, 69)]"
      ]
     },
     "execution_count": 92,
     "metadata": {},
     "output_type": "execute_result"
    }
   ],
   "source": [
    "%%sql\n",
    "SELECT posts.Id as Post_Id, (sum(comments.score) + posts.score) as Cummulative_score \n",
    "FROM posts\n",
    "INNER JOIN comments ON posts.Id = comments.postId\n",
    "GROUP BY posts.Id\n",
    "ORDER BY Cummulative_score DESC\n",
    "Limit 10;"
   ]
  },
  {
   "cell_type": "markdown",
   "metadata": {},
   "source": [
    "394"
   ]
  },
  {
   "cell_type": "code",
   "execution_count": 93,
   "metadata": {},
   "outputs": [],
   "source": [
    "sql20 = \"\"\"\n",
    "SELECT posts.Id as Post_Id, (sum(comments.score) + posts.score) as Cummulative_score \n",
    "FROM posts\n",
    "INNER JOIN comments ON posts.Id = comments.postId\n",
    "GROUP BY posts.Id\n",
    "ORDER BY Cummulative_score DESC\n",
    "Limit 10;\n",
    "\"\"\"\n",
    "store_query(\"Cross Table Queries\", \"What are the Top 10 posts which have the highest cummulative (post score + comment score) score?\", sql20)"
   ]
  },
  {
   "cell_type": "markdown",
   "metadata": {},
   "source": [
    "Q20: Who are the top 10 users who comment the most? "
   ]
  },
  {
   "cell_type": "code",
   "execution_count": 94,
   "metadata": {},
   "outputs": [
    {
     "name": "stdout",
     "output_type": "stream",
     "text": [
      " * sqlite:///chatdata.db\n",
      "Done.\n"
     ]
    },
    {
     "data": {
      "text/html": [
       "<table>\n",
       "    <tr>\n",
       "        <th>User</th>\n",
       "        <th>User_Id</th>\n",
       "        <th>Reputation</th>\n",
       "        <th>Number_of_Comments</th>\n",
       "    </tr>\n",
       "    <tr>\n",
       "        <td>Glen_b -Reinstate Monica</td>\n",
       "        <td>805</td>\n",
       "        <td>228662</td>\n",
       "        <td>1</td>\n",
       "    </tr>\n",
       "    <tr>\n",
       "        <td>whuber</td>\n",
       "        <td>919</td>\n",
       "        <td>223056</td>\n",
       "        <td>2</td>\n",
       "    </tr>\n",
       "    <tr>\n",
       "        <td>gung - Reinstate Monica</td>\n",
       "        <td>7290</td>\n",
       "        <td>115531</td>\n",
       "        <td>1</td>\n",
       "    </tr>\n",
       "    <tr>\n",
       "        <td>Peter Flom - Reinstate Monica</td>\n",
       "        <td>686</td>\n",
       "        <td>85077</td>\n",
       "        <td>2</td>\n",
       "    </tr>\n",
       "    <tr>\n",
       "        <td>amoeba says Reinstate Monica</td>\n",
       "        <td>28666</td>\n",
       "        <td>75024</td>\n",
       "        <td>2</td>\n",
       "    </tr>\n",
       "    <tr>\n",
       "        <td>Tim</td>\n",
       "        <td>35989</td>\n",
       "        <td>71548</td>\n",
       "        <td>2</td>\n",
       "    </tr>\n",
       "    <tr>\n",
       "        <td>Xi&#x27;an</td>\n",
       "        <td>7224</td>\n",
       "        <td>65999</td>\n",
       "        <td>3</td>\n",
       "    </tr>\n",
       "    <tr>\n",
       "        <td>Frank Harrell</td>\n",
       "        <td>4253</td>\n",
       "        <td>59952</td>\n",
       "        <td>3</td>\n",
       "    </tr>\n",
       "    <tr>\n",
       "        <td>S. Kolassa - Reinstate Monica</td>\n",
       "        <td>1352</td>\n",
       "        <td>59160</td>\n",
       "        <td>2</td>\n",
       "    </tr>\n",
       "    <tr>\n",
       "        <td>Sycorax says Reinstate Monica</td>\n",
       "        <td>22311</td>\n",
       "        <td>51155</td>\n",
       "        <td>2</td>\n",
       "    </tr>\n",
       "</table>"
      ],
      "text/plain": [
       "[('Glen_b -Reinstate Monica', 805, 228662, 1),\n",
       " ('whuber', 919, 223056, 2),\n",
       " ('gung - Reinstate Monica', 7290, 115531, 1),\n",
       " ('Peter Flom - Reinstate Monica', 686, 85077, 2),\n",
       " ('amoeba says Reinstate Monica', 28666, 75024, 2),\n",
       " ('Tim', 35989, 71548, 2),\n",
       " (\"Xi'an\", 7224, 65999, 3),\n",
       " ('Frank Harrell', 4253, 59952, 3),\n",
       " ('S. Kolassa - Reinstate Monica', 1352, 59160, 2),\n",
       " ('Sycorax says Reinstate Monica', 22311, 51155, 2)]"
      ]
     },
     "execution_count": 94,
     "metadata": {},
     "output_type": "execute_result"
    }
   ],
   "source": [
    "%%sql\n",
    "SELECT users.DisplayName as User, users.Id as User_Id, users.Reputation as Reputation, posts.CommentCount as Number_of_Comments\n",
    "FROM users\n",
    "INNER JOIN comments ON comments.UserId = users.Id\n",
    "INNER JOIN posts ON comments.postId = posts.Id\n",
    "GROUP BY user\n",
    "ORDER BY users.Reputation DESC\n",
    "LIMIT 10;"
   ]
  },
  {
   "cell_type": "code",
   "execution_count": 95,
   "metadata": {},
   "outputs": [],
   "source": [
    "sql21 = \"\"\"\n",
    "SELECT users.DisplayName as User, users.Id as User_Id, users.Reputation as Reputation, posts.CommentCount as Number_of_Comments\n",
    "FROM users\n",
    "INNER JOIN comments ON comments.UserId = users.Id\n",
    "INNER JOIN posts ON comments.postId = posts.Id\n",
    "GROUP BY user\n",
    "ORDER BY users.Reputation DESC\n",
    "LIMIT 10;\n",
    "\"\"\"\n",
    "store_query(\"Cross Table Queries\", \"Who are the top 10 users who comment the most?\", sql21)"
   ]
  },
  {
   "cell_type": "markdown",
   "metadata": {},
   "source": [
    "Q21: Who are the top 10 users who post the most?  "
   ]
  },
  {
   "cell_type": "code",
   "execution_count": 96,
   "metadata": {},
   "outputs": [
    {
     "name": "stdout",
     "output_type": "stream",
     "text": [
      " * sqlite:///chatdata.db\n",
      "Done.\n"
     ]
    },
    {
     "data": {
      "text/html": [
       "<table>\n",
       "    <tr>\n",
       "        <th>User</th>\n",
       "        <th>User_Id</th>\n",
       "        <th>Reputation</th>\n",
       "        <th>Number_of_posts</th>\n",
       "    </tr>\n",
       "    <tr>\n",
       "        <td>Glen_b -Reinstate Monica</td>\n",
       "        <td>805</td>\n",
       "        <td>228662</td>\n",
       "        <td>719</td>\n",
       "    </tr>\n",
       "    <tr>\n",
       "        <td>whuber</td>\n",
       "        <td>919</td>\n",
       "        <td>223056</td>\n",
       "        <td>2044</td>\n",
       "    </tr>\n",
       "    <tr>\n",
       "        <td>gung - Reinstate Monica</td>\n",
       "        <td>7290</td>\n",
       "        <td>115531</td>\n",
       "        <td>241</td>\n",
       "    </tr>\n",
       "    <tr>\n",
       "        <td>Peter Flom - Reinstate Monica</td>\n",
       "        <td>686</td>\n",
       "        <td>85077</td>\n",
       "        <td>257</td>\n",
       "    </tr>\n",
       "    <tr>\n",
       "        <td>amoeba says Reinstate Monica</td>\n",
       "        <td>28666</td>\n",
       "        <td>75024</td>\n",
       "        <td>70</td>\n",
       "    </tr>\n",
       "    <tr>\n",
       "        <td>Tim</td>\n",
       "        <td>35989</td>\n",
       "        <td>71548</td>\n",
       "        <td>284</td>\n",
       "    </tr>\n",
       "    <tr>\n",
       "        <td>Xi&#x27;an</td>\n",
       "        <td>7224</td>\n",
       "        <td>65999</td>\n",
       "        <td>320</td>\n",
       "    </tr>\n",
       "    <tr>\n",
       "        <td>Frank Harrell</td>\n",
       "        <td>4253</td>\n",
       "        <td>59952</td>\n",
       "        <td>153</td>\n",
       "    </tr>\n",
       "    <tr>\n",
       "        <td>S. Kolassa - Reinstate Monica</td>\n",
       "        <td>1352</td>\n",
       "        <td>59160</td>\n",
       "        <td>261</td>\n",
       "    </tr>\n",
       "    <tr>\n",
       "        <td>Sycorax says Reinstate Monica</td>\n",
       "        <td>22311</td>\n",
       "        <td>51155</td>\n",
       "        <td>284</td>\n",
       "    </tr>\n",
       "</table>"
      ],
      "text/plain": [
       "[('Glen_b -Reinstate Monica', 805, 228662, 719),\n",
       " ('whuber', 919, 223056, 2044),\n",
       " ('gung - Reinstate Monica', 7290, 115531, 241),\n",
       " ('Peter Flom - Reinstate Monica', 686, 85077, 257),\n",
       " ('amoeba says Reinstate Monica', 28666, 75024, 70),\n",
       " ('Tim', 35989, 71548, 284),\n",
       " (\"Xi'an\", 7224, 65999, 320),\n",
       " ('Frank Harrell', 4253, 59952, 153),\n",
       " ('S. Kolassa - Reinstate Monica', 1352, 59160, 261),\n",
       " ('Sycorax says Reinstate Monica', 22311, 51155, 284)]"
      ]
     },
     "execution_count": 96,
     "metadata": {},
     "output_type": "execute_result"
    }
   ],
   "source": [
    "%%sql\n",
    "SELECT users.DisplayName as User, users.Id as User_Id, users.Reputation as Reputation, Count(DISTINCT Posts.Id) as Number_of_posts\n",
    "FROM users\n",
    "INNER JOIN comments ON comments.UserId = users.Id\n",
    "INNER JOIN posts ON comments.postId = posts.Id\n",
    "GROUP BY user\n",
    "ORDER BY users.Reputation DESC\n",
    "LIMIT 10;"
   ]
  },
  {
   "cell_type": "code",
   "execution_count": 97,
   "metadata": {},
   "outputs": [],
   "source": [
    "sql22 = \"\"\"\n",
    "SELECT users.DisplayName as User, users.Id as User_Id, users.Reputation as Reputation, Count(DISTINCT Posts.Id) as Number_of_posts\n",
    "FROM users\n",
    "INNER JOIN comments ON comments.UserId = users.Id\n",
    "INNER JOIN posts ON comments.postId = posts.Id\n",
    "GROUP BY user\n",
    "ORDER BY users.Reputation DESC\n",
    "LIMIT 10;\n",
    "\"\"\"\n",
    "store_query(\"Cross Table Queries\", \"Who are the top 10 users who post the most?\", sql22)"
   ]
  },
  {
   "cell_type": "code",
   "execution_count": 98,
   "metadata": {},
   "outputs": [
    {
     "name": "stdout",
     "output_type": "stream",
     "text": [
      " * sqlite:///chatdata.db\n",
      "Done.\n"
     ]
    },
    {
     "data": {
      "text/html": [
       "<table>\n",
       "    <tr>\n",
       "        <th>task</th>\n",
       "        <th>action</th>\n",
       "        <th>query</th>\n",
       "    </tr>\n",
       "    <tr>\n",
       "        <td>Single Table Queries</td>\n",
       "        <td>Which 5 users have viewed the most times and what is the sum of those views per user?</td>\n",
       "        <td><br>SELECT Id, SUM(Views) AS TotalViews<br>    FROM Users<br>        GROUP BY Id<br>            ORDER BY TotalViews DESC<br>                LIMIT 5<br>                </td>\n",
       "    </tr>\n",
       "    <tr>\n",
       "        <td>Creating Tables</td>\n",
       "        <td>Create table comments</td>\n",
       "        <td><br>    CREATE TABLE &quot;comments&quot; (<br>    &quot;Id&quot; INTEGER,<br>    &quot;PostId&quot; INTEGER,<br>    &quot;Score&quot; INTEGER,<br>    &quot;Text&quot; TEXT,<br>    &quot;CreationDate&quot; TEXT,<br>    &quot;UserId&quot; INTEGER<br>    )<br>    </td>\n",
       "    </tr>\n",
       "    <tr>\n",
       "        <td>Creating Tables</td>\n",
       "        <td>Create table posts</td>\n",
       "        <td><br>    CREATE TABLE &quot;posts&quot; (<br>    &quot;Id&quot; INTEGER NOT NULL PRIMARY KEY,<br>    &quot;PostTypeId&quot; INTEGER,<br>    &quot;AcceptedAnswerId&quot; INTEGER,<br>    &quot;ParentId&quot; INTEGER,<br>    &quot;CreationDate&quot; TEXT,<br>    &quot;Score&quot; INTEGER,<br>    &quot;ViewCount&quot; INTEGER,<br>    &quot;Body&quot; TEXT,<br>    &quot;OwnerUserId&quot; INTEGER,<br>    &quot;OwnerDisplayName&quot; TEXT,<br>    &quot;LastEditorUserId&quot; INTEGER,<br>    &quot;LastEditorDisplayName&quot; TEXT,<br>    &quot;LastEditDate&quot; TEXT,<br>    &quot;LastActivityDate&quot; TEXT,<br>    &quot;Title&quot; TEXT,<br>    &quot;Tags&quot; TEXT,<br>    &quot;AnswerCount&quot; INTEGER,<br>    &quot;CommentCount&quot; INTEGER,<br>    &quot;FavoriteCount&quot; INTEGER,<br>    &quot;ClosedDate&quot; TEXT,<br>    &quot;CommunityOwnedDate&quot; TEXT<br>    )<br>    </td>\n",
       "    </tr>\n",
       "    <tr>\n",
       "        <td>Creating Tables</td>\n",
       "        <td>Create table users</td>\n",
       "        <td><br>    CREATE TABLE &quot;users&quot; (<br>    &quot;Id&quot; INTEGER NOT NULL PRIMARY KEY,<br>    &quot;Reputation&quot; INTEGER,<br>    &quot;CreationDate&quot; TEXT,<br>    &quot;DisplayName&quot; TEXT,<br>    &quot;LastAccessDate&quot; TEXT,<br>    &quot;WebsiteUrl&quot; TEXT,<br>    &quot;Location&quot; TEXT,<br>    &quot;AboutMe&quot; TEXT,<br>    &quot;Views&quot; INTEGER,<br>    &quot;UpVotes&quot; INTEGER,<br>    &quot;DownVotes&quot; INTEGER,<br>    &quot;ProfileImageUrl&quot; TEXT,<br>    &quot;AccountId&quot; INTEGER<br>    );<br>    </td>\n",
       "    </tr>\n",
       "    <tr>\n",
       "        <td>Single Table Queries</td>\n",
       "        <td>How many posts have 0 comments?</td>\n",
       "        <td><br>  SELECT COUNT(*) FROM posts WHERE CommentCount= 0;<br>    </td>\n",
       "    </tr>\n",
       "    <tr>\n",
       "        <td>Single Table Queries</td>\n",
       "        <td>How many posts have 1 comments?</td>\n",
       "        <td><br>SELECT COUNT(*) FROM posts WHERE CommentCount= 1;<br></td>\n",
       "    </tr>\n",
       "    <tr>\n",
       "        <td>Single Table Queries</td>\n",
       "        <td>How many posts have 2 or more comments?</td>\n",
       "        <td><br>SELECT COUNT(*) FROM posts WHERE CommentCount &gt;= 2;<br>    </td>\n",
       "    </tr>\n",
       "    <tr>\n",
       "        <td>Single Table Queries</td>\n",
       "        <td>Find the 5 posts with the highest viewcount</td>\n",
       "        <td><br>SELECT Id, SUM(viewcount) AS Highestviews<br>    FROM posts<br>        GROUP BY Id<br>            ORDER BY Highestviews DESC<br>                LIMIT 5<br>                </td>\n",
       "    </tr>\n",
       "    <tr>\n",
       "        <td>Single Table Queries</td>\n",
       "        <td>Find the top 5 posts with the highest scores</td>\n",
       "        <td><br>SELECT Id, SUM(Score) AS Highestscore<br>    FROM posts<br>        GROUP BY Id<br>            ORDER BY Highestscore DESC<br>                LIMIT 5</td>\n",
       "    </tr>\n",
       "    <tr>\n",
       "        <td>Single Table Queries</td>\n",
       "        <td>What are the 5 most frequent scores on posts?</td>\n",
       "        <td><br>SELECT Score, COUNT(Score) AS frequent_scores<br>FROM posts<br>GROUP BY Score<br>ORDER BY frequent_scores DESC<br>LIMIT 5;</td>\n",
       "    </tr>\n",
       "    <tr>\n",
       "        <td>Single Table Queries</td>\n",
       "        <td>How many posts have the keyword data in their tags?</td>\n",
       "        <td><br>SELECT COUNT(*) AS posts_with_data<br>FROM posts<br>WHERE Tags LIKE &#x27;%data%&#x27;;<br></td>\n",
       "    </tr>\n",
       "    <tr>\n",
       "        <td>Single Table Queries</td>\n",
       "        <td>What are the 5 most frequent commentcount for posts?</td>\n",
       "        <td><br>SELECT CommentCount, COUNT(*) AS five_most_frequent<br>FROM posts<br>GROUP BY CommentCount<br>ORDER BY five_most_frequent DESC<br>LIMIT 5;<br></td>\n",
       "    </tr>\n",
       "    <tr>\n",
       "        <td>Single Table Queries</td>\n",
       "        <td>How many posts have an accepted answer? (A post with no accepted answer has a value of 0 for acceptedanswerid)</td>\n",
       "        <td><br>SELECT COUNT(*) AS accepted_answers<br>FROM posts<br>WHERE AcceptedAnswerId &lt;&gt; 0;<br></td>\n",
       "    </tr>\n",
       "    <tr>\n",
       "        <td>Single Table Queries</td>\n",
       "        <td>What is the average reputation of table users?</td>\n",
       "        <td><br>SELECT AVG(Reputation) FROM users<br></td>\n",
       "    </tr>\n",
       "    <tr>\n",
       "        <td>Single Table Queries</td>\n",
       "        <td>What are the min and max reputation of users? (split into two cells)</td>\n",
       "        <td><br>SELECT MIN(Reputation) FROM users<br>SELECT MAX(Reputation) FROM users;<br></td>\n",
       "    </tr>\n",
       "    <tr>\n",
       "        <td>Single Table Queries</td>\n",
       "        <td>What is the length of the body of 5 most viewed posts?</td>\n",
       "        <td><br>SELECT Title, ViewCount as View_Count, LENGTH(Body) as Number_of_Characters<br>FROM posts<br>GROUP BY Title<br>ORDER BY View_Count DESC<br>LIMIT 5;<br></td>\n",
       "    </tr>\n",
       "    <tr>\n",
       "        <td>Single Table Queries</td>\n",
       "        <td>How many different locations are there in the users table?</td>\n",
       "        <td><br>SELECT COUNT(DISTINCT Location) FROM users;<br></td>\n",
       "    </tr>\n",
       "    <tr>\n",
       "        <td>Single Table Queries</td>\n",
       "        <td>What are the top 5 locations of users?</td>\n",
       "        <td><br>SELECT Location, COUNT(Location) Top_Locations<br>FROM users<br>GROUP BY Location<br>ORDER BY Top_Locations DESC<br>LIMIT 5;<br></td>\n",
       "    </tr>\n",
       "    <tr>\n",
       "        <td>Single Table Queries</td>\n",
       "        <td>Rank the days of the week from highest to lowest in terms of the volume of ViewCount as a percentage.</td>\n",
       "        <td><br>SELECT ROUND(SUM(ViewCount * 100.0)  /<br>     (SELECT SUM(ViewCount) FROM Posts), 2) AS View_Count_Percent,<br>    CASE strftime(&#x27;%w&#x27;, CreationDate)<br>        WHEN &#x27;0&#x27; THEN &#x27;Sunday&#x27;<br>        WHEN &#x27;1&#x27; THEN &#x27;Monday&#x27;<br>        WHEN &#x27;2&#x27; THEN &#x27;Tuesday&#x27;<br>        WHEN &#x27;3&#x27; THEN &#x27;Wednesday&#x27;<br>        WHEN &#x27;4&#x27; THEN &#x27;Thursday&#x27;<br>        WHEN &#x27;5&#x27; THEN &#x27;Friday&#x27;<br>        WHEN &#x27;6&#x27; THEN &#x27;Saturday&#x27;<br>        ELSE &#x27;Unknown&#x27;<br>    END AS Day_of_Week<br>FROM posts<br>GROUP BY Day_of_Week<br>ORDER BY View_Count_Percent DESC;<br></td>\n",
       "    </tr>\n",
       "    <tr>\n",
       "        <td>Cross Table Queries</td>\n",
       "        <td>How many posts have been created by a user that has a filled out the AboutMe section?</td>\n",
       "        <td><br>SELECT Count(*) AS number_of_posts_with_about_me<br>FROM posts<br>JOIN users ON users.Id = posts.OwnerUserId<br>WHERE users.AboutMe &lt;&gt; &#x27;&#x27;;<br></td>\n",
       "    </tr>\n",
       "    <tr>\n",
       "        <td>Cross Table Queries</td>\n",
       "        <td>Considering only the users with an AboutMe, how many posts are there per user?</td>\n",
       "        <td><br>SELECT COUNT(*) / (SELECT CAST(COUNT(*) AS FLOAT) FROM USERS WHERE ABOUTME !=&#x27;&#x27;) AS posts_per_user<br>    FROM POSTS P<br>    JOIN USERS U ON P.OWNERUSERID = U.ID<br>    WHERE U.ABOUTME !=&#x27;&#x27;<br></td>\n",
       "    </tr>\n",
       "    <tr>\n",
       "        <td>Cross Table Queries</td>\n",
       "        <td>Not taking into account the commentcount field in the table posts, what are the Top 10 posts in terms of number of comments?</td>\n",
       "        <td><br>SELECT posts.Id as Post_Number, Count(DISTINCT comments.Id) as Number_of_Comments<br>FROM posts<br>INNER JOIN comments ON posts.Id = comments.postId<br>Group by posts.Id<br>Order by Number_of_comments DESC<br>Limit 10;<br></td>\n",
       "    </tr>\n",
       "    <tr>\n",
       "        <td>Cross Table Queries</td>\n",
       "        <td>What are the Top 10 posts which have the highest cummulative (post score + comment score) score?</td>\n",
       "        <td><br>SELECT posts.Id as Post_Id, (sum(comments.score) + posts.score) as Cummulative_score <br>FROM posts<br>INNER JOIN comments ON posts.Id = comments.postId<br>GROUP BY posts.Id<br>ORDER BY Cummulative_score DESC<br>Limit 10;<br></td>\n",
       "    </tr>\n",
       "    <tr>\n",
       "        <td>Cross Table Queries</td>\n",
       "        <td>Who are the top 10 users who comment the most?</td>\n",
       "        <td><br>SELECT users.DisplayName as User, users.Id as User_Id, users.Reputation as Reputation, posts.CommentCount as Number_of_Comments<br>FROM users<br>INNER JOIN comments ON comments.UserId = users.Id<br>INNER JOIN posts ON comments.postId = posts.Id<br>GROUP BY user<br>ORDER BY users.Reputation DESC<br>LIMIT 10;<br></td>\n",
       "    </tr>\n",
       "    <tr>\n",
       "        <td>Cross Table Queries</td>\n",
       "        <td>Who are the top 10 users who post the most?</td>\n",
       "        <td><br>SELECT users.DisplayName as User, users.Id as User_Id, users.Reputation as Reputation, Count(DISTINCT Posts.Id) as Number_of_posts<br>FROM users<br>INNER JOIN comments ON comments.UserId = users.Id<br>INNER JOIN posts ON comments.postId = posts.Id<br>GROUP BY user<br>ORDER BY users.Reputation DESC<br>LIMIT 10;<br></td>\n",
       "    </tr>\n",
       "</table>"
      ],
      "text/plain": [
       "[('Single Table Queries', 'Which 5 users have viewed the most times and what is the sum of those views per user?', '\\nSELECT Id, SUM(Views) AS TotalViews\\n    FROM Users\\n        GROUP BY Id\\n            ORDER BY TotalViews DESC\\n                LIMIT 5\\n                '),\n",
       " ('Creating Tables', 'Create table comments', '\\n    CREATE TABLE \"comments\" (\\n    \"Id\" INTEGER,\\n    \"PostId\" INTEGER,\\n    \"Score\" INTEGER,\\n    \"Text\" TEXT,\\n    \"CreationDate\" TEXT,\\n    \"UserId\" INTEGER\\n    )\\n    '),\n",
       " ('Creating Tables', 'Create table posts', '\\n    CREATE TABLE \"posts\" (\\n    \"Id\" INTEGER NOT NULL PRIMARY KEY,\\n    \"PostTypeId\" INTEGER,\\n    \"AcceptedAnswerId\" INTEGER,\\n    \"ParentId\" INTE ... (321 characters truncated) ... \"AnswerCount\" INTEGER,\\n    \"CommentCount\" INTEGER,\\n    \"FavoriteCount\" INTEGER,\\n    \"ClosedDate\" TEXT,\\n    \"CommunityOwnedDate\" TEXT\\n    )\\n    '),\n",
       " ('Creating Tables', 'Create table users', '\\n    CREATE TABLE \"users\" (\\n    \"Id\" INTEGER NOT NULL PRIMARY KEY,\\n    \"Reputation\" INTEGER,\\n    \"CreationDate\" TEXT,\\n    \"DisplayName\" TEXT,\\n  ... (83 characters truncated) ... Me\" TEXT,\\n    \"Views\" INTEGER,\\n    \"UpVotes\" INTEGER,\\n    \"DownVotes\" INTEGER,\\n    \"ProfileImageUrl\" TEXT,\\n    \"AccountId\" INTEGER\\n    );\\n    '),\n",
       " ('Single Table Queries', 'How many posts have 0 comments?', '\\n  SELECT COUNT(*) FROM posts WHERE CommentCount= 0;\\n    '),\n",
       " ('Single Table Queries', 'How many posts have 1 comments?', '\\nSELECT COUNT(*) FROM posts WHERE CommentCount= 1;\\n'),\n",
       " ('Single Table Queries', 'How many posts have 2 or more comments?', '\\nSELECT COUNT(*) FROM posts WHERE CommentCount >= 2;\\n    '),\n",
       " ('Single Table Queries', 'Find the 5 posts with the highest viewcount', '\\nSELECT Id, SUM(viewcount) AS Highestviews\\n    FROM posts\\n        GROUP BY Id\\n            ORDER BY Highestviews DESC\\n                LIMIT 5\\n                '),\n",
       " ('Single Table Queries', 'Find the top 5 posts with the highest scores', '\\nSELECT Id, SUM(Score) AS Highestscore\\n    FROM posts\\n        GROUP BY Id\\n            ORDER BY Highestscore DESC\\n                LIMIT 5'),\n",
       " ('Single Table Queries', 'What are the 5 most frequent scores on posts?', '\\nSELECT Score, COUNT(Score) AS frequent_scores\\nFROM posts\\nGROUP BY Score\\nORDER BY frequent_scores DESC\\nLIMIT 5;'),\n",
       " ('Single Table Queries', 'How many posts have the keyword data in their tags?', \"\\nSELECT COUNT(*) AS posts_with_data\\nFROM posts\\nWHERE Tags LIKE '%data%';\\n\"),\n",
       " ('Single Table Queries', 'What are the 5 most frequent commentcount for posts?', '\\nSELECT CommentCount, COUNT(*) AS five_most_frequent\\nFROM posts\\nGROUP BY CommentCount\\nORDER BY five_most_frequent DESC\\nLIMIT 5;\\n'),\n",
       " ('Single Table Queries', 'How many posts have an accepted answer? (A post with no accepted answer has a value of 0 for acceptedanswerid)', '\\nSELECT COUNT(*) AS accepted_answers\\nFROM posts\\nWHERE AcceptedAnswerId <> 0;\\n'),\n",
       " ('Single Table Queries', 'What is the average reputation of table users?', '\\nSELECT AVG(Reputation) FROM users\\n'),\n",
       " ('Single Table Queries', 'What are the min and max reputation of users? (split into two cells)', '\\nSELECT MIN(Reputation) FROM users\\nSELECT MAX(Reputation) FROM users;\\n'),\n",
       " ('Single Table Queries', 'What is the length of the body of 5 most viewed posts?', '\\nSELECT Title, ViewCount as View_Count, LENGTH(Body) as Number_of_Characters\\nFROM posts\\nGROUP BY Title\\nORDER BY View_Count DESC\\nLIMIT 5;\\n'),\n",
       " ('Single Table Queries', 'How many different locations are there in the users table?', '\\nSELECT COUNT(DISTINCT Location) FROM users;\\n'),\n",
       " ('Single Table Queries', 'What are the top 5 locations of users?', '\\nSELECT Location, COUNT(Location) Top_Locations\\nFROM users\\nGROUP BY Location\\nORDER BY Top_Locations DESC\\nLIMIT 5;\\n'),\n",
       " ('Single Table Queries', 'Rank the days of the week from highest to lowest in terms of the volume of ViewCount as a percentage.', \"\\nSELECT ROUND(SUM(ViewCount * 100.0)  /\\n     (SELECT SUM(ViewCount) FROM Posts), 2) AS View_Count_Percent,\\n    CASE strftime('%w', CreationDate)\\n ... (200 characters truncated) ...       WHEN '6' THEN 'Saturday'\\n        ELSE 'Unknown'\\n    END AS Day_of_Week\\nFROM posts\\nGROUP BY Day_of_Week\\nORDER BY View_Count_Percent DESC;\\n\"),\n",
       " ('Cross Table Queries', 'How many posts have been created by a user that has a filled out the AboutMe section?', \"\\nSELECT Count(*) AS number_of_posts_with_about_me\\nFROM posts\\nJOIN users ON users.Id = posts.OwnerUserId\\nWHERE users.AboutMe <> '';\\n\"),\n",
       " ('Cross Table Queries', 'Considering only the users with an AboutMe, how many posts are there per user?', \"\\nSELECT COUNT(*) / (SELECT CAST(COUNT(*) AS FLOAT) FROM USERS WHERE ABOUTME !='') AS posts_per_user\\n    FROM POSTS P\\n    JOIN USERS U ON P.OWNERUSERID = U.ID\\n    WHERE U.ABOUTME !=''\\n\"),\n",
       " ('Cross Table Queries', 'Not taking into account the commentcount field in the table posts, what are the Top 10 posts in terms of number of comments?', '\\nSELECT posts.Id as Post_Number, Count(DISTINCT comments.Id) as Number_of_Comments\\nFROM posts\\nINNER JOIN comments ON posts.Id = comments.postId\\nGroup by posts.Id\\nOrder by Number_of_comments DESC\\nLimit 10;\\n'),\n",
       " ('Cross Table Queries', 'What are the Top 10 posts which have the highest cummulative (post score + comment score) score?', '\\nSELECT posts.Id as Post_Id, (sum(comments.score) + posts.score) as Cummulative_score \\nFROM posts\\nINNER JOIN comments ON posts.Id = comments.postId\\nGROUP BY posts.Id\\nORDER BY Cummulative_score DESC\\nLimit 10;\\n'),\n",
       " ('Cross Table Queries', 'Who are the top 10 users who comment the most?', '\\nSELECT users.DisplayName as User, users.Id as User_Id, users.Reputation as Reputation, posts.CommentCount as Number_of_Comments\\nFROM users\\nINNER  ... (2 characters truncated) ... IN comments ON comments.UserId = users.Id\\nINNER JOIN posts ON comments.postId = posts.Id\\nGROUP BY user\\nORDER BY users.Reputation DESC\\nLIMIT 10;\\n'),\n",
       " ('Cross Table Queries', 'Who are the top 10 users who post the most?', '\\nSELECT users.DisplayName as User, users.Id as User_Id, users.Reputation as Reputation, Count(DISTINCT Posts.Id) as Number_of_posts\\nFROM users\\nINN ... (5 characters truncated) ... IN comments ON comments.UserId = users.Id\\nINNER JOIN posts ON comments.postId = posts.Id\\nGROUP BY user\\nORDER BY users.Reputation DESC\\nLIMIT 10;\\n')]"
      ]
     },
     "execution_count": 98,
     "metadata": {},
     "output_type": "execute_result"
    }
   ],
   "source": [
    "# Prove it works\n",
    "%sql SELECT * FROM queries"
   ]
  },
  {
   "cell_type": "markdown",
   "metadata": {},
   "source": [
    "# Task 4: Check the Queries Table\n",
    "\n",
    "Now let's tidy up and check the queries table.\n",
    "\n",
    "First let's check it's contents:"
   ]
  },
  {
   "cell_type": "code",
   "execution_count": 99,
   "metadata": {},
   "outputs": [
    {
     "name": "stdout",
     "output_type": "stream",
     "text": [
      " * sqlite:///chatdata.db\n",
      "Done.\n"
     ]
    },
    {
     "data": {
      "text/html": [
       "<table>\n",
       "    <tr>\n",
       "        <th>task</th>\n",
       "        <th>action</th>\n",
       "        <th>query</th>\n",
       "    </tr>\n",
       "    <tr>\n",
       "        <td>Single Table Queries</td>\n",
       "        <td>Which 5 users have viewed the most times and what is the sum of those views per user?</td>\n",
       "        <td><br>SELECT Id, SUM(Views) AS TotalViews<br>    FROM Users<br>        GROUP BY Id<br>            ORDER BY TotalViews DESC<br>                LIMIT 5<br>                </td>\n",
       "    </tr>\n",
       "    <tr>\n",
       "        <td>Creating Tables</td>\n",
       "        <td>Create table comments</td>\n",
       "        <td><br>    CREATE TABLE &quot;comments&quot; (<br>    &quot;Id&quot; INTEGER,<br>    &quot;PostId&quot; INTEGER,<br>    &quot;Score&quot; INTEGER,<br>    &quot;Text&quot; TEXT,<br>    &quot;CreationDate&quot; TEXT,<br>    &quot;UserId&quot; INTEGER<br>    )<br>    </td>\n",
       "    </tr>\n",
       "    <tr>\n",
       "        <td>Creating Tables</td>\n",
       "        <td>Create table posts</td>\n",
       "        <td><br>    CREATE TABLE &quot;posts&quot; (<br>    &quot;Id&quot; INTEGER NOT NULL PRIMARY KEY,<br>    &quot;PostTypeId&quot; INTEGER,<br>    &quot;AcceptedAnswerId&quot; INTEGER,<br>    &quot;ParentId&quot; INTEGER,<br>    &quot;CreationDate&quot; TEXT,<br>    &quot;Score&quot; INTEGER,<br>    &quot;ViewCount&quot; INTEGER,<br>    &quot;Body&quot; TEXT,<br>    &quot;OwnerUserId&quot; INTEGER,<br>    &quot;OwnerDisplayName&quot; TEXT,<br>    &quot;LastEditorUserId&quot; INTEGER,<br>    &quot;LastEditorDisplayName&quot; TEXT,<br>    &quot;LastEditDate&quot; TEXT,<br>    &quot;LastActivityDate&quot; TEXT,<br>    &quot;Title&quot; TEXT,<br>    &quot;Tags&quot; TEXT,<br>    &quot;AnswerCount&quot; INTEGER,<br>    &quot;CommentCount&quot; INTEGER,<br>    &quot;FavoriteCount&quot; INTEGER,<br>    &quot;ClosedDate&quot; TEXT,<br>    &quot;CommunityOwnedDate&quot; TEXT<br>    )<br>    </td>\n",
       "    </tr>\n",
       "    <tr>\n",
       "        <td>Creating Tables</td>\n",
       "        <td>Create table users</td>\n",
       "        <td><br>    CREATE TABLE &quot;users&quot; (<br>    &quot;Id&quot; INTEGER NOT NULL PRIMARY KEY,<br>    &quot;Reputation&quot; INTEGER,<br>    &quot;CreationDate&quot; TEXT,<br>    &quot;DisplayName&quot; TEXT,<br>    &quot;LastAccessDate&quot; TEXT,<br>    &quot;WebsiteUrl&quot; TEXT,<br>    &quot;Location&quot; TEXT,<br>    &quot;AboutMe&quot; TEXT,<br>    &quot;Views&quot; INTEGER,<br>    &quot;UpVotes&quot; INTEGER,<br>    &quot;DownVotes&quot; INTEGER,<br>    &quot;ProfileImageUrl&quot; TEXT,<br>    &quot;AccountId&quot; INTEGER<br>    );<br>    </td>\n",
       "    </tr>\n",
       "    <tr>\n",
       "        <td>Single Table Queries</td>\n",
       "        <td>How many posts have 0 comments?</td>\n",
       "        <td><br>  SELECT COUNT(*) FROM posts WHERE CommentCount= 0;<br>    </td>\n",
       "    </tr>\n",
       "    <tr>\n",
       "        <td>Single Table Queries</td>\n",
       "        <td>How many posts have 1 comments?</td>\n",
       "        <td><br>SELECT COUNT(*) FROM posts WHERE CommentCount= 1;<br></td>\n",
       "    </tr>\n",
       "    <tr>\n",
       "        <td>Single Table Queries</td>\n",
       "        <td>How many posts have 2 or more comments?</td>\n",
       "        <td><br>SELECT COUNT(*) FROM posts WHERE CommentCount &gt;= 2;<br>    </td>\n",
       "    </tr>\n",
       "    <tr>\n",
       "        <td>Single Table Queries</td>\n",
       "        <td>Find the 5 posts with the highest viewcount</td>\n",
       "        <td><br>SELECT Id, SUM(viewcount) AS Highestviews<br>    FROM posts<br>        GROUP BY Id<br>            ORDER BY Highestviews DESC<br>                LIMIT 5<br>                </td>\n",
       "    </tr>\n",
       "    <tr>\n",
       "        <td>Single Table Queries</td>\n",
       "        <td>Find the top 5 posts with the highest scores</td>\n",
       "        <td><br>SELECT Id, SUM(Score) AS Highestscore<br>    FROM posts<br>        GROUP BY Id<br>            ORDER BY Highestscore DESC<br>                LIMIT 5</td>\n",
       "    </tr>\n",
       "    <tr>\n",
       "        <td>Single Table Queries</td>\n",
       "        <td>What are the 5 most frequent scores on posts?</td>\n",
       "        <td><br>SELECT Score, COUNT(Score) AS frequent_scores<br>FROM posts<br>GROUP BY Score<br>ORDER BY frequent_scores DESC<br>LIMIT 5;</td>\n",
       "    </tr>\n",
       "    <tr>\n",
       "        <td>Single Table Queries</td>\n",
       "        <td>How many posts have the keyword data in their tags?</td>\n",
       "        <td><br>SELECT COUNT(*) AS posts_with_data<br>FROM posts<br>WHERE Tags LIKE &#x27;%data%&#x27;;<br></td>\n",
       "    </tr>\n",
       "    <tr>\n",
       "        <td>Single Table Queries</td>\n",
       "        <td>What are the 5 most frequent commentcount for posts?</td>\n",
       "        <td><br>SELECT CommentCount, COUNT(*) AS five_most_frequent<br>FROM posts<br>GROUP BY CommentCount<br>ORDER BY five_most_frequent DESC<br>LIMIT 5;<br></td>\n",
       "    </tr>\n",
       "    <tr>\n",
       "        <td>Single Table Queries</td>\n",
       "        <td>How many posts have an accepted answer? (A post with no accepted answer has a value of 0 for acceptedanswerid)</td>\n",
       "        <td><br>SELECT COUNT(*) AS accepted_answers<br>FROM posts<br>WHERE AcceptedAnswerId &lt;&gt; 0;<br></td>\n",
       "    </tr>\n",
       "    <tr>\n",
       "        <td>Single Table Queries</td>\n",
       "        <td>What is the average reputation of table users?</td>\n",
       "        <td><br>SELECT AVG(Reputation) FROM users<br></td>\n",
       "    </tr>\n",
       "    <tr>\n",
       "        <td>Single Table Queries</td>\n",
       "        <td>What are the min and max reputation of users? (split into two cells)</td>\n",
       "        <td><br>SELECT MIN(Reputation) FROM users<br>SELECT MAX(Reputation) FROM users;<br></td>\n",
       "    </tr>\n",
       "    <tr>\n",
       "        <td>Single Table Queries</td>\n",
       "        <td>What is the length of the body of 5 most viewed posts?</td>\n",
       "        <td><br>SELECT Title, ViewCount as View_Count, LENGTH(Body) as Number_of_Characters<br>FROM posts<br>GROUP BY Title<br>ORDER BY View_Count DESC<br>LIMIT 5;<br></td>\n",
       "    </tr>\n",
       "    <tr>\n",
       "        <td>Single Table Queries</td>\n",
       "        <td>How many different locations are there in the users table?</td>\n",
       "        <td><br>SELECT COUNT(DISTINCT Location) FROM users;<br></td>\n",
       "    </tr>\n",
       "    <tr>\n",
       "        <td>Single Table Queries</td>\n",
       "        <td>What are the top 5 locations of users?</td>\n",
       "        <td><br>SELECT Location, COUNT(Location) Top_Locations<br>FROM users<br>GROUP BY Location<br>ORDER BY Top_Locations DESC<br>LIMIT 5;<br></td>\n",
       "    </tr>\n",
       "    <tr>\n",
       "        <td>Single Table Queries</td>\n",
       "        <td>Rank the days of the week from highest to lowest in terms of the volume of ViewCount as a percentage.</td>\n",
       "        <td><br>SELECT ROUND(SUM(ViewCount * 100.0)  /<br>     (SELECT SUM(ViewCount) FROM Posts), 2) AS View_Count_Percent,<br>    CASE strftime(&#x27;%w&#x27;, CreationDate)<br>        WHEN &#x27;0&#x27; THEN &#x27;Sunday&#x27;<br>        WHEN &#x27;1&#x27; THEN &#x27;Monday&#x27;<br>        WHEN &#x27;2&#x27; THEN &#x27;Tuesday&#x27;<br>        WHEN &#x27;3&#x27; THEN &#x27;Wednesday&#x27;<br>        WHEN &#x27;4&#x27; THEN &#x27;Thursday&#x27;<br>        WHEN &#x27;5&#x27; THEN &#x27;Friday&#x27;<br>        WHEN &#x27;6&#x27; THEN &#x27;Saturday&#x27;<br>        ELSE &#x27;Unknown&#x27;<br>    END AS Day_of_Week<br>FROM posts<br>GROUP BY Day_of_Week<br>ORDER BY View_Count_Percent DESC;<br></td>\n",
       "    </tr>\n",
       "    <tr>\n",
       "        <td>Cross Table Queries</td>\n",
       "        <td>How many posts have been created by a user that has a filled out the AboutMe section?</td>\n",
       "        <td><br>SELECT Count(*) AS number_of_posts_with_about_me<br>FROM posts<br>JOIN users ON users.Id = posts.OwnerUserId<br>WHERE users.AboutMe &lt;&gt; &#x27;&#x27;;<br></td>\n",
       "    </tr>\n",
       "    <tr>\n",
       "        <td>Cross Table Queries</td>\n",
       "        <td>Considering only the users with an AboutMe, how many posts are there per user?</td>\n",
       "        <td><br>SELECT COUNT(*) / (SELECT CAST(COUNT(*) AS FLOAT) FROM USERS WHERE ABOUTME !=&#x27;&#x27;) AS posts_per_user<br>    FROM POSTS P<br>    JOIN USERS U ON P.OWNERUSERID = U.ID<br>    WHERE U.ABOUTME !=&#x27;&#x27;<br></td>\n",
       "    </tr>\n",
       "    <tr>\n",
       "        <td>Cross Table Queries</td>\n",
       "        <td>Not taking into account the commentcount field in the table posts, what are the Top 10 posts in terms of number of comments?</td>\n",
       "        <td><br>SELECT posts.Id as Post_Number, Count(DISTINCT comments.Id) as Number_of_Comments<br>FROM posts<br>INNER JOIN comments ON posts.Id = comments.postId<br>Group by posts.Id<br>Order by Number_of_comments DESC<br>Limit 10;<br></td>\n",
       "    </tr>\n",
       "    <tr>\n",
       "        <td>Cross Table Queries</td>\n",
       "        <td>What are the Top 10 posts which have the highest cummulative (post score + comment score) score?</td>\n",
       "        <td><br>SELECT posts.Id as Post_Id, (sum(comments.score) + posts.score) as Cummulative_score <br>FROM posts<br>INNER JOIN comments ON posts.Id = comments.postId<br>GROUP BY posts.Id<br>ORDER BY Cummulative_score DESC<br>Limit 10;<br></td>\n",
       "    </tr>\n",
       "    <tr>\n",
       "        <td>Cross Table Queries</td>\n",
       "        <td>Who are the top 10 users who comment the most?</td>\n",
       "        <td><br>SELECT users.DisplayName as User, users.Id as User_Id, users.Reputation as Reputation, posts.CommentCount as Number_of_Comments<br>FROM users<br>INNER JOIN comments ON comments.UserId = users.Id<br>INNER JOIN posts ON comments.postId = posts.Id<br>GROUP BY user<br>ORDER BY users.Reputation DESC<br>LIMIT 10;<br></td>\n",
       "    </tr>\n",
       "    <tr>\n",
       "        <td>Cross Table Queries</td>\n",
       "        <td>Who are the top 10 users who post the most?</td>\n",
       "        <td><br>SELECT users.DisplayName as User, users.Id as User_Id, users.Reputation as Reputation, Count(DISTINCT Posts.Id) as Number_of_posts<br>FROM users<br>INNER JOIN comments ON comments.UserId = users.Id<br>INNER JOIN posts ON comments.postId = posts.Id<br>GROUP BY user<br>ORDER BY users.Reputation DESC<br>LIMIT 10;<br></td>\n",
       "    </tr>\n",
       "</table>"
      ],
      "text/plain": [
       "[('Single Table Queries', 'Which 5 users have viewed the most times and what is the sum of those views per user?', '\\nSELECT Id, SUM(Views) AS TotalViews\\n    FROM Users\\n        GROUP BY Id\\n            ORDER BY TotalViews DESC\\n                LIMIT 5\\n                '),\n",
       " ('Creating Tables', 'Create table comments', '\\n    CREATE TABLE \"comments\" (\\n    \"Id\" INTEGER,\\n    \"PostId\" INTEGER,\\n    \"Score\" INTEGER,\\n    \"Text\" TEXT,\\n    \"CreationDate\" TEXT,\\n    \"UserId\" INTEGER\\n    )\\n    '),\n",
       " ('Creating Tables', 'Create table posts', '\\n    CREATE TABLE \"posts\" (\\n    \"Id\" INTEGER NOT NULL PRIMARY KEY,\\n    \"PostTypeId\" INTEGER,\\n    \"AcceptedAnswerId\" INTEGER,\\n    \"ParentId\" INTE ... (321 characters truncated) ... \"AnswerCount\" INTEGER,\\n    \"CommentCount\" INTEGER,\\n    \"FavoriteCount\" INTEGER,\\n    \"ClosedDate\" TEXT,\\n    \"CommunityOwnedDate\" TEXT\\n    )\\n    '),\n",
       " ('Creating Tables', 'Create table users', '\\n    CREATE TABLE \"users\" (\\n    \"Id\" INTEGER NOT NULL PRIMARY KEY,\\n    \"Reputation\" INTEGER,\\n    \"CreationDate\" TEXT,\\n    \"DisplayName\" TEXT,\\n  ... (83 characters truncated) ... Me\" TEXT,\\n    \"Views\" INTEGER,\\n    \"UpVotes\" INTEGER,\\n    \"DownVotes\" INTEGER,\\n    \"ProfileImageUrl\" TEXT,\\n    \"AccountId\" INTEGER\\n    );\\n    '),\n",
       " ('Single Table Queries', 'How many posts have 0 comments?', '\\n  SELECT COUNT(*) FROM posts WHERE CommentCount= 0;\\n    '),\n",
       " ('Single Table Queries', 'How many posts have 1 comments?', '\\nSELECT COUNT(*) FROM posts WHERE CommentCount= 1;\\n'),\n",
       " ('Single Table Queries', 'How many posts have 2 or more comments?', '\\nSELECT COUNT(*) FROM posts WHERE CommentCount >= 2;\\n    '),\n",
       " ('Single Table Queries', 'Find the 5 posts with the highest viewcount', '\\nSELECT Id, SUM(viewcount) AS Highestviews\\n    FROM posts\\n        GROUP BY Id\\n            ORDER BY Highestviews DESC\\n                LIMIT 5\\n                '),\n",
       " ('Single Table Queries', 'Find the top 5 posts with the highest scores', '\\nSELECT Id, SUM(Score) AS Highestscore\\n    FROM posts\\n        GROUP BY Id\\n            ORDER BY Highestscore DESC\\n                LIMIT 5'),\n",
       " ('Single Table Queries', 'What are the 5 most frequent scores on posts?', '\\nSELECT Score, COUNT(Score) AS frequent_scores\\nFROM posts\\nGROUP BY Score\\nORDER BY frequent_scores DESC\\nLIMIT 5;'),\n",
       " ('Single Table Queries', 'How many posts have the keyword data in their tags?', \"\\nSELECT COUNT(*) AS posts_with_data\\nFROM posts\\nWHERE Tags LIKE '%data%';\\n\"),\n",
       " ('Single Table Queries', 'What are the 5 most frequent commentcount for posts?', '\\nSELECT CommentCount, COUNT(*) AS five_most_frequent\\nFROM posts\\nGROUP BY CommentCount\\nORDER BY five_most_frequent DESC\\nLIMIT 5;\\n'),\n",
       " ('Single Table Queries', 'How many posts have an accepted answer? (A post with no accepted answer has a value of 0 for acceptedanswerid)', '\\nSELECT COUNT(*) AS accepted_answers\\nFROM posts\\nWHERE AcceptedAnswerId <> 0;\\n'),\n",
       " ('Single Table Queries', 'What is the average reputation of table users?', '\\nSELECT AVG(Reputation) FROM users\\n'),\n",
       " ('Single Table Queries', 'What are the min and max reputation of users? (split into two cells)', '\\nSELECT MIN(Reputation) FROM users\\nSELECT MAX(Reputation) FROM users;\\n'),\n",
       " ('Single Table Queries', 'What is the length of the body of 5 most viewed posts?', '\\nSELECT Title, ViewCount as View_Count, LENGTH(Body) as Number_of_Characters\\nFROM posts\\nGROUP BY Title\\nORDER BY View_Count DESC\\nLIMIT 5;\\n'),\n",
       " ('Single Table Queries', 'How many different locations are there in the users table?', '\\nSELECT COUNT(DISTINCT Location) FROM users;\\n'),\n",
       " ('Single Table Queries', 'What are the top 5 locations of users?', '\\nSELECT Location, COUNT(Location) Top_Locations\\nFROM users\\nGROUP BY Location\\nORDER BY Top_Locations DESC\\nLIMIT 5;\\n'),\n",
       " ('Single Table Queries', 'Rank the days of the week from highest to lowest in terms of the volume of ViewCount as a percentage.', \"\\nSELECT ROUND(SUM(ViewCount * 100.0)  /\\n     (SELECT SUM(ViewCount) FROM Posts), 2) AS View_Count_Percent,\\n    CASE strftime('%w', CreationDate)\\n ... (200 characters truncated) ...       WHEN '6' THEN 'Saturday'\\n        ELSE 'Unknown'\\n    END AS Day_of_Week\\nFROM posts\\nGROUP BY Day_of_Week\\nORDER BY View_Count_Percent DESC;\\n\"),\n",
       " ('Cross Table Queries', 'How many posts have been created by a user that has a filled out the AboutMe section?', \"\\nSELECT Count(*) AS number_of_posts_with_about_me\\nFROM posts\\nJOIN users ON users.Id = posts.OwnerUserId\\nWHERE users.AboutMe <> '';\\n\"),\n",
       " ('Cross Table Queries', 'Considering only the users with an AboutMe, how many posts are there per user?', \"\\nSELECT COUNT(*) / (SELECT CAST(COUNT(*) AS FLOAT) FROM USERS WHERE ABOUTME !='') AS posts_per_user\\n    FROM POSTS P\\n    JOIN USERS U ON P.OWNERUSERID = U.ID\\n    WHERE U.ABOUTME !=''\\n\"),\n",
       " ('Cross Table Queries', 'Not taking into account the commentcount field in the table posts, what are the Top 10 posts in terms of number of comments?', '\\nSELECT posts.Id as Post_Number, Count(DISTINCT comments.Id) as Number_of_Comments\\nFROM posts\\nINNER JOIN comments ON posts.Id = comments.postId\\nGroup by posts.Id\\nOrder by Number_of_comments DESC\\nLimit 10;\\n'),\n",
       " ('Cross Table Queries', 'What are the Top 10 posts which have the highest cummulative (post score + comment score) score?', '\\nSELECT posts.Id as Post_Id, (sum(comments.score) + posts.score) as Cummulative_score \\nFROM posts\\nINNER JOIN comments ON posts.Id = comments.postId\\nGROUP BY posts.Id\\nORDER BY Cummulative_score DESC\\nLimit 10;\\n'),\n",
       " ('Cross Table Queries', 'Who are the top 10 users who comment the most?', '\\nSELECT users.DisplayName as User, users.Id as User_Id, users.Reputation as Reputation, posts.CommentCount as Number_of_Comments\\nFROM users\\nINNER  ... (2 characters truncated) ... IN comments ON comments.UserId = users.Id\\nINNER JOIN posts ON comments.postId = posts.Id\\nGROUP BY user\\nORDER BY users.Reputation DESC\\nLIMIT 10;\\n'),\n",
       " ('Cross Table Queries', 'Who are the top 10 users who post the most?', '\\nSELECT users.DisplayName as User, users.Id as User_Id, users.Reputation as Reputation, Count(DISTINCT Posts.Id) as Number_of_posts\\nFROM users\\nINN ... (5 characters truncated) ... IN comments ON comments.UserId = users.Id\\nINNER JOIN posts ON comments.postId = posts.Id\\nGROUP BY user\\nORDER BY users.Reputation DESC\\nLIMIT 10;\\n')]"
      ]
     },
     "execution_count": 99,
     "metadata": {},
     "output_type": "execute_result"
    }
   ],
   "source": [
    "%sql SELECT * FROM queries"
   ]
  },
  {
   "cell_type": "markdown",
   "metadata": {},
   "source": [
    "## Drop Duplicates\n",
    "\n",
    "You likely have some duplicates. Lets drop them. "
   ]
  },
  {
   "cell_type": "code",
   "execution_count": 100,
   "metadata": {},
   "outputs": [],
   "source": [
    "# Read the queries table into pandas\n",
    "sql = 'SELECT * FROM queries'\n",
    "queries = pd.read_sql(sql, con)\n",
    "\n",
    "# Drop duplicates\n",
    "queries.drop_duplicates(inplace = True) # drop duplicates"
   ]
  },
  {
   "cell_type": "markdown",
   "metadata": {},
   "source": [
    "## Case Issues"
   ]
  },
  {
   "cell_type": "markdown",
   "metadata": {},
   "source": [
    "Remember, SQL is case insensitive. Pandas IS case sensitive. Lets deal with this now by making all of the text uppercase. "
   ]
  },
  {
   "cell_type": "code",
   "execution_count": 101,
   "metadata": {},
   "outputs": [
    {
     "data": {
      "text/html": [
       "<div>\n",
       "<style scoped>\n",
       "    .dataframe tbody tr th:only-of-type {\n",
       "        vertical-align: middle;\n",
       "    }\n",
       "\n",
       "    .dataframe tbody tr th {\n",
       "        vertical-align: top;\n",
       "    }\n",
       "\n",
       "    .dataframe thead th {\n",
       "        text-align: right;\n",
       "    }\n",
       "</style>\n",
       "<table border=\"1\" class=\"dataframe\">\n",
       "  <thead>\n",
       "    <tr style=\"text-align: right;\">\n",
       "      <th></th>\n",
       "      <th>task</th>\n",
       "      <th>action</th>\n",
       "      <th>query</th>\n",
       "    </tr>\n",
       "  </thead>\n",
       "  <tbody>\n",
       "    <tr>\n",
       "      <th>0</th>\n",
       "      <td>SINGLE TABLE QUERIES</td>\n",
       "      <td>WHICH 5 USERS HAVE VIEWED THE MOST TIMES AND W...</td>\n",
       "      <td>\\nSELECT ID, SUM(VIEWS) AS TOTALVIEWS\\n    FRO...</td>\n",
       "    </tr>\n",
       "    <tr>\n",
       "      <th>1</th>\n",
       "      <td>CREATING TABLES</td>\n",
       "      <td>CREATE TABLE COMMENTS</td>\n",
       "      <td>\\n    CREATE TABLE \"COMMENTS\" (\\n    \"ID\" INTE...</td>\n",
       "    </tr>\n",
       "    <tr>\n",
       "      <th>2</th>\n",
       "      <td>CREATING TABLES</td>\n",
       "      <td>CREATE TABLE POSTS</td>\n",
       "      <td>\\n    CREATE TABLE \"POSTS\" (\\n    \"ID\" INTEGER...</td>\n",
       "    </tr>\n",
       "    <tr>\n",
       "      <th>3</th>\n",
       "      <td>CREATING TABLES</td>\n",
       "      <td>CREATE TABLE USERS</td>\n",
       "      <td>\\n    CREATE TABLE \"USERS\" (\\n    \"ID\" INTEGER...</td>\n",
       "    </tr>\n",
       "    <tr>\n",
       "      <th>4</th>\n",
       "      <td>SINGLE TABLE QUERIES</td>\n",
       "      <td>HOW MANY POSTS HAVE 0 COMMENTS?</td>\n",
       "      <td>\\n  SELECT COUNT(*) FROM POSTS WHERE COMMENTCO...</td>\n",
       "    </tr>\n",
       "    <tr>\n",
       "      <th>5</th>\n",
       "      <td>SINGLE TABLE QUERIES</td>\n",
       "      <td>HOW MANY POSTS HAVE 1 COMMENTS?</td>\n",
       "      <td>\\nSELECT COUNT(*) FROM POSTS WHERE COMMENTCOUN...</td>\n",
       "    </tr>\n",
       "    <tr>\n",
       "      <th>6</th>\n",
       "      <td>SINGLE TABLE QUERIES</td>\n",
       "      <td>HOW MANY POSTS HAVE 2 OR MORE COMMENTS?</td>\n",
       "      <td>\\nSELECT COUNT(*) FROM POSTS WHERE COMMENTCOUN...</td>\n",
       "    </tr>\n",
       "    <tr>\n",
       "      <th>7</th>\n",
       "      <td>SINGLE TABLE QUERIES</td>\n",
       "      <td>FIND THE 5 POSTS WITH THE HIGHEST VIEWCOUNT</td>\n",
       "      <td>\\nSELECT ID, SUM(VIEWCOUNT) AS HIGHESTVIEWS\\n ...</td>\n",
       "    </tr>\n",
       "    <tr>\n",
       "      <th>8</th>\n",
       "      <td>SINGLE TABLE QUERIES</td>\n",
       "      <td>FIND THE TOP 5 POSTS WITH THE HIGHEST SCORES</td>\n",
       "      <td>\\nSELECT ID, SUM(SCORE) AS HIGHESTSCORE\\n    F...</td>\n",
       "    </tr>\n",
       "    <tr>\n",
       "      <th>9</th>\n",
       "      <td>SINGLE TABLE QUERIES</td>\n",
       "      <td>WHAT ARE THE 5 MOST FREQUENT SCORES ON POSTS?</td>\n",
       "      <td>\\nSELECT SCORE, COUNT(SCORE) AS FREQUENT_SCORE...</td>\n",
       "    </tr>\n",
       "    <tr>\n",
       "      <th>10</th>\n",
       "      <td>SINGLE TABLE QUERIES</td>\n",
       "      <td>HOW MANY POSTS HAVE THE KEYWORD DATA IN THEIR ...</td>\n",
       "      <td>\\nSELECT COUNT(*) AS POSTS_WITH_DATA\\nFROM POS...</td>\n",
       "    </tr>\n",
       "    <tr>\n",
       "      <th>11</th>\n",
       "      <td>SINGLE TABLE QUERIES</td>\n",
       "      <td>WHAT ARE THE 5 MOST FREQUENT COMMENTCOUNT FOR ...</td>\n",
       "      <td>\\nSELECT COMMENTCOUNT, COUNT(*) AS FIVE_MOST_F...</td>\n",
       "    </tr>\n",
       "    <tr>\n",
       "      <th>12</th>\n",
       "      <td>SINGLE TABLE QUERIES</td>\n",
       "      <td>HOW MANY POSTS HAVE AN ACCEPTED ANSWER? (A POS...</td>\n",
       "      <td>\\nSELECT COUNT(*) AS ACCEPTED_ANSWERS\\nFROM PO...</td>\n",
       "    </tr>\n",
       "    <tr>\n",
       "      <th>13</th>\n",
       "      <td>SINGLE TABLE QUERIES</td>\n",
       "      <td>WHAT IS THE AVERAGE REPUTATION OF TABLE USERS?</td>\n",
       "      <td>\\nSELECT AVG(REPUTATION) FROM USERS\\n</td>\n",
       "    </tr>\n",
       "    <tr>\n",
       "      <th>14</th>\n",
       "      <td>SINGLE TABLE QUERIES</td>\n",
       "      <td>WHAT ARE THE MIN AND MAX REPUTATION OF USERS? ...</td>\n",
       "      <td>\\nSELECT MIN(REPUTATION) FROM USERS\\nSELECT MA...</td>\n",
       "    </tr>\n",
       "    <tr>\n",
       "      <th>15</th>\n",
       "      <td>SINGLE TABLE QUERIES</td>\n",
       "      <td>WHAT IS THE LENGTH OF THE BODY OF 5 MOST VIEWE...</td>\n",
       "      <td>\\nSELECT TITLE, VIEWCOUNT AS VIEW_COUNT, LENGT...</td>\n",
       "    </tr>\n",
       "    <tr>\n",
       "      <th>16</th>\n",
       "      <td>SINGLE TABLE QUERIES</td>\n",
       "      <td>HOW MANY DIFFERENT LOCATIONS ARE THERE IN THE ...</td>\n",
       "      <td>\\nSELECT COUNT(DISTINCT LOCATION) FROM USERS;\\n</td>\n",
       "    </tr>\n",
       "    <tr>\n",
       "      <th>17</th>\n",
       "      <td>SINGLE TABLE QUERIES</td>\n",
       "      <td>WHAT ARE THE TOP 5 LOCATIONS OF USERS?</td>\n",
       "      <td>\\nSELECT LOCATION, COUNT(LOCATION) TOP_LOCATIO...</td>\n",
       "    </tr>\n",
       "    <tr>\n",
       "      <th>18</th>\n",
       "      <td>SINGLE TABLE QUERIES</td>\n",
       "      <td>RANK THE DAYS OF THE WEEK FROM HIGHEST TO LOWE...</td>\n",
       "      <td>\\nSELECT ROUND(SUM(VIEWCOUNT * 100.0)  /\\n    ...</td>\n",
       "    </tr>\n",
       "    <tr>\n",
       "      <th>19</th>\n",
       "      <td>CROSS TABLE QUERIES</td>\n",
       "      <td>HOW MANY POSTS HAVE BEEN CREATED BY A USER THA...</td>\n",
       "      <td>\\nSELECT COUNT(*) AS NUMBER_OF_POSTS_WITH_ABOU...</td>\n",
       "    </tr>\n",
       "    <tr>\n",
       "      <th>20</th>\n",
       "      <td>CROSS TABLE QUERIES</td>\n",
       "      <td>CONSIDERING ONLY THE USERS WITH AN ABOUTME, HO...</td>\n",
       "      <td>\\nSELECT COUNT(*) / (SELECT CAST(COUNT(*) AS F...</td>\n",
       "    </tr>\n",
       "    <tr>\n",
       "      <th>21</th>\n",
       "      <td>CROSS TABLE QUERIES</td>\n",
       "      <td>NOT TAKING INTO ACCOUNT THE COMMENTCOUNT FIELD...</td>\n",
       "      <td>\\nSELECT POSTS.ID AS POST_NUMBER, COUNT(DISTIN...</td>\n",
       "    </tr>\n",
       "    <tr>\n",
       "      <th>22</th>\n",
       "      <td>CROSS TABLE QUERIES</td>\n",
       "      <td>WHAT ARE THE TOP 10 POSTS WHICH HAVE THE HIGHE...</td>\n",
       "      <td>\\nSELECT POSTS.ID AS POST_ID, (SUM(COMMENTS.SC...</td>\n",
       "    </tr>\n",
       "    <tr>\n",
       "      <th>23</th>\n",
       "      <td>CROSS TABLE QUERIES</td>\n",
       "      <td>WHO ARE THE TOP 10 USERS WHO COMMENT THE MOST?</td>\n",
       "      <td>\\nSELECT USERS.DISPLAYNAME AS USER, USERS.ID A...</td>\n",
       "    </tr>\n",
       "    <tr>\n",
       "      <th>24</th>\n",
       "      <td>CROSS TABLE QUERIES</td>\n",
       "      <td>WHO ARE THE TOP 10 USERS WHO POST THE MOST?</td>\n",
       "      <td>\\nSELECT USERS.DISPLAYNAME AS USER, USERS.ID A...</td>\n",
       "    </tr>\n",
       "  </tbody>\n",
       "</table>\n",
       "</div>"
      ],
      "text/plain": [
       "                    task                                             action  \\\n",
       "0   SINGLE TABLE QUERIES  WHICH 5 USERS HAVE VIEWED THE MOST TIMES AND W...   \n",
       "1        CREATING TABLES                              CREATE TABLE COMMENTS   \n",
       "2        CREATING TABLES                                 CREATE TABLE POSTS   \n",
       "3        CREATING TABLES                                 CREATE TABLE USERS   \n",
       "4   SINGLE TABLE QUERIES                    HOW MANY POSTS HAVE 0 COMMENTS?   \n",
       "5   SINGLE TABLE QUERIES                    HOW MANY POSTS HAVE 1 COMMENTS?   \n",
       "6   SINGLE TABLE QUERIES            HOW MANY POSTS HAVE 2 OR MORE COMMENTS?   \n",
       "7   SINGLE TABLE QUERIES        FIND THE 5 POSTS WITH THE HIGHEST VIEWCOUNT   \n",
       "8   SINGLE TABLE QUERIES       FIND THE TOP 5 POSTS WITH THE HIGHEST SCORES   \n",
       "9   SINGLE TABLE QUERIES      WHAT ARE THE 5 MOST FREQUENT SCORES ON POSTS?   \n",
       "10  SINGLE TABLE QUERIES  HOW MANY POSTS HAVE THE KEYWORD DATA IN THEIR ...   \n",
       "11  SINGLE TABLE QUERIES  WHAT ARE THE 5 MOST FREQUENT COMMENTCOUNT FOR ...   \n",
       "12  SINGLE TABLE QUERIES  HOW MANY POSTS HAVE AN ACCEPTED ANSWER? (A POS...   \n",
       "13  SINGLE TABLE QUERIES     WHAT IS THE AVERAGE REPUTATION OF TABLE USERS?   \n",
       "14  SINGLE TABLE QUERIES  WHAT ARE THE MIN AND MAX REPUTATION OF USERS? ...   \n",
       "15  SINGLE TABLE QUERIES  WHAT IS THE LENGTH OF THE BODY OF 5 MOST VIEWE...   \n",
       "16  SINGLE TABLE QUERIES  HOW MANY DIFFERENT LOCATIONS ARE THERE IN THE ...   \n",
       "17  SINGLE TABLE QUERIES             WHAT ARE THE TOP 5 LOCATIONS OF USERS?   \n",
       "18  SINGLE TABLE QUERIES  RANK THE DAYS OF THE WEEK FROM HIGHEST TO LOWE...   \n",
       "19   CROSS TABLE QUERIES  HOW MANY POSTS HAVE BEEN CREATED BY A USER THA...   \n",
       "20   CROSS TABLE QUERIES  CONSIDERING ONLY THE USERS WITH AN ABOUTME, HO...   \n",
       "21   CROSS TABLE QUERIES  NOT TAKING INTO ACCOUNT THE COMMENTCOUNT FIELD...   \n",
       "22   CROSS TABLE QUERIES  WHAT ARE THE TOP 10 POSTS WHICH HAVE THE HIGHE...   \n",
       "23   CROSS TABLE QUERIES     WHO ARE THE TOP 10 USERS WHO COMMENT THE MOST?   \n",
       "24   CROSS TABLE QUERIES        WHO ARE THE TOP 10 USERS WHO POST THE MOST?   \n",
       "\n",
       "                                                query  \n",
       "0   \\nSELECT ID, SUM(VIEWS) AS TOTALVIEWS\\n    FRO...  \n",
       "1   \\n    CREATE TABLE \"COMMENTS\" (\\n    \"ID\" INTE...  \n",
       "2   \\n    CREATE TABLE \"POSTS\" (\\n    \"ID\" INTEGER...  \n",
       "3   \\n    CREATE TABLE \"USERS\" (\\n    \"ID\" INTEGER...  \n",
       "4   \\n  SELECT COUNT(*) FROM POSTS WHERE COMMENTCO...  \n",
       "5   \\nSELECT COUNT(*) FROM POSTS WHERE COMMENTCOUN...  \n",
       "6   \\nSELECT COUNT(*) FROM POSTS WHERE COMMENTCOUN...  \n",
       "7   \\nSELECT ID, SUM(VIEWCOUNT) AS HIGHESTVIEWS\\n ...  \n",
       "8   \\nSELECT ID, SUM(SCORE) AS HIGHESTSCORE\\n    F...  \n",
       "9   \\nSELECT SCORE, COUNT(SCORE) AS FREQUENT_SCORE...  \n",
       "10  \\nSELECT COUNT(*) AS POSTS_WITH_DATA\\nFROM POS...  \n",
       "11  \\nSELECT COMMENTCOUNT, COUNT(*) AS FIVE_MOST_F...  \n",
       "12  \\nSELECT COUNT(*) AS ACCEPTED_ANSWERS\\nFROM PO...  \n",
       "13              \\nSELECT AVG(REPUTATION) FROM USERS\\n  \n",
       "14  \\nSELECT MIN(REPUTATION) FROM USERS\\nSELECT MA...  \n",
       "15  \\nSELECT TITLE, VIEWCOUNT AS VIEW_COUNT, LENGT...  \n",
       "16    \\nSELECT COUNT(DISTINCT LOCATION) FROM USERS;\\n  \n",
       "17  \\nSELECT LOCATION, COUNT(LOCATION) TOP_LOCATIO...  \n",
       "18  \\nSELECT ROUND(SUM(VIEWCOUNT * 100.0)  /\\n    ...  \n",
       "19  \\nSELECT COUNT(*) AS NUMBER_OF_POSTS_WITH_ABOU...  \n",
       "20  \\nSELECT COUNT(*) / (SELECT CAST(COUNT(*) AS F...  \n",
       "21  \\nSELECT POSTS.ID AS POST_NUMBER, COUNT(DISTIN...  \n",
       "22  \\nSELECT POSTS.ID AS POST_ID, (SUM(COMMENTS.SC...  \n",
       "23  \\nSELECT USERS.DISPLAYNAME AS USER, USERS.ID A...  \n",
       "24  \\nSELECT USERS.DISPLAYNAME AS USER, USERS.ID A...  "
      ]
     },
     "execution_count": 101,
     "metadata": {},
     "output_type": "execute_result"
    }
   ],
   "source": [
    "for col in queries.columns:\n",
    "    queries[col] = queries[col].str.upper()\n",
    "    \n",
    "queries"
   ]
  },
  {
   "cell_type": "code",
   "execution_count": 102,
   "metadata": {},
   "outputs": [],
   "source": [
    "# Write the now deduped uppercase dataframe back to sqlite and replace the table\n",
    "queries.to_sql('queries', con, if_exists='replace', index=False)"
   ]
  },
  {
   "cell_type": "markdown",
   "metadata": {},
   "source": [
    "## Use Case\n",
    "\n",
    "Now that we have this queries table, lets give you some ideas about how you would use it.\n",
    "\n",
    "Suppose you wanted to find all of the queries where you did a GROUP BY:"
   ]
  },
  {
   "cell_type": "code",
   "execution_count": 103,
   "metadata": {},
   "outputs": [
    {
     "name": "stdout",
     "output_type": "stream",
     "text": [
      " * sqlite:///chatdata.db\n",
      "Done.\n"
     ]
    },
    {
     "data": {
      "text/html": [
       "<table>\n",
       "    <tr>\n",
       "        <th>query</th>\n",
       "    </tr>\n",
       "    <tr>\n",
       "        <td><br>SELECT ID, SUM(VIEWS) AS TOTALVIEWS<br>    FROM USERS<br>        GROUP BY ID<br>            ORDER BY TOTALVIEWS DESC<br>                LIMIT 5<br>                </td>\n",
       "    </tr>\n",
       "    <tr>\n",
       "        <td><br>SELECT ID, SUM(VIEWCOUNT) AS HIGHESTVIEWS<br>    FROM POSTS<br>        GROUP BY ID<br>            ORDER BY HIGHESTVIEWS DESC<br>                LIMIT 5<br>                </td>\n",
       "    </tr>\n",
       "    <tr>\n",
       "        <td><br>SELECT ID, SUM(SCORE) AS HIGHESTSCORE<br>    FROM POSTS<br>        GROUP BY ID<br>            ORDER BY HIGHESTSCORE DESC<br>                LIMIT 5</td>\n",
       "    </tr>\n",
       "    <tr>\n",
       "        <td><br>SELECT SCORE, COUNT(SCORE) AS FREQUENT_SCORES<br>FROM POSTS<br>GROUP BY SCORE<br>ORDER BY FREQUENT_SCORES DESC<br>LIMIT 5;</td>\n",
       "    </tr>\n",
       "    <tr>\n",
       "        <td><br>SELECT COMMENTCOUNT, COUNT(*) AS FIVE_MOST_FREQUENT<br>FROM POSTS<br>GROUP BY COMMENTCOUNT<br>ORDER BY FIVE_MOST_FREQUENT DESC<br>LIMIT 5;<br></td>\n",
       "    </tr>\n",
       "    <tr>\n",
       "        <td><br>SELECT TITLE, VIEWCOUNT AS VIEW_COUNT, LENGTH(BODY) AS NUMBER_OF_CHARACTERS<br>FROM POSTS<br>GROUP BY TITLE<br>ORDER BY VIEW_COUNT DESC<br>LIMIT 5;<br></td>\n",
       "    </tr>\n",
       "    <tr>\n",
       "        <td><br>SELECT LOCATION, COUNT(LOCATION) TOP_LOCATIONS<br>FROM USERS<br>GROUP BY LOCATION<br>ORDER BY TOP_LOCATIONS DESC<br>LIMIT 5;<br></td>\n",
       "    </tr>\n",
       "    <tr>\n",
       "        <td><br>SELECT ROUND(SUM(VIEWCOUNT * 100.0)  /<br>     (SELECT SUM(VIEWCOUNT) FROM POSTS), 2) AS VIEW_COUNT_PERCENT,<br>    CASE STRFTIME(&#x27;%W&#x27;, CREATIONDATE)<br>        WHEN &#x27;0&#x27; THEN &#x27;SUNDAY&#x27;<br>        WHEN &#x27;1&#x27; THEN &#x27;MONDAY&#x27;<br>        WHEN &#x27;2&#x27; THEN &#x27;TUESDAY&#x27;<br>        WHEN &#x27;3&#x27; THEN &#x27;WEDNESDAY&#x27;<br>        WHEN &#x27;4&#x27; THEN &#x27;THURSDAY&#x27;<br>        WHEN &#x27;5&#x27; THEN &#x27;FRIDAY&#x27;<br>        WHEN &#x27;6&#x27; THEN &#x27;SATURDAY&#x27;<br>        ELSE &#x27;UNKNOWN&#x27;<br>    END AS DAY_OF_WEEK<br>FROM POSTS<br>GROUP BY DAY_OF_WEEK<br>ORDER BY VIEW_COUNT_PERCENT DESC;<br></td>\n",
       "    </tr>\n",
       "    <tr>\n",
       "        <td><br>SELECT POSTS.ID AS POST_NUMBER, COUNT(DISTINCT COMMENTS.ID) AS NUMBER_OF_COMMENTS<br>FROM POSTS<br>INNER JOIN COMMENTS ON POSTS.ID = COMMENTS.POSTID<br>GROUP BY POSTS.ID<br>ORDER BY NUMBER_OF_COMMENTS DESC<br>LIMIT 10;<br></td>\n",
       "    </tr>\n",
       "    <tr>\n",
       "        <td><br>SELECT POSTS.ID AS POST_ID, (SUM(COMMENTS.SCORE) + POSTS.SCORE) AS CUMMULATIVE_SCORE <br>FROM POSTS<br>INNER JOIN COMMENTS ON POSTS.ID = COMMENTS.POSTID<br>GROUP BY POSTS.ID<br>ORDER BY CUMMULATIVE_SCORE DESC<br>LIMIT 10;<br></td>\n",
       "    </tr>\n",
       "    <tr>\n",
       "        <td><br>SELECT USERS.DISPLAYNAME AS USER, USERS.ID AS USER_ID, USERS.REPUTATION AS REPUTATION, POSTS.COMMENTCOUNT AS NUMBER_OF_COMMENTS<br>FROM USERS<br>INNER JOIN COMMENTS ON COMMENTS.USERID = USERS.ID<br>INNER JOIN POSTS ON COMMENTS.POSTID = POSTS.ID<br>GROUP BY USER<br>ORDER BY USERS.REPUTATION DESC<br>LIMIT 10;<br></td>\n",
       "    </tr>\n",
       "    <tr>\n",
       "        <td><br>SELECT USERS.DISPLAYNAME AS USER, USERS.ID AS USER_ID, USERS.REPUTATION AS REPUTATION, COUNT(DISTINCT POSTS.ID) AS NUMBER_OF_POSTS<br>FROM USERS<br>INNER JOIN COMMENTS ON COMMENTS.USERID = USERS.ID<br>INNER JOIN POSTS ON COMMENTS.POSTID = POSTS.ID<br>GROUP BY USER<br>ORDER BY USERS.REPUTATION DESC<br>LIMIT 10;<br></td>\n",
       "    </tr>\n",
       "</table>"
      ],
      "text/plain": [
       "[('\\nSELECT ID, SUM(VIEWS) AS TOTALVIEWS\\n    FROM USERS\\n        GROUP BY ID\\n            ORDER BY TOTALVIEWS DESC\\n                LIMIT 5\\n                ',),\n",
       " ('\\nSELECT ID, SUM(VIEWCOUNT) AS HIGHESTVIEWS\\n    FROM POSTS\\n        GROUP BY ID\\n            ORDER BY HIGHESTVIEWS DESC\\n                LIMIT 5\\n                ',),\n",
       " ('\\nSELECT ID, SUM(SCORE) AS HIGHESTSCORE\\n    FROM POSTS\\n        GROUP BY ID\\n            ORDER BY HIGHESTSCORE DESC\\n                LIMIT 5',),\n",
       " ('\\nSELECT SCORE, COUNT(SCORE) AS FREQUENT_SCORES\\nFROM POSTS\\nGROUP BY SCORE\\nORDER BY FREQUENT_SCORES DESC\\nLIMIT 5;',),\n",
       " ('\\nSELECT COMMENTCOUNT, COUNT(*) AS FIVE_MOST_FREQUENT\\nFROM POSTS\\nGROUP BY COMMENTCOUNT\\nORDER BY FIVE_MOST_FREQUENT DESC\\nLIMIT 5;\\n',),\n",
       " ('\\nSELECT TITLE, VIEWCOUNT AS VIEW_COUNT, LENGTH(BODY) AS NUMBER_OF_CHARACTERS\\nFROM POSTS\\nGROUP BY TITLE\\nORDER BY VIEW_COUNT DESC\\nLIMIT 5;\\n',),\n",
       " ('\\nSELECT LOCATION, COUNT(LOCATION) TOP_LOCATIONS\\nFROM USERS\\nGROUP BY LOCATION\\nORDER BY TOP_LOCATIONS DESC\\nLIMIT 5;\\n',),\n",
       " (\"\\nSELECT ROUND(SUM(VIEWCOUNT * 100.0)  /\\n     (SELECT SUM(VIEWCOUNT) FROM POSTS), 2) AS VIEW_COUNT_PERCENT,\\n    CASE STRFTIME('%W', CREATIONDATE)\\n ... (200 characters truncated) ...       WHEN '6' THEN 'SATURDAY'\\n        ELSE 'UNKNOWN'\\n    END AS DAY_OF_WEEK\\nFROM POSTS\\nGROUP BY DAY_OF_WEEK\\nORDER BY VIEW_COUNT_PERCENT DESC;\\n\",),\n",
       " ('\\nSELECT POSTS.ID AS POST_NUMBER, COUNT(DISTINCT COMMENTS.ID) AS NUMBER_OF_COMMENTS\\nFROM POSTS\\nINNER JOIN COMMENTS ON POSTS.ID = COMMENTS.POSTID\\nGROUP BY POSTS.ID\\nORDER BY NUMBER_OF_COMMENTS DESC\\nLIMIT 10;\\n',),\n",
       " ('\\nSELECT POSTS.ID AS POST_ID, (SUM(COMMENTS.SCORE) + POSTS.SCORE) AS CUMMULATIVE_SCORE \\nFROM POSTS\\nINNER JOIN COMMENTS ON POSTS.ID = COMMENTS.POSTID\\nGROUP BY POSTS.ID\\nORDER BY CUMMULATIVE_SCORE DESC\\nLIMIT 10;\\n',),\n",
       " ('\\nSELECT USERS.DISPLAYNAME AS USER, USERS.ID AS USER_ID, USERS.REPUTATION AS REPUTATION, POSTS.COMMENTCOUNT AS NUMBER_OF_COMMENTS\\nFROM USERS\\nINNER  ... (2 characters truncated) ... IN COMMENTS ON COMMENTS.USERID = USERS.ID\\nINNER JOIN POSTS ON COMMENTS.POSTID = POSTS.ID\\nGROUP BY USER\\nORDER BY USERS.REPUTATION DESC\\nLIMIT 10;\\n',),\n",
       " ('\\nSELECT USERS.DISPLAYNAME AS USER, USERS.ID AS USER_ID, USERS.REPUTATION AS REPUTATION, COUNT(DISTINCT POSTS.ID) AS NUMBER_OF_POSTS\\nFROM USERS\\nINN ... (5 characters truncated) ... IN COMMENTS ON COMMENTS.USERID = USERS.ID\\nINNER JOIN POSTS ON COMMENTS.POSTID = POSTS.ID\\nGROUP BY USER\\nORDER BY USERS.REPUTATION DESC\\nLIMIT 10;\\n',)]"
      ]
     },
     "execution_count": 103,
     "metadata": {},
     "output_type": "execute_result"
    }
   ],
   "source": [
    "%%sql\n",
    "SELECT query\n",
    "    FROM queries\n",
    "        WHERE query LIKE '%GROUP BY%'"
   ]
  },
  {
   "cell_type": "markdown",
   "metadata": {},
   "source": [
    "## Now Your Turn\n",
    "Find the queries that have 'DISTINCT' in them. You can do it with the %sql command or with Pandas and sql.\n",
    "\n",
    "<div style=\"background-color:lemonchiffon; border:1px solid; padding:5px; margin:5px; font-weight:bold\"><font color=\"crimson\">\n",
    "TODO: Complete the following code cell\n",
    "    </font></div>"
   ]
  },
  {
   "cell_type": "code",
   "execution_count": 104,
   "metadata": {},
   "outputs": [
    {
     "name": "stdout",
     "output_type": "stream",
     "text": [
      " * sqlite:///chatdata.db\n",
      "Done.\n"
     ]
    },
    {
     "data": {
      "text/html": [
       "<table>\n",
       "    <tr>\n",
       "        <th>query</th>\n",
       "    </tr>\n",
       "    <tr>\n",
       "        <td><br>SELECT COUNT(DISTINCT LOCATION) FROM USERS;<br></td>\n",
       "    </tr>\n",
       "    <tr>\n",
       "        <td><br>SELECT POSTS.ID AS POST_NUMBER, COUNT(DISTINCT COMMENTS.ID) AS NUMBER_OF_COMMENTS<br>FROM POSTS<br>INNER JOIN COMMENTS ON POSTS.ID = COMMENTS.POSTID<br>GROUP BY POSTS.ID<br>ORDER BY NUMBER_OF_COMMENTS DESC<br>LIMIT 10;<br></td>\n",
       "    </tr>\n",
       "    <tr>\n",
       "        <td><br>SELECT USERS.DISPLAYNAME AS USER, USERS.ID AS USER_ID, USERS.REPUTATION AS REPUTATION, COUNT(DISTINCT POSTS.ID) AS NUMBER_OF_POSTS<br>FROM USERS<br>INNER JOIN COMMENTS ON COMMENTS.USERID = USERS.ID<br>INNER JOIN POSTS ON COMMENTS.POSTID = POSTS.ID<br>GROUP BY USER<br>ORDER BY USERS.REPUTATION DESC<br>LIMIT 10;<br></td>\n",
       "    </tr>\n",
       "</table>"
      ],
      "text/plain": [
       "[('\\nSELECT COUNT(DISTINCT LOCATION) FROM USERS;\\n',),\n",
       " ('\\nSELECT POSTS.ID AS POST_NUMBER, COUNT(DISTINCT COMMENTS.ID) AS NUMBER_OF_COMMENTS\\nFROM POSTS\\nINNER JOIN COMMENTS ON POSTS.ID = COMMENTS.POSTID\\nGROUP BY POSTS.ID\\nORDER BY NUMBER_OF_COMMENTS DESC\\nLIMIT 10;\\n',),\n",
       " ('\\nSELECT USERS.DISPLAYNAME AS USER, USERS.ID AS USER_ID, USERS.REPUTATION AS REPUTATION, COUNT(DISTINCT POSTS.ID) AS NUMBER_OF_POSTS\\nFROM USERS\\nINN ... (5 characters truncated) ... IN COMMENTS ON COMMENTS.USERID = USERS.ID\\nINNER JOIN POSTS ON COMMENTS.POSTID = POSTS.ID\\nGROUP BY USER\\nORDER BY USERS.REPUTATION DESC\\nLIMIT 10;\\n',)]"
      ]
     },
     "execution_count": 104,
     "metadata": {},
     "output_type": "execute_result"
    }
   ],
   "source": [
    "%%sql\n",
    "SELECT query\n",
    "    FROM queries\n",
    "        WHERE query LIKE '%DISTINCT%'"
   ]
  },
  {
   "cell_type": "markdown",
   "metadata": {},
   "source": [
    "# Close SQLite\n",
    "\n",
    "It is good practise to close all relational databases as soon as you are finished updating them."
   ]
  },
  {
   "cell_type": "code",
   "execution_count": 105,
   "metadata": {},
   "outputs": [],
   "source": [
    "con.close()"
   ]
  },
  {
   "cell_type": "markdown",
   "metadata": {},
   "source": [
    "# All Done!\n",
    "\n",
    "Great job. You now have a good idea for how to use sql and pandas with sql. You can create your own databases from csv files and you can do extensive querying using sql. These are valuable skills that will take you a long ways in todays technological world."
   ]
  }
 ],
 "metadata": {
  "kernelspec": {
   "display_name": "Python 3",
   "language": "python",
   "name": "python3"
  },
  "language_info": {
   "codemirror_mode": {
    "name": "ipython",
    "version": 3
   },
   "file_extension": ".py",
   "mimetype": "text/x-python",
   "name": "python",
   "nbconvert_exporter": "python",
   "pygments_lexer": "ipython3",
   "version": "3.7.3"
  },
  "toc": {
   "base_numbering": 1,
   "nav_menu": {},
   "number_sections": true,
   "sideBar": true,
   "skip_h1_title": false,
   "title_cell": "Table of Contents",
   "title_sidebar": "Contents",
   "toc_cell": false,
   "toc_position": {
    "height": "calc(100% - 180px)",
    "left": "10px",
    "top": "150px",
    "width": "293.993px"
   },
   "toc_section_display": true,
   "toc_window_display": true
  }
 },
 "nbformat": 4,
 "nbformat_minor": 4
}
